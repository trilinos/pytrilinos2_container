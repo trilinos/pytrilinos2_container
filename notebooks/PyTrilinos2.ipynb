{
 "cells": [
  {
   "cell_type": "markdown",
   "id": "8685ac5e-8a32-48fd-a7af-5c81c60fcb87",
   "metadata": {},
   "source": [
    "# PyTrilinos2 tutorial"
   ]
  },
  {
   "cell_type": "markdown",
   "id": "a5b4a255-31ce-4e23-bdb3-4e6ba38df37c",
   "metadata": {},
   "source": [
    "We will use the Python interface of Trilinos (PyTrilinos2) to set up and solve a linear system (using Tpetra and Thyra) using different linear solvers and preconditioners from Amesos2, Belos, Ifpack2 and MueLu."
   ]
  },
  {
   "cell_type": "markdown",
   "id": "c794c8e9-d6af-4f0f-aff9-dd9be78553d7",
   "metadata": {},
   "source": [
    "We first set up a MPI communicator and an output stream. The MPI communicator has size 1 for now."
   ]
  },
  {
   "cell_type": "code",
   "execution_count": 1,
   "id": "42e0cbc9-f0f5-4423-aa72-24a036e8827a",
   "metadata": {},
   "outputs": [],
   "source": [
    "%matplotlib inline\n",
    "import numpy as np\n",
    "import scipy as sp\n",
    "import matplotlib.pyplot as plt\n",
    "# get C-level cout to display\n",
    "%load_ext wurlitzer"
   ]
  },
  {
   "cell_type": "code",
   "execution_count": 2,
   "id": "db11c226-1fe3-429b-9c8e-ad84408cdcaa",
   "metadata": {},
   "outputs": [
    {
     "name": "stdout",
     "output_type": "stream",
     "text": [
      "Comm size 1\n"
     ]
    }
   ],
   "source": [
    "from mpi4py import MPI\n",
    "from PyTrilinos2 import Teuchos\n",
    "\n",
    "comm = Teuchos.getTeuchosComm(MPI.COMM_WORLD)\n",
    "out = Teuchos.fancyOStream(Teuchos.getCout())\n",
    "print(\"Comm size\", comm.getSize())"
   ]
  },
  {
   "cell_type": "markdown",
   "id": "6a80f23c-f797-44bd-9f8c-57beb38e3343",
   "metadata": {},
   "source": [
    "The Tpetra package provides sparse linear algebra."
   ]
  },
  {
   "cell_type": "code",
   "execution_count": 3,
   "id": "8e8e5b8f-01f5-4081-9505-aac16e7f80b6",
   "metadata": {},
   "outputs": [],
   "source": [
    "from PyTrilinos2 import Tpetra"
   ]
  },
  {
   "cell_type": "markdown",
   "id": "d36e40f4-3acc-4b26-b8fe-961e17ad35e7",
   "metadata": {},
   "source": [
    "Tpetra linear algebra classes are templated on\n",
    "- scalar type, e.g. `double`, `float`, `std::complex<double>`\n",
    "- local ordinal type, normally `int`\n",
    "- global ordinal type, normally `long long`\n",
    "- node type, a combination of a Kokkos execution space and memory space.\n",
    "  \n",
    "Python does not have templates, so templated classes are exposed with template parameters as suffixes:"
   ]
  },
  {
   "cell_type": "code",
   "execution_count": 4,
   "id": "1e3d05ba-e88a-4eee-9d9e-2f1fbc34fb3c",
   "metadata": {},
   "outputs": [
    {
     "data": {
      "text/plain": [
       "PyTrilinos2.PyTrilinos2.Tpetra.Map_int_long_long_Tpetra_KokkosCompat_KokkosDeviceWrapperNode_Kokkos_Serial_t"
      ]
     },
     "execution_count": 4,
     "metadata": {},
     "output_type": "execute_result"
    }
   ],
   "source": [
    "Tpetra.Map_int_long_long_Tpetra_KokkosCompat_KokkosDeviceWrapperNode_Kokkos_Serial_t"
   ]
  },
  {
   "cell_type": "markdown",
   "id": "134f9811-9166-4935-9002-30be6bc80d60",
   "metadata": {},
   "source": [
    "Since that's not very convenient (and differs from C++) we have some helper classes:"
   ]
  },
  {
   "cell_type": "code",
   "execution_count": 5,
   "id": "5a083f26-f35c-43c0-8ce6-8d07102f8257",
   "metadata": {},
   "outputs": [
    {
     "data": {
      "text/plain": [
       "PyTrilinos2.PyTrilinos2.Tpetra.Map_int_long_long_Tpetra_KokkosCompat_KokkosDeviceWrapperNode_Kokkos_Serial_t"
      ]
     },
     "execution_count": 5,
     "metadata": {},
     "output_type": "execute_result"
    }
   ],
   "source": [
    "Tpetra.Map['int', 'long long', 'serial']"
   ]
  },
  {
   "cell_type": "markdown",
   "id": "ab42d242-274a-40ac-8073-f21b2d02f450",
   "metadata": {},
   "source": [
    "We can leverage default values for template arguments to further simplify:"
   ]
  },
  {
   "cell_type": "code",
   "execution_count": 6,
   "id": "25c6cb87-0dd0-4901-9228-c934ba938945",
   "metadata": {},
   "outputs": [
    {
     "data": {
      "text/plain": [
       "PyTrilinos2.PyTrilinos2.Tpetra.Map_int_long_long_Tpetra_KokkosCompat_KokkosDeviceWrapperNode_Kokkos_Serial_t"
      ]
     },
     "execution_count": 6,
     "metadata": {},
     "output_type": "execute_result"
    }
   ],
   "source": [
    "Tpetra.Map['int']"
   ]
  },
  {
   "cell_type": "code",
   "execution_count": 7,
   "id": "14c22722-beb3-4fd8-a920-9c1082f626b3",
   "metadata": {},
   "outputs": [
    {
     "data": {
      "text/plain": [
       "PyTrilinos2.PyTrilinos2.Tpetra.Map_int_long_long_Tpetra_KokkosCompat_KokkosDeviceWrapperNode_Kokkos_Serial_t"
      ]
     },
     "execution_count": 7,
     "metadata": {},
     "output_type": "execute_result"
    }
   ],
   "source": [
    "Tpetra.Map[()]  # no arguments specified, note ()"
   ]
  },
  {
   "cell_type": "markdown",
   "id": "e732b06c-b1a1-4b35-937c-473458315553",
   "metadata": {},
   "source": [
    "We set up a linear system\n",
    "$$A x = b$$"
   ]
  },
  {
   "cell_type": "code",
   "execution_count": 8,
   "id": "ce93a292-e1e6-4745-982f-83e0b2e98ec1",
   "metadata": {},
   "outputs": [
    {
     "name": "stdout",
     "output_type": "stream",
     "text": [
      "|Ax-b|_2 = 31.622776601683793\n"
     ]
    }
   ],
   "source": [
    "def assemble1DLaplacian(rowmap):\n",
    "    from PyTrilinos2 import Tpetra\n",
    "\n",
    "    A = Tpetra.CrsMatrix[()](rowmap, 3)\n",
    "    for lid in range(rowmap.getMinLocalIndex(), rowmap.getMaxLocalIndex()+1):\n",
    "        gid = rowmap.getGlobalElement(lid)\n",
    "        indices = [gid]\n",
    "        vals = [2.]\n",
    "        if gid > 0:\n",
    "            indices.append(gid-1)\n",
    "            vals.append(-1.)\n",
    "        if gid < rowmap.getMaxAllGlobalIndex():\n",
    "            indices.append(gid+1)\n",
    "            vals.append(-1.)\n",
    "        A.insertGlobalValues(gid, indices, vals)\n",
    "    A.fillComplete()\n",
    "    return A\n",
    "\n",
    "numRows = 1000\n",
    "tpetra_map = Tpetra.Map[()](numGlobalElements=numRows, numLocalElements=numRows, indexBase=0, comm=comm)    \n",
    "tpetra_A = assemble1DLaplacian(tpetra_map)\n",
    "\n",
    "tpetra_b = Tpetra.Vector['double'](tpetra_A.getRangeMap())\n",
    "tpetra_x = Tpetra.Vector['double'](tpetra_A.getDomainMap())\n",
    "tpetra_b.putScalar(1.0)\n",
    "tpetra_x.putScalar(0.0)\n",
    "\n",
    "# compute the residual and check that x does not solve the system already\n",
    "tpetra_residual = Tpetra.Vector['double'](tpetra_A.getRangeMap())\n",
    "tpetra_A.apply(tpetra_x, tpetra_residual)\n",
    "tpetra_residual.update(1.0, tpetra_b, -1.0)\n",
    "print(r'|Ax-b|_2 =', tpetra_residual.norm2())"
   ]
  },
  {
   "cell_type": "markdown",
   "id": "139363d4-b0bd-4e8e-a169-ae6f38bf0a8a",
   "metadata": {},
   "source": [
    "We want to solve for $x$. \n",
    "Trilinos provides\n",
    "- direct solvers in the package Amesos2,\n",
    "- Krylov solvers in Belos,\n",
    "- simple preconditioners and incomplete factorizations in Ifpack2,\n",
    "- algebraic multigrid in MueLu,\n",
    "- and more.\n",
    "\n",
    "Trilinos has a unified solver/preconditioner interface (Stratimikos).\n",
    "We will wrap our linear algebra objects from Tpetra to Thyra so that Stratimikos can use them."
   ]
  },
  {
   "cell_type": "code",
   "execution_count": 9,
   "id": "ccd566b6-93d6-49d6-9805-f01a09a8279b",
   "metadata": {},
   "outputs": [],
   "source": [
    "from PyTrilinos2 import Thyra\n",
    "\n",
    "\n",
    "def toThyra(obj):\n",
    "    if isinstance(obj, Tpetra.Map.templatedClasses):\n",
    "        return Thyra.tpetraVectorSpace(obj)\n",
    "    elif isinstance(obj, Tpetra.Vector.templatedClasses):\n",
    "        thyra_map = toThyra(obj.getMap())\n",
    "        return Thyra.tpetraVector(thyra_map, obj)\n",
    "    elif isinstance(obj, Tpetra.MultiVector.templatedClasses):\n",
    "        thyra_map = toThyra(obj.getMap())\n",
    "        return Thyra.tpetraMultiVector(thyra_map, obj)\n",
    "    elif isinstance(obj, Tpetra.CrsMatrix.templatedClasses):\n",
    "        thyra_domainmap = toThyra(obj.getDomainMap())\n",
    "        thyra_rangemap = toThyra(obj.getRangeMap())\n",
    "        return Thyra.tpetraLinearOp(thyra_rangemap, thyra_domainmap, obj)\n",
    "    else:\n",
    "        raise NotImplementedError(type(obj))\n",
    "\n",
    "thyra_x = toThyra(tpetra_x)\n",
    "thyra_b = toThyra(tpetra_b)\n",
    "thyra_A = toThyra(tpetra_A)"
   ]
  },
  {
   "cell_type": "markdown",
   "id": "8073cad5-c17a-4c34-b138-10cfb6f796ab",
   "metadata": {},
   "source": [
    "Now we can set up the linear solver builder:"
   ]
  },
  {
   "cell_type": "code",
   "execution_count": 10,
   "id": "72ee55d5-f213-430e-9612-f65fe45a721f",
   "metadata": {},
   "outputs": [],
   "source": [
    "from PyTrilinos2 import Stratimikos\n",
    "\n",
    "linearSolverBuilder = Stratimikos.LinearSolverBuilder['double']()"
   ]
  },
  {
   "cell_type": "markdown",
   "id": "a72e89b9-8070-422d-849d-4ada25d8603a",
   "metadata": {},
   "source": [
    "We set parameters as a Teuchos ParameterList which is similar to a Python dictionary. \"Amesos2\" will give us a direct solver."
   ]
  },
  {
   "cell_type": "code",
   "execution_count": 11,
   "id": "94b24fe4-50b4-40f8-a15c-8ede30931f29",
   "metadata": {},
   "outputs": [
    {
     "name": "stdout",
     "output_type": "stream",
     "text": [
      "Linear Solver Type = Amesos2   [unused]\n",
      "\n"
     ]
    }
   ],
   "source": [
    "params = Teuchos.ParameterList()\n",
    "params[\"Linear Solver Type\"] = \"Amesos2\"\n",
    "print(params)"
   ]
  },
  {
   "cell_type": "code",
   "execution_count": 12,
   "id": "661ad052-2405-4db4-92ac-dcf65fd24a11",
   "metadata": {},
   "outputs": [],
   "source": [
    "linearSolverBuilder.setParameterList(params)\n",
    "solverFactory = Thyra.createLinearSolveStrategy(linearSolverBuilder)\n",
    "thyra_invA = Thyra.linearOpWithSolve(solverFactory, thyra_A)"
   ]
  },
  {
   "cell_type": "markdown",
   "id": "28b7983c-b910-4825-9a01-7d078ef840c6",
   "metadata": {},
   "source": [
    "We can now solve the linear system:"
   ]
  },
  {
   "cell_type": "code",
   "execution_count": 13,
   "id": "98cce4ff-2be6-4339-94f2-28f71899d53f",
   "metadata": {},
   "outputs": [
    {
     "data": {
      "text/plain": [
       "<ESolveStatus.SOLVE_STATUS_CONVERGED: 0>"
      ]
     },
     "execution_count": 13,
     "metadata": {},
     "output_type": "execute_result"
    }
   ],
   "source": [
    "status = thyra_invA.solve(Thyra.NOTRANS, thyra_b, thyra_x)\n",
    "status.solveStatus"
   ]
  },
  {
   "cell_type": "markdown",
   "id": "59345f49-d0e0-432c-9108-57ba92ea793b",
   "metadata": {},
   "source": [
    "We check the result:"
   ]
  },
  {
   "cell_type": "code",
   "execution_count": 14,
   "id": "7d6bcc71-de67-44e2-bcb4-a3eb45db2aa3",
   "metadata": {},
   "outputs": [
    {
     "name": "stdout",
     "output_type": "stream",
     "text": [
      "|Ax-b|_2 = 2.965272890640642e-10\n"
     ]
    }
   ],
   "source": [
    "tpetra_A.apply(tpetra_x, tpetra_residual)\n",
    "tpetra_residual.update(1.0, tpetra_b, -1.0)\n",
    "print(r'|Ax-b|_2 =', tpetra_residual.norm2())"
   ]
  },
  {
   "cell_type": "markdown",
   "id": "559038eb-e105-4792-babb-bd4b53a4042f",
   "metadata": {},
   "source": [
    "Print default parameters"
   ]
  },
  {
   "cell_type": "code",
   "execution_count": 15,
   "id": "4fc72b2c-bdb9-4021-8e3f-c3d7e57eeeed",
   "metadata": {},
   "outputs": [
    {
     "name": "stdout",
     "output_type": "stream",
     "text": [
      "Linear Solver Type = Belos   [unused]\n",
      "Preconditioner Type = Ifpack2   [unused]\n",
      "Enable Delayed Solver Construction = 0   [unused]\n",
      "Linear Solver Types -> \n",
      " Amesos2 -> \n",
      "  Solver Type = KLU2   [unused]\n",
      "  Refactorization Policy = RepivotOnRefactorization   [unused]\n",
      "  Throw on Preconditioner Input = 1   [unused]\n",
      "  VerboseObject -> \n",
      "   Verbosity Level = default   [unused]\n",
      "   Output File = none   [unused]\n",
      " Belos -> \n",
      "  Solver Type = Pseudo Block GMRES   [unused]\n",
      "  Convergence Test Frequency = 1   [unused]\n",
      "  Left Preconditioner If Unspecified = 0   [unused]\n",
      "  Solver Types -> \n",
      "   Block GMRES -> \n",
      "    Convergence Tolerance = 1e-08   [unused]\n",
      "    Maximum Restarts = 20   [unused]\n",
      "    Maximum Iterations = 1000   [unused]\n",
      "    Num Blocks = 300   [unused]\n",
      "    Block Size = 1   [unused]\n",
      "    Adaptive Block Size = 1   [unused]\n",
      "    Verbosity = 0   [unused]\n",
      "    Output Style = 0   [unused]\n",
      "    Output Frequency = -1   [unused]\n",
      "    Output Stream = Teuchos::RCP<std::ostream>{ptr=0x7f7a990da580,node=0x20a39030,strong_count=3,weak_count=0}   [unused]\n",
      "    Show Maximum Residual Norm Only = 0   [unused]\n",
      "    Flexible Gmres = 0   [unused]\n",
      "    Explicit Residual Test = 0   [unused]\n",
      "    Implicit Residual Scaling = Norm of Preconditioned Initial Residual   [unused]\n",
      "    Explicit Residual Scaling = Norm of Initial Residual   [unused]\n",
      "    Timer Label = Belos   [unused]\n",
      "    Orthogonalization = ICGS   [unused]\n",
      "    Orthogonalization Constant = -1   [unused]\n",
      "   Pseudo Block GMRES -> \n",
      "    Convergence Tolerance = 1e-08   [unused]\n",
      "    Maximum Restarts = 20   [unused]\n",
      "    Maximum Iterations = 1000   [unused]\n",
      "    Num Blocks = 300   [unused]\n",
      "    Block Size = 1   [unused]\n",
      "    Verbosity = 0   [unused]\n",
      "    Output Style = 0   [unused]\n",
      "    Output Frequency = -1   [unused]\n",
      "    Deflation Quorum = 1   [unused]\n",
      "    Output Stream = Teuchos::RCP<std::ostream>{ptr=0x7f7a990da580,node=0x20a390b0,strong_count=3,weak_count=0}   [unused]\n",
      "    Show Maximum Residual Norm Only = 0   [unused]\n",
      "    Implicit Residual Scaling = Norm of Preconditioned Initial Residual   [unused]\n",
      "    Explicit Residual Scaling = Norm of Initial Residual   [unused]\n",
      "    Timer Label = Belos   [unused]\n",
      "    Orthogonalization = ICGS   [unused]\n",
      "    Orthogonalization Constant = -1   [unused]\n",
      "    User Status Tests Combo Type = SEQ   [unused]\n",
      "    User Status Tests -> \n",
      "     [empty list]\n",
      "   Block CG -> \n",
      "    Convergence Tolerance = 1e-08   [unused]\n",
      "    Maximum Iterations = 1000   [unused]\n",
      "    Block Size = 1   [unused]\n",
      "    Adaptive Block Size = 1   [unused]\n",
      "    Verbosity = 0   [unused]\n",
      "    Output Style = 0   [unused]\n",
      "    Output Frequency = -1   [unused]\n",
      "    Output Stream = Teuchos::RCP<std::ostream>{ptr=0x7f7a990da580,node=0x20a49b40,strong_count=3,weak_count=0}   [unused]\n",
      "    Show Maximum Residual Norm Only = 0   [unused]\n",
      "    Use Single Reduction = 0   [unused]\n",
      "    Implicit Residual Scaling = Norm of Initial Residual   [unused]\n",
      "    Timer Label = Belos   [unused]\n",
      "    Orthogonalization = ICGS   [unused]\n",
      "    Assert Positive Definiteness = 1   [unused]\n",
      "    Orthogonalization Constant = -1   [unused]\n",
      "    Residual Norm = TwoNorm   [unused]\n",
      "    Fold Convergence Detection Into Allreduce = 0   [unused]\n",
      "   Pseudo Block CG -> \n",
      "    Convergence Tolerance = 1e-08   [unused]\n",
      "    Maximum Iterations = 1000   [unused]\n",
      "    Assert Positive Definiteness = 1   [unused]\n",
      "    Verbosity = 0   [unused]\n",
      "    Output Style = 0   [unused]\n",
      "    Output Frequency = -1   [unused]\n",
      "    Deflation Quorum = 1   [unused]\n",
      "    Output Stream = Teuchos::RCP<std::ostream>{ptr=0x7f7a990da580,node=0x20a4d8c0,strong_count=2,weak_count=0}   [unused]\n",
      "    Show Maximum Residual Norm Only = 0   [unused]\n",
      "    Implicit Residual Scaling = Norm of Initial Residual   [unused]\n",
      "    Estimate Condition Number = 0   [unused]\n",
      "    Residual Scaling = Norm of Initial Residual   [unused]\n",
      "    Timer Label = Belos   [unused]\n",
      "    Fold Convergence Detection Into Allreduce = 0   [unused]\n",
      "   Pseudo Block Stochastic CG -> \n",
      "    Convergence Tolerance = 1e-08   [unused]\n",
      "    Maximum Iterations = 1000   [unused]\n",
      "    Assert Positive Definiteness = 1   [unused]\n",
      "    Verbosity = 0   [unused]\n",
      "    Output Style = 0   [unused]\n",
      "    Output Frequency = -1   [unused]\n",
      "    Deflation Quorum = 1   [unused]\n",
      "    Output Stream = Teuchos::RCP<std::ostream>{ptr=0x7f7a990da580,node=0x20a4e4a0,strong_count=2,weak_count=0}   [unused]\n",
      "    Show Maximum Residual Norm Only = 0   [unused]\n",
      "    Implicit Residual Scaling = Norm of Initial Residual   [unused]\n",
      "    Residual Scaling = Norm of Initial Residual   [unused]\n",
      "    Timer Label = Belos   [unused]\n",
      "   GCRODR -> \n",
      "    Convergence Tolerance = 1e-08   [unused]\n",
      "    Maximum Restarts = 100   [unused]\n",
      "    Maximum Iterations = 1000   [unused]\n",
      "    Block Size = 1   [unused]\n",
      "    Num Blocks = 50   [unused]\n",
      "    Num Recycled Blocks = 5   [unused]\n",
      "    Verbosity = 0   [unused]\n",
      "    Output Style = 0   [unused]\n",
      "    Output Frequency = -1   [unused]\n",
      "    Output Stream = Teuchos::RCP<std::ostream>{ptr=0x7f7a990da580,node=0x20a4e670,strong_count=3,weak_count=0}   [unused]\n",
      "    Implicit Residual Scaling = Norm of Preconditioned Initial Residual   [unused]\n",
      "    Explicit Residual Scaling = Norm of Initial Residual   [unused]\n",
      "    Timer Label = Belos   [unused]\n",
      "    Orthogonalization = ICGS   [unused]\n",
      "    Orthogonalization Constant = 0   [unused]\n",
      "    Orthogonalization Parameters -> \n",
      "     maxNumOrthogPasses = 2   [unused]\n",
      "     blkTol = 1.49012e-07   [unused]\n",
      "     singTol = 2.22045e-15   [unused]\n",
      "   RCG -> \n",
      "    Convergence Tolerance = 1e-08   [unused]\n",
      "    Maximum Iterations = 1000   [unused]\n",
      "    Block Size = 1   [unused]\n",
      "    Num Blocks = 25   [unused]\n",
      "    Num Recycled Blocks = 3   [unused]\n",
      "    Verbosity = 0   [unused]\n",
      "    Output Style = 0   [unused]\n",
      "    Output Frequency = -1   [unused]\n",
      "    Output Stream = Teuchos::RCP<std::ostream>{ptr=0x7f7a990da580,node=0x20a54c80,strong_count=3,weak_count=0}   [unused]\n",
      "    Show Maximum Residual Norm Only = 0   [unused]\n",
      "    Timer Label = Belos   [unused]\n",
      "   MINRES -> \n",
      "    Convergence Tolerance = 1.49012e-08\n",
      "    Maximum Iterations = 1000\n",
      "    Num Blocks = -1   [unused]\n",
      "    Block Size = 1\n",
      "    Verbosity = 0   [unused]\n",
      "    Output Style = 0   [unused]\n",
      "    Output Frequency = -1   [unused]\n",
      "    Output Stream = Teuchos::RCP<std::ostream>{ptr=0x7f7a990da580,node=0x20a57bb0,strong_count=2,weak_count=0}   [unused]\n",
      "    Timer Label = Belos   [unused]\n",
      "   TFQMR -> \n",
      "    Convergence Tolerance = 1e-08   [unused]\n",
      "    Implicit Tolerance Scale Factor = 10   [unused]\n",
      "    Maximum Iterations = 1000   [unused]\n",
      "    Verbosity = 0   [unused]\n",
      "    Output Style = 0   [unused]\n",
      "    Output Frequency = -1   [unused]\n",
      "    Output Stream = Teuchos::RCP<std::ostream>{ptr=0x7f7a990da580,node=0x20a58e50,strong_count=3,weak_count=0}   [unused]\n",
      "    Explicit Residual Test = 0   [unused]\n",
      "    Implicit Residual Scaling = Norm of Preconditioned Initial Residual   [unused]\n",
      "    Explicit Residual Scaling = Norm of Initial Residual   [unused]\n",
      "    Timer Label = Belos   [unused]\n",
      "   BiCGStab -> \n",
      "    Convergence Tolerance = 1e-08   [unused]\n",
      "    Maximum Iterations = 1000   [unused]\n",
      "    Verbosity = 0   [unused]\n",
      "    Output Style = 0   [unused]\n",
      "    Output Frequency = -1   [unused]\n",
      "    Deflation Quorum = 1   [unused]\n",
      "    Output Stream = Teuchos::RCP<std::ostream>{ptr=0x7f7a990da580,node=0x20a5b340,strong_count=2,weak_count=0}   [unused]\n",
      "    Show Maximum Residual Norm Only = 0   [unused]\n",
      "    Implicit Residual Scaling = Norm of Initial Residual   [unused]\n",
      "    Residual Scaling = Norm of Initial Residual   [unused]\n",
      "    Timer Label = Belos   [unused]\n",
      "   Fixed Point -> \n",
      "    Convergence Tolerance = 1e-08   [unused]\n",
      "    Maximum Iterations = 1000   [unused]\n",
      "    Block Size = 1   [unused]\n",
      "    Verbosity = 0   [unused]\n",
      "    Output Style = 0   [unused]\n",
      "    Output Frequency = -1   [unused]\n",
      "    Output Stream = Teuchos::RCP<std::ostream>{ptr=0x7f7a990da580,node=0x20a5bb70,strong_count=3,weak_count=0}   [unused]\n",
      "    Show Maximum Residual Norm Only = 0   [unused]\n",
      "    Timer Label = Belos   [unused]\n",
      "   TPETRA GMRES -> \n",
      "    Convergence Tolerance = 1.49012e-08   [unused]\n",
      "    Implicit Residual Scaling = Norm of Preconditioned Initial Residual   [unused]\n",
      "    Maximum Iterations = 1000   [unused]\n",
      "    Verbosity = 0   [unused]\n",
      "    Num Blocks = 30   [unused]\n",
      "    Maximum Restarts = 1000   [unused]\n",
      "   TPETRA GMRES PIPELINE -> \n",
      "    Convergence Tolerance = 1.49012e-08   [unused]\n",
      "    Implicit Residual Scaling = Norm of Preconditioned Initial Residual   [unused]\n",
      "    Maximum Iterations = 1000   [unused]\n",
      "    Verbosity = 0   [unused]\n",
      "    Num Blocks = 30   [unused]\n",
      "    Maximum Restarts = 1000   [unused]\n",
      "   TPETRA GMRES SINGLE REDUCE -> \n",
      "    Convergence Tolerance = 1.49012e-08   [unused]\n",
      "    Implicit Residual Scaling = Norm of Preconditioned Initial Residual   [unused]\n",
      "    Maximum Iterations = 1000   [unused]\n",
      "    Verbosity = 0   [unused]\n",
      "    Num Blocks = 30   [unused]\n",
      "    Maximum Restarts = 1000   [unused]\n",
      "   TPETRA GMRES S-STEP -> \n",
      "    Convergence Tolerance = 1.49012e-08   [unused]\n",
      "    Implicit Residual Scaling = Norm of Preconditioned Initial Residual   [unused]\n",
      "    Maximum Iterations = 1000   [unused]\n",
      "    Verbosity = 0   [unused]\n",
      "    Num Blocks = 30   [unused]\n",
      "    Maximum Restarts = 1000   [unused]\n",
      "    Step Size = 5   [unused]\n",
      "  VerboseObject -> \n",
      "   Verbosity Level = default   [unused]\n",
      "   Output File = none   [unused]\n",
      "Preconditioner Types -> \n",
      " Ifpack2 -> \n",
      "  Prec Type = ILUT   [unused]\n",
      "  Overlap = 0   [unused]\n",
      "  half precision = 0   [unused]\n",
      "  Ifpack2 Settings -> \n",
      "   fact: iluk level-of-fill = 1   [unused]\n",
      "   fact: iluk level-of-overlap = 0   [unused]\n",
      "   chebyshev: max eigenvalue = nan   [unused]\n",
      "   chebyshev: ratio eigenvalue = nan   [unused]\n",
      "   chebyshev: min eigenvalue = 30   [unused]\n",
      "   chebyshev: degree = 1   [unused]\n",
      "   chebyshev: eigenvalue max iterations = 10   [unused]\n",
      "   chebyshev: eigenvalue relative tolerance = 0   [unused]\n",
      "   chebyshev: eigenvalue keep vector = 0   [unused]\n",
      "   chebyshev: assume matrix does not change = 0   [unused]\n",
      "   chebyshev: min diagonal value = 2.22045e-16   [unused]\n",
      "   chebyshev: zero starting solution = 1   [unused]\n",
      "   chebyshev: use native spmv = 0   [unused]\n",
      "   chebyshev: algorithm = first   [unused]\n",
      "   amesos: solver type = Amesos_Klu   [unused]\n",
      "   fact: level-of-fill = 0   [unused]\n",
      "   fact: absolute threshold = 0   [unused]\n",
      "   fact: relative threshold = 1   [unused]\n",
      "   fact: drop tolerance = 0   [unused]\n",
      "   fact: ict level-of-fill = 1   [unused]\n",
      "   fact: relax value = 0   [unused]\n",
      "   fact: ilut level-of-fill = 1   [unused]\n",
      "   fact: type = serial   [unused]\n",
      "   trisolver: type = Internal   [unused]\n",
      "   trisolver: block size = 1   [unused]\n",
      "   trisolver: reverse U = 0   [unused]\n",
      "   partitioner: local parts = 1   [unused]\n",
      "   partitioner: overlap = 0   [unused]\n",
      "   partitioner: print level = 0   [unused]\n",
      "   relaxation: container = TriDi   [unused]\n",
      "   relaxation: type = Jacobi   [unused]\n",
      "   relaxation: sweeps = 1   [unused]\n",
      "   relaxation: direction = forward   [unused]\n",
      "   relaxation: damping factor = 1   [unused]\n",
      "   relaxation: min diagonal value = 1   [unused]\n",
      "   relaxation: zero starting solution = 1   [unused]\n",
      "   relaxation: backward mode = 0   [unused]\n",
      "   relaxation: use l1 = 0   [unused]\n",
      "   relaxation: l1 eta = 1.5   [unused]\n",
      "   relaxation: banded container superdiagonals = -1   [unused]\n",
      "   relaxation: banded container subdiagonals = -1   [unused]\n",
      "   relaxation: mtgs cluster size = 1   [unused]\n",
      "   relaxation: mtgs coloring algorithm = Default   [unused]\n",
      "   relaxation: long row threshold = 0   [unused]\n",
      "   fact: sparskit: lfil = 0   [unused]\n",
      "   fact: sparskit: tol = 0   [unused]\n",
      "   fact: sparskit: droptol = 0   [unused]\n",
      "   fact: sparskit: permtol = 0.1   [unused]\n",
      "   fact: sparskit: alph = 0   [unused]\n",
      "   fact: sparskit: mbloc = -1   [unused]\n",
      "   fact: sparskit: type = ILUT   [unused]\n",
      "   schwarz: compute condest = 0   [unused]\n",
      "   schwarz: combine mode = ZERO   [unused]\n",
      "   schwarz: use reordering = 1   [unused]\n",
      "   schwarz: filter singletons = 0   [unused]\n",
      "   schwarz: overlap level = 0   [unused]\n",
      "   schwarz: num iterations = 1   [unused]\n",
      "   subdomain solver name =    [unused]\n",
      "   inner solver name =    [unused]\n",
      "   schwarz: subdomain solver name =    [unused]\n",
      "   schwarz: inner solver name =    [unused]\n",
      "   partitioner: type = greedy   [unused]\n",
      "   zoltan2: algorithm = phg   [unused]\n",
      "   partitioner: parts = {}   [unused]\n",
      "   partitioner: maintain sparsity = 0   [unused]\n",
      "   block relaxation: decouple dofs = 0   [unused]\n",
      "   partitioner: use symmetric graph = 1   [unused]\n",
      "   Amesos2 solver name = KLU2   [unused]\n",
      "   partitioner: map = Teuchos::ArrayRCP<int>{ptr=0,lowerOffset=0,upperOffset=-1,size=0,node=0,strong_count=0,weak_count=0}   [unused]\n",
      "   partitioner: line detection threshold = 0   [unused]\n",
      "   partitioner: PDE equations = 1   [unused]\n",
      "   partitioner: coordinates = Teuchos::RCP<Tpetra::MultiVector<double, int, long long, Tpetra::KokkosCompat::KokkosDeviceWrapperNode<Kokkos::Serial, Kokkos::HostSpace> > >{ptr=0,node=0,strong_count=0,weak_count=0}   [unused]\n",
      "   hypre: Solver = PCG   [unused]\n",
      "   hypre: Preconditioner = Euclid   [unused]\n",
      "   hypre: SolveOrPrecondition = Solver   [unused]\n",
      "   hypre: Dump = 0   [unused]\n",
      "   hypre: SetPreconditioner = 0   [unused]\n",
      "   hypre: NumFunctions = 0   [unused]\n",
      "   parallel ILUT options -> \n",
      "    [empty list]\n",
      "   inner preconditioner parameters -> \n",
      "    [empty list]\n",
      "   subdomain solver parameters -> \n",
      "    [empty list]\n",
      "   schwarz: inner preconditioner parameters -> \n",
      "    [empty list]\n",
      "   schwarz: subdomain solver parameters -> \n",
      "    [empty list]\n",
      "   schwarz: reordering list -> \n",
      "    [empty list]\n",
      "   Amesos2 -> \n",
      "    [empty list]\n",
      "   hypre: Solver functions -> \n",
      "    [empty list]\n",
      "   hypre: Preconditioner functions -> \n",
      "    [empty list]\n",
      "   Operators -> \n",
      "    [empty list]\n",
      "   Coordinates -> \n",
      "    [empty list]\n",
      "  VerboseObject -> \n",
      "   Verbosity Level = default   [unused]\n",
      "   Output File = none   [unused]\n",
      "\n"
     ]
    }
   ],
   "source": [
    "print(linearSolverBuilder.getValidParameters())"
   ]
  },
  {
   "cell_type": "code",
   "execution_count": 16,
   "id": "fb73e501-c42d-46ec-9dd7-764739d47895",
   "metadata": {},
   "outputs": [],
   "source": [
    "Stratimikos.enableMueLu(linearSolverBuilder, \"MueLu\")"
   ]
  },
  {
   "cell_type": "code",
   "execution_count": 17,
   "id": "13a8664b-9734-45fe-a258-22868c9dde47",
   "metadata": {},
   "outputs": [
    {
     "data": {
      "text/plain": [
       "('Belos', 'MueLu')"
      ]
     },
     "execution_count": 17,
     "metadata": {},
     "output_type": "execute_result"
    }
   ],
   "source": [
    "params = Teuchos.ParameterList()\n",
    "params[\"Preconditioner Type\"] = \"MueLu\"\n",
    "linearSolverBuilder.setParameterList(params)\n",
    "solverName = linearSolverBuilder.getLinearSolveStrategyName()\n",
    "precName = linearSolverBuilder.getPreconditionerStrategyName()\n",
    "solverFactory = Thyra.createLinearSolveStrategy(linearSolverBuilder)\n",
    "solverName, precName"
   ]
  },
  {
   "cell_type": "code",
   "execution_count": 18,
   "id": "b71e8827-df7d-40b5-b10b-d9fc95d7a0b5",
   "metadata": {},
   "outputs": [],
   "source": [
    "thyra_invA = Thyra.linearOpWithSolve(solverFactory, thyra_A)"
   ]
  },
  {
   "cell_type": "code",
   "execution_count": 19,
   "id": "f3314a11-d57a-45e0-b2b6-ce726beea2f0",
   "metadata": {},
   "outputs": [
    {
     "data": {
      "text/plain": [
       "'The Belos solver \"Belos\" of type \"\"Belos::PseudoBlockGmresSolMgr\": {Num Blocks: 300, Maximum Iterations: 1000, Maximum Restarts: 20, Convergence Tolerance: 1e-08}\" returned a solve status of \"SOLVE_STATUS_UNCONVERGED\" in 1 iterations with total CPU time of 0.000705077 sec'"
      ]
     },
     "execution_count": 19,
     "metadata": {},
     "output_type": "execute_result"
    }
   ],
   "source": [
    "status = thyra_invA.solve(Thyra.NOTRANS, thyra_b, thyra_x)\n",
    "status.message"
   ]
  },
  {
   "cell_type": "code",
   "execution_count": 20,
   "id": "177836a1-e0f4-43be-898e-0a23c8624c39",
   "metadata": {},
   "outputs": [
    {
     "data": {
      "text/plain": [
       "array([1., 1., 1., 1., 1., 1., 1., 1., 1., 1., 1., 1., 1., 1., 1., 1., 1.,\n",
       "       1., 1., 1., 1., 1., 1., 1., 1., 1., 1., 1., 1., 1., 1., 1., 1., 1.,\n",
       "       1., 1., 1., 1., 1., 1., 1., 1., 1., 1., 1., 1., 1., 1., 1., 1., 1.,\n",
       "       1., 1., 1., 1., 1., 1., 1., 1., 1., 1., 1., 1., 1., 1., 1., 1., 1.,\n",
       "       1., 1., 1., 1., 1., 1., 1., 1., 1., 1., 1., 1., 1., 1., 1., 1., 1.,\n",
       "       1., 1., 1., 1., 1., 1., 1., 1., 1., 1., 1., 1., 1., 1., 1., 1., 1.,\n",
       "       1., 1., 1., 1., 1., 1., 1., 1., 1., 1., 1., 1., 1., 1., 1., 1., 1.,\n",
       "       1., 1., 1., 1., 1., 1., 1., 1., 1., 1., 1., 1., 1., 1., 1., 1., 1.,\n",
       "       1., 1., 1., 1., 1., 1., 1., 1., 1., 1., 1., 1., 1., 1., 1., 1., 1.,\n",
       "       1., 1., 1., 1., 1., 1., 1., 1., 1., 1., 1., 1., 1., 1., 1., 1., 1.,\n",
       "       1., 1., 1., 1., 1., 1., 1., 1., 1., 1., 1., 1., 1., 1., 1., 1., 1.,\n",
       "       1., 1., 1., 1., 1., 1., 1., 1., 1., 1., 1., 1., 1., 1., 1., 1., 1.,\n",
       "       1., 1., 1., 1., 1., 1., 1., 1., 1., 1., 1., 1., 1., 1., 1., 1., 1.,\n",
       "       1., 1., 1., 1., 1., 1., 1., 1., 1., 1., 1., 1., 1., 1., 1., 1., 1.,\n",
       "       1., 1., 1., 1., 1., 1., 1., 1., 1., 1., 1., 1., 1., 1., 1., 1., 1.,\n",
       "       1., 1., 1., 1., 1., 1., 1., 1., 1., 1., 1., 1., 1., 1., 1., 1., 1.,\n",
       "       1., 1., 1., 1., 1., 1., 1., 1., 1., 1., 1., 1., 1., 1., 1., 1., 1.,\n",
       "       1., 1., 1., 1., 1., 1., 1., 1., 1., 1., 1., 1., 1., 1., 1., 1., 1.,\n",
       "       1., 1., 1., 1., 1., 1., 1., 1., 1., 1., 1., 1., 1., 1., 1., 1., 1.,\n",
       "       1., 1., 1., 1., 1., 1., 1., 1., 1., 1., 1., 1., 1., 1., 1., 1., 1.,\n",
       "       1., 1., 1., 1., 1., 1., 1., 1., 1., 1., 1., 1., 1., 1., 1., 1., 1.,\n",
       "       1., 1., 1., 1., 1., 1., 1., 1., 1., 1., 1., 1., 1., 1., 1., 1., 1.,\n",
       "       1., 1., 1., 1., 1., 1., 1., 1., 1., 1., 1., 1., 1., 1., 1., 1., 1.,\n",
       "       1., 1., 1., 1., 1., 1., 1., 1., 1., 1., 1., 1., 1., 1., 1., 1., 1.,\n",
       "       1., 1., 1., 1., 1., 1., 1., 1., 1., 1., 1., 1., 1., 1., 1., 1., 1.,\n",
       "       1., 1., 1., 1., 1., 1., 1., 1., 1., 1., 1., 1., 1., 1., 1., 1., 1.,\n",
       "       1., 1., 1., 1., 1., 1., 1., 1., 1., 1., 1., 1., 1., 1., 1., 1., 1.,\n",
       "       1., 1., 1., 1., 1., 1., 1., 1., 1., 1., 1., 1., 1., 1., 1., 1., 1.,\n",
       "       1., 1., 1., 1., 1., 1., 1., 1., 1., 1., 1., 1., 1., 1., 1., 1., 1.,\n",
       "       1., 1., 1., 1., 1., 1., 1., 1., 1., 1., 1., 1., 1., 1., 1., 1., 1.,\n",
       "       1., 1., 1., 1., 1., 1., 1., 1., 1., 1., 1., 1., 1., 1., 1., 1., 1.,\n",
       "       1., 1., 1., 1., 1., 1., 1., 1., 1., 1., 1., 1., 1., 1., 1., 1., 1.,\n",
       "       1., 1., 1., 1., 1., 1., 1., 1., 1., 1., 1., 1., 1., 1., 1., 1., 1.,\n",
       "       1., 1., 1., 1., 1., 1., 1., 1., 1., 1., 1., 1., 1., 1., 1., 1., 1.,\n",
       "       1., 1., 1., 1., 1., 1., 1., 1., 1., 1., 1., 1., 1., 1., 1., 1., 1.,\n",
       "       1., 1., 1., 1., 1., 1., 1., 1., 1., 1., 1., 1., 1., 1., 1., 1., 1.,\n",
       "       1., 1., 1., 1., 1., 1., 1., 1., 1., 1., 1., 1., 1., 1., 1., 1., 1.,\n",
       "       1., 1., 1., 1., 1., 1., 1., 1., 1., 1., 1., 1., 1., 1., 1., 1., 1.,\n",
       "       1., 1., 1., 1., 1., 1., 1., 1., 1., 1., 1., 1., 1., 1., 1., 1., 1.,\n",
       "       1., 1., 1., 1., 1., 1., 1., 1., 1., 1., 1., 1., 1., 1., 1., 1., 1.,\n",
       "       1., 1., 1., 1., 1., 1., 1., 1., 1., 1., 1., 1., 1., 1., 1., 1., 1.,\n",
       "       1., 1., 1., 1., 1., 1., 1., 1., 1., 1., 1., 1., 1., 1., 1., 1., 1.,\n",
       "       1., 1., 1., 1., 1., 1., 1., 1., 1., 1., 1., 1., 1., 1., 1., 1., 1.,\n",
       "       1., 1., 1., 1., 1., 1., 1., 1., 1., 1., 1., 1., 1., 1., 1., 1., 1.,\n",
       "       1., 1., 1., 1., 1., 1., 1., 1., 1., 1., 1., 1., 1., 1., 1., 1., 1.,\n",
       "       1., 1., 1., 1., 1., 1., 1., 1., 1., 1., 1., 1., 1., 1., 1., 1., 1.,\n",
       "       1., 1., 1., 1., 1., 1., 1., 1., 1., 1., 1., 1., 1., 1., 1., 1., 1.,\n",
       "       1., 1., 1., 1., 1., 1., 1., 1., 1., 1., 1., 1., 1., 1., 1., 1., 1.,\n",
       "       1., 1., 1., 1., 1., 1., 1., 1., 1., 1., 1., 1., 1., 1., 1., 1., 1.,\n",
       "       1., 1., 1., 1., 1., 1., 1., 1., 1., 1., 1., 1., 1., 1., 1., 1., 1.,\n",
       "       1., 1., 1., 1., 1., 1., 1., 1., 1., 1., 1., 1., 1., 1., 1., 1., 1.,\n",
       "       1., 1., 1., 1., 1., 1., 1., 1., 1., 1., 1., 1., 1., 1., 1., 1., 1.,\n",
       "       1., 1., 1., 1., 1., 1., 1., 1., 1., 1., 1., 1., 1., 1., 1., 1., 1.,\n",
       "       1., 1., 1., 1., 1., 1., 1., 1., 1., 1., 1., 1., 1., 1., 1., 1., 1.,\n",
       "       1., 1., 1., 1., 1., 1., 1., 1., 1., 1., 1., 1., 1., 1., 1., 1., 1.,\n",
       "       1., 1., 1., 1., 1., 1., 1., 1., 1., 1., 1., 1., 1., 1., 1., 1., 1.,\n",
       "       1., 1., 1., 1., 1., 1., 1., 1., 1., 1., 1., 1., 1., 1., 1., 1., 1.,\n",
       "       1., 1., 1., 1., 1., 1., 1., 1., 1., 1., 1., 1., 1., 1., 1., 1., 1.,\n",
       "       1., 1., 1., 1., 1., 1., 1., 1., 1., 1., 1., 1., 1., 1.])"
      ]
     },
     "execution_count": 20,
     "metadata": {},
     "output_type": "execute_result"
    }
   ],
   "source": [
    "tpetra_b.getLocalViewHost()"
   ]
  },
  {
   "cell_type": "code",
   "execution_count": 21,
   "id": "5a368c39-ef50-49dd-b504-744d4fa72081",
   "metadata": {},
   "outputs": [
    {
     "data": {
      "text/plain": [
       "array([   500.,    999.,   1497.,   1994.,   2490.,   2985.,   3479.,\n",
       "         3972.,   4464.,   4955.,   5445.,   5934.,   6422.,   6909.,\n",
       "         7395.,   7880.,   8364.,   8847.,   9329.,   9810.,  10290.,\n",
       "        10769.,  11247.,  11724.,  12200.,  12675.,  13149.,  13622.,\n",
       "        14094.,  14565.,  15035.,  15504.,  15972.,  16439.,  16905.,\n",
       "        17370.,  17834.,  18297.,  18759.,  19220.,  19680.,  20139.,\n",
       "        20597.,  21054.,  21510.,  21965.,  22419.,  22872.,  23324.,\n",
       "        23775.,  24225.,  24674.,  25122.,  25569.,  26015.,  26460.,\n",
       "        26904.,  27347.,  27789.,  28230.,  28670.,  29109.,  29547.,\n",
       "        29984.,  30420.,  30855.,  31289.,  31722.,  32154.,  32585.,\n",
       "        33015.,  33444.,  33872.,  34299.,  34725.,  35150.,  35574.,\n",
       "        35997.,  36419.,  36840.,  37260.,  37679.,  38097.,  38514.,\n",
       "        38930.,  39345.,  39759.,  40172.,  40584.,  40995.,  41405.,\n",
       "        41814.,  42222.,  42629.,  43035.,  43440.,  43844.,  44247.,\n",
       "        44649.,  45050.,  45450.,  45849.,  46247.,  46644.,  47040.,\n",
       "        47435.,  47829.,  48222.,  48614.,  49005.,  49395.,  49784.,\n",
       "        50172.,  50559.,  50945.,  51330.,  51714.,  52097.,  52479.,\n",
       "        52860.,  53240.,  53619.,  53997.,  54374.,  54750.,  55125.,\n",
       "        55499.,  55872.,  56244.,  56615.,  56985.,  57354.,  57722.,\n",
       "        58089.,  58455.,  58820.,  59184.,  59547.,  59909.,  60270.,\n",
       "        60630.,  60989.,  61347.,  61704.,  62060.,  62415.,  62769.,\n",
       "        63122.,  63474.,  63825.,  64175.,  64524.,  64872.,  65219.,\n",
       "        65565.,  65910.,  66254.,  66597.,  66939.,  67280.,  67620.,\n",
       "        67959.,  68297.,  68634.,  68970.,  69305.,  69639.,  69972.,\n",
       "        70304.,  70635.,  70965.,  71294.,  71622.,  71949.,  72275.,\n",
       "        72600.,  72924.,  73247.,  73569.,  73890.,  74210.,  74529.,\n",
       "        74847.,  75164.,  75480.,  75795.,  76109.,  76422.,  76734.,\n",
       "        77045.,  77355.,  77664.,  77972.,  78279.,  78585.,  78890.,\n",
       "        79194.,  79497.,  79799.,  80100.,  80400.,  80699.,  80997.,\n",
       "        81294.,  81590.,  81885.,  82179.,  82472.,  82764.,  83055.,\n",
       "        83345.,  83634.,  83922.,  84209.,  84495.,  84780.,  85064.,\n",
       "        85347.,  85629.,  85910.,  86190.,  86469.,  86747.,  87024.,\n",
       "        87300.,  87575.,  87849.,  88122.,  88394.,  88665.,  88935.,\n",
       "        89204.,  89472.,  89739.,  90005.,  90270.,  90534.,  90797.,\n",
       "        91059.,  91320.,  91580.,  91839.,  92097.,  92354.,  92610.,\n",
       "        92865.,  93119.,  93372.,  93624.,  93875.,  94125.,  94374.,\n",
       "        94622.,  94869.,  95115.,  95360.,  95604.,  95847.,  96089.,\n",
       "        96330.,  96570.,  96809.,  97047.,  97284.,  97520.,  97755.,\n",
       "        97989.,  98222.,  98454.,  98685.,  98915.,  99144.,  99372.,\n",
       "        99599.,  99825., 100050., 100274., 100497., 100719., 100940.,\n",
       "       101160., 101379., 101597., 101814., 102030., 102245., 102459.,\n",
       "       102672., 102884., 103095., 103305., 103514., 103722., 103929.,\n",
       "       104135., 104340., 104544., 104747., 104949., 105150., 105350.,\n",
       "       105549., 105747., 105944., 106140., 106335., 106529., 106722.,\n",
       "       106914., 107105., 107295., 107484., 107672., 107859., 108045.,\n",
       "       108230., 108414., 108597., 108779., 108960., 109140., 109319.,\n",
       "       109497., 109674., 109850., 110025., 110199., 110372., 110544.,\n",
       "       110715., 110885., 111054., 111222., 111389., 111555., 111720.,\n",
       "       111884., 112047., 112209., 112370., 112530., 112689., 112847.,\n",
       "       113004., 113160., 113315., 113469., 113622., 113774., 113925.,\n",
       "       114075., 114224., 114372., 114519., 114665., 114810., 114954.,\n",
       "       115097., 115239., 115380., 115520., 115659., 115797., 115934.,\n",
       "       116070., 116205., 116339., 116472., 116604., 116735., 116865.,\n",
       "       116994., 117122., 117249., 117375., 117500., 117624., 117747.,\n",
       "       117869., 117990., 118110., 118229., 118347., 118464., 118580.,\n",
       "       118695., 118809., 118922., 119034., 119145., 119255., 119364.,\n",
       "       119472., 119579., 119685., 119790., 119894., 119997., 120099.,\n",
       "       120200., 120300., 120399., 120497., 120594., 120690., 120785.,\n",
       "       120879., 120972., 121064., 121155., 121245., 121334., 121422.,\n",
       "       121509., 121595., 121680., 121764., 121847., 121929., 122010.,\n",
       "       122090., 122169., 122247., 122324., 122400., 122475., 122549.,\n",
       "       122622., 122694., 122765., 122835., 122904., 122972., 123039.,\n",
       "       123105., 123170., 123234., 123297., 123359., 123420., 123480.,\n",
       "       123539., 123597., 123654., 123710., 123765., 123819., 123872.,\n",
       "       123924., 123975., 124025., 124074., 124122., 124169., 124215.,\n",
       "       124260., 124304., 124347., 124389., 124430., 124470., 124509.,\n",
       "       124547., 124584., 124620., 124655., 124689., 124722., 124754.,\n",
       "       124785., 124815., 124844., 124872., 124899., 124925., 124950.,\n",
       "       124974., 124997., 125019., 125040., 125060., 125079., 125097.,\n",
       "       125114., 125130., 125145., 125159., 125172., 125184., 125195.,\n",
       "       125205., 125214., 125222., 125229., 125235., 125240., 125244.,\n",
       "       125247., 125249., 125250., 125250., 125249., 125247., 125244.,\n",
       "       125240., 125235., 125229., 125222., 125214., 125205., 125195.,\n",
       "       125184., 125172., 125159., 125145., 125130., 125114., 125097.,\n",
       "       125079., 125060., 125040., 125019., 124997., 124974., 124950.,\n",
       "       124925., 124899., 124872., 124844., 124815., 124785., 124754.,\n",
       "       124722., 124689., 124655., 124620., 124584., 124547., 124509.,\n",
       "       124470., 124430., 124389., 124347., 124304., 124260., 124215.,\n",
       "       124169., 124122., 124074., 124025., 123975., 123924., 123872.,\n",
       "       123819., 123765., 123710., 123654., 123597., 123539., 123480.,\n",
       "       123420., 123359., 123297., 123234., 123170., 123105., 123039.,\n",
       "       122972., 122904., 122835., 122765., 122694., 122622., 122549.,\n",
       "       122475., 122400., 122324., 122247., 122169., 122090., 122010.,\n",
       "       121929., 121847., 121764., 121680., 121595., 121509., 121422.,\n",
       "       121334., 121245., 121155., 121064., 120972., 120879., 120785.,\n",
       "       120690., 120594., 120497., 120399., 120300., 120200., 120099.,\n",
       "       119997., 119894., 119790., 119685., 119579., 119472., 119364.,\n",
       "       119255., 119145., 119034., 118922., 118809., 118695., 118580.,\n",
       "       118464., 118347., 118229., 118110., 117990., 117869., 117747.,\n",
       "       117624., 117500., 117375., 117249., 117122., 116994., 116865.,\n",
       "       116735., 116604., 116472., 116339., 116205., 116070., 115934.,\n",
       "       115797., 115659., 115520., 115380., 115239., 115097., 114954.,\n",
       "       114810., 114665., 114519., 114372., 114224., 114075., 113925.,\n",
       "       113774., 113622., 113469., 113315., 113160., 113004., 112847.,\n",
       "       112689., 112530., 112370., 112209., 112047., 111884., 111720.,\n",
       "       111555., 111389., 111222., 111054., 110885., 110715., 110544.,\n",
       "       110372., 110199., 110025., 109850., 109674., 109497., 109319.,\n",
       "       109140., 108960., 108779., 108597., 108414., 108230., 108045.,\n",
       "       107859., 107672., 107484., 107295., 107105., 106914., 106722.,\n",
       "       106529., 106335., 106140., 105944., 105747., 105549., 105350.,\n",
       "       105150., 104949., 104747., 104544., 104340., 104135., 103929.,\n",
       "       103722., 103514., 103305., 103095., 102884., 102672., 102459.,\n",
       "       102245., 102030., 101814., 101597., 101379., 101160., 100940.,\n",
       "       100719., 100497., 100274., 100050.,  99825.,  99599.,  99372.,\n",
       "        99144.,  98915.,  98685.,  98454.,  98222.,  97989.,  97755.,\n",
       "        97520.,  97284.,  97047.,  96809.,  96570.,  96330.,  96089.,\n",
       "        95847.,  95604.,  95360.,  95115.,  94869.,  94622.,  94374.,\n",
       "        94125.,  93875.,  93624.,  93372.,  93119.,  92865.,  92610.,\n",
       "        92354.,  92097.,  91839.,  91580.,  91320.,  91059.,  90797.,\n",
       "        90534.,  90270.,  90005.,  89739.,  89472.,  89204.,  88935.,\n",
       "        88665.,  88394.,  88122.,  87849.,  87575.,  87300.,  87024.,\n",
       "        86747.,  86469.,  86190.,  85910.,  85629.,  85347.,  85064.,\n",
       "        84780.,  84495.,  84209.,  83922.,  83634.,  83345.,  83055.,\n",
       "        82764.,  82472.,  82179.,  81885.,  81590.,  81294.,  80997.,\n",
       "        80699.,  80400.,  80100.,  79799.,  79497.,  79194.,  78890.,\n",
       "        78585.,  78279.,  77972.,  77664.,  77355.,  77045.,  76734.,\n",
       "        76422.,  76109.,  75795.,  75480.,  75164.,  74847.,  74529.,\n",
       "        74210.,  73890.,  73569.,  73247.,  72924.,  72600.,  72275.,\n",
       "        71949.,  71622.,  71294.,  70965.,  70635.,  70304.,  69972.,\n",
       "        69639.,  69305.,  68970.,  68634.,  68297.,  67959.,  67620.,\n",
       "        67280.,  66939.,  66597.,  66254.,  65910.,  65565.,  65219.,\n",
       "        64872.,  64524.,  64175.,  63825.,  63474.,  63122.,  62769.,\n",
       "        62415.,  62060.,  61704.,  61347.,  60989.,  60630.,  60270.,\n",
       "        59909.,  59547.,  59184.,  58820.,  58455.,  58089.,  57722.,\n",
       "        57354.,  56985.,  56615.,  56244.,  55872.,  55499.,  55125.,\n",
       "        54750.,  54374.,  53997.,  53619.,  53240.,  52860.,  52479.,\n",
       "        52097.,  51714.,  51330.,  50945.,  50559.,  50172.,  49784.,\n",
       "        49395.,  49005.,  48614.,  48222.,  47829.,  47435.,  47040.,\n",
       "        46644.,  46247.,  45849.,  45450.,  45050.,  44649.,  44247.,\n",
       "        43844.,  43440.,  43035.,  42629.,  42222.,  41814.,  41405.,\n",
       "        40995.,  40584.,  40172.,  39759.,  39345.,  38930.,  38514.,\n",
       "        38097.,  37679.,  37260.,  36840.,  36419.,  35997.,  35574.,\n",
       "        35150.,  34725.,  34299.,  33872.,  33444.,  33015.,  32585.,\n",
       "        32154.,  31722.,  31289.,  30855.,  30420.,  29984.,  29547.,\n",
       "        29109.,  28670.,  28230.,  27789.,  27347.,  26904.,  26460.,\n",
       "        26015.,  25569.,  25122.,  24674.,  24225.,  23775.,  23324.,\n",
       "        22872.,  22419.,  21965.,  21510.,  21054.,  20597.,  20139.,\n",
       "        19680.,  19220.,  18759.,  18297.,  17834.,  17370.,  16905.,\n",
       "        16439.,  15972.,  15504.,  15035.,  14565.,  14094.,  13622.,\n",
       "        13149.,  12675.,  12200.,  11724.,  11247.,  10769.,  10290.,\n",
       "         9810.,   9329.,   8847.,   8364.,   7880.,   7395.,   6909.,\n",
       "         6422.,   5934.,   5445.,   4955.,   4464.,   3972.,   3479.,\n",
       "         2985.,   2490.,   1994.,   1497.,    999.,    500.])"
      ]
     },
     "execution_count": 21,
     "metadata": {},
     "output_type": "execute_result"
    }
   ],
   "source": [
    "tpetra_x.getLocalViewHost()"
   ]
  },
  {
   "cell_type": "code",
   "execution_count": 22,
   "id": "b50c8563-8f53-4910-ab7a-38403805ae4b",
   "metadata": {},
   "outputs": [
    {
     "data": {
      "text/plain": [
       "[<matplotlib.lines.Line2D at 0x7f7a53f676e0>]"
      ]
     },
     "execution_count": 22,
     "metadata": {},
     "output_type": "execute_result"
    },
    {
     "data": {
      "image/png": "[encoded data removed]",
      "text/plain": [
       "<Figure size 640x480 with 1 Axes>"
      ]
     },
     "metadata": {},
     "output_type": "display_data"
    }
   ],
   "source": [
    "plt.plot(tpetra_x.getLocalViewHost())"
   ]
  },
  {
   "cell_type": "code",
   "execution_count": null,
   "id": "913b8d41-62b7-4bde-a13c-f4de1b930430",
   "metadata": {},
   "outputs": [],
   "source": []
  }
 ],
 "metadata": {
  "kernelspec": {
   "display_name": "Python 3 (ipykernel)",
   "language": "python",
   "name": "python3"
  },
  "language_info": {
   "codemirror_mode": {
    "name": "ipython",
    "version": 3
   },
   "file_extension": ".py",
   "mimetype": "text/x-python",
   "name": "python",
   "nbconvert_exporter": "python",
   "pygments_lexer": "ipython3",
   "version": "3.12.3"
  }
 },
 "nbformat": 4,
 "nbformat_minor": 5
}
