{
 "cells": [
  {
   "cell_type": "markdown",
   "id": "8685ac5e-8a32-48fd-a7af-5c81c60fcb87",
   "metadata": {},
   "source": [
    "# PyTrilinos2 tutorial"
   ]
  },
  {
   "cell_type": "markdown",
   "id": "a5b4a255-31ce-4e23-bdb3-4e6ba38df37c",
   "metadata": {},
   "source": [
    "We will use the Python interface of Trilinos (PyTrilinos2) to set up and solve a linear system (using Tpetra and Thyra) using different linear solvers and preconditioners from Amesos2, Belos, Ifpack2 and MueLu."
   ]
  },
  {
   "cell_type": "markdown",
   "id": "c794c8e9-d6af-4f0f-aff9-dd9be78553d7",
   "metadata": {},
   "source": [
    "We first set up a MPI communicator and an output stream. The MPI communicator has size 1 for now."
   ]
  },
  {
   "cell_type": "code",
   "execution_count": 1,
   "id": "42e0cbc9-f0f5-4423-aa72-24a036e8827a",
   "metadata": {},
   "outputs": [],
   "source": [
    "%matplotlib inline\n",
    "import numpy as np\n",
    "import scipy as sp\n",
    "import matplotlib.pyplot as plt\n",
    "# get C-level cout to display\n",
    "%load_ext wurlitzer"
   ]
  },
  {
   "cell_type": "code",
   "execution_count": 3,
   "id": "db11c226-1fe3-429b-9c8e-ad84408cdcaa",
   "metadata": {},
   "outputs": [
    {
     "name": "stdout",
     "output_type": "stream",
     "text": [
      "Comm size 1\n"
     ]
    }
   ],
   "source": [
    "from mpi4py import MPI\n",
    "from PyTrilinos2 import Teuchos\n",
    "\n",
    "comm = Teuchos.getTeuchosComm(MPI.COMM_WORLD)\n",
    "out = Teuchos.fancyOStream(Teuchos.getCout())\n",
    "print(\"Comm size\", comm.getSize())"
   ]
  },
  {
   "cell_type": "markdown",
   "id": "6a80f23c-f797-44bd-9f8c-57beb38e3343",
   "metadata": {},
   "source": [
    "The Tpetra package provides sparse linear algebra."
   ]
  },
  {
   "cell_type": "code",
   "execution_count": 5,
   "id": "8e8e5b8f-01f5-4081-9505-aac16e7f80b6",
   "metadata": {},
   "outputs": [],
   "source": [
    "from PyTrilinos2 import Tpetra"
   ]
  },
  {
   "cell_type": "markdown",
   "id": "d36e40f4-3acc-4b26-b8fe-961e17ad35e7",
   "metadata": {},
   "source": [
    "Tpetra linear algebra classes are templated on\n",
    "- scalar type, e.g. `double`, `float`, `std::complex<double>`\n",
    "- local ordinal type, normally `int`\n",
    "- global ordinal type, normally `long long`\n",
    "- node type, a combination of a Kokkos execution space and memory space.\n",
    "  \n",
    "Python does not have templates, so templated classes are exposed with template parameters as suffixes:"
   ]
  },
  {
   "cell_type": "code",
   "execution_count": 6,
   "id": "1e3d05ba-e88a-4eee-9d9e-2f1fbc34fb3c",
   "metadata": {},
   "outputs": [
    {
     "data": {
      "text/plain": [
       "PyTrilinos2.PyTrilinos2.Tpetra.Map_int_long_long_Tpetra_KokkosCompat_KokkosDeviceWrapperNode_Kokkos_Serial_t"
      ]
     },
     "execution_count": 6,
     "metadata": {},
     "output_type": "execute_result"
    }
   ],
   "source": [
    "Tpetra.Map_int_long_long_Tpetra_KokkosCompat_KokkosDeviceWrapperNode_Kokkos_Serial_t"
   ]
  },
  {
   "cell_type": "markdown",
   "id": "134f9811-9166-4935-9002-30be6bc80d60",
   "metadata": {},
   "source": [
    "Since that's not very convenient (and differs from C++) we have some helper classes:"
   ]
  },
  {
   "cell_type": "code",
   "execution_count": 7,
   "id": "5a083f26-f35c-43c0-8ce6-8d07102f8257",
   "metadata": {},
   "outputs": [
    {
     "data": {
      "text/plain": [
       "PyTrilinos2.PyTrilinos2.Tpetra.Map_int_long_long_Tpetra_KokkosCompat_KokkosDeviceWrapperNode_Kokkos_Serial_t"
      ]
     },
     "execution_count": 7,
     "metadata": {},
     "output_type": "execute_result"
    }
   ],
   "source": [
    "Tpetra.Map['int', 'long long', 'serial']"
   ]
  },
  {
   "cell_type": "markdown",
   "id": "ab42d242-274a-40ac-8073-f21b2d02f450",
   "metadata": {},
   "source": [
    "We can leverage default values for template arguments to further simplify:"
   ]
  },
  {
   "cell_type": "code",
   "execution_count": 8,
   "id": "25c6cb87-0dd0-4901-9228-c934ba938945",
   "metadata": {},
   "outputs": [
    {
     "data": {
      "text/plain": [
       "PyTrilinos2.PyTrilinos2.Tpetra.Map_int_long_long_Tpetra_KokkosCompat_KokkosDeviceWrapperNode_Kokkos_Serial_t"
      ]
     },
     "execution_count": 8,
     "metadata": {},
     "output_type": "execute_result"
    }
   ],
   "source": [
    "Tpetra.Map['int']"
   ]
  },
  {
   "cell_type": "code",
   "execution_count": 9,
   "id": "14c22722-beb3-4fd8-a920-9c1082f626b3",
   "metadata": {},
   "outputs": [
    {
     "data": {
      "text/plain": [
       "PyTrilinos2.PyTrilinos2.Tpetra.Map_int_long_long_Tpetra_KokkosCompat_KokkosDeviceWrapperNode_Kokkos_Serial_t"
      ]
     },
     "execution_count": 9,
     "metadata": {},
     "output_type": "execute_result"
    }
   ],
   "source": [
    "Tpetra.Map[()]  # no arguments specified, note ()"
   ]
  },
  {
   "cell_type": "markdown",
   "id": "e732b06c-b1a1-4b35-937c-473458315553",
   "metadata": {},
   "source": [
    "We set up a linear system\n",
    "$$A x = b$$"
   ]
  },
  {
   "cell_type": "code",
   "execution_count": 29,
   "id": "ce93a292-e1e6-4745-982f-83e0b2e98ec1",
   "metadata": {},
   "outputs": [
    {
     "name": "stdout",
     "output_type": "stream",
     "text": [
      "|Ax-b|_2 = 31.622776601683793\n"
     ]
    }
   ],
   "source": [
    "def assemble1DLaplacian(rowmap):\n",
    "    from PyTrilinos2 import Tpetra\n",
    "\n",
    "    A = Tpetra.CrsMatrix[()](rowmap, 3)\n",
    "    for lid in range(rowmap.getMinLocalIndex(), rowmap.getMaxLocalIndex()+1):\n",
    "        gid = rowmap.getGlobalElement(lid)\n",
    "        indices = [gid]\n",
    "        vals = [2.]\n",
    "        if gid > 0:\n",
    "            indices.append(gid-1)\n",
    "            vals.append(-1.)\n",
    "        if gid < rowmap.getMaxAllGlobalIndex():\n",
    "            indices.append(gid+1)\n",
    "            vals.append(-1.)\n",
    "        A.insertGlobalValues(gid, indices, vals)\n",
    "    A.fillComplete()\n",
    "    return A\n",
    "\n",
    "numRows = 1000\n",
    "tpetra_map = Tpetra.Map[()](numGlobalElements=numRows, numLocalElements=numRows, indexBase=0, comm=comm)    \n",
    "tpetra_A = assemble1DLaplacian(tpetra_map)\n",
    "\n",
    "tpetra_b = Tpetra.Vector['double'](tpetra_A.getRangeMap())\n",
    "tpetra_x = Tpetra.Vector['double'](tpetra_A.getDomainMap())\n",
    "tpetra_b.putScalar(1.0)\n",
    "tpetra_x.putScalar(0.0)\n",
    "\n",
    "# compute the residual and check that x does not solve the system already\n",
    "tpetra_residual = Tpetra.Vector['double'](tpetra_A.getRangeMap())\n",
    "tpetra_A.apply(tpetra_x, tpetra_residual)\n",
    "tpetra_residual.update(1.0, tpetra_b, -1.0)\n",
    "print(r'|Ax-b|_2 =', tpetra_residual.norm2())"
   ]
  },
  {
   "cell_type": "markdown",
   "id": "139363d4-b0bd-4e8e-a169-ae6f38bf0a8a",
   "metadata": {},
   "source": [
    "We want to solve for $x$. \n",
    "Trilinos provides\n",
    "- direct solvers in the package Amesos2,\n",
    "- Krylov solvers in Belos,\n",
    "- simple preconditioners and incomplete factorizations in Ifpack2,\n",
    "- algebraic multigrid in MueLu,\n",
    "- and more.\n",
    "\n",
    "Trilinos has a unified solver/preconditioner interface (Stratimikos).\n",
    "We will wrap our linear algebra objects from Tpetra to Thyra so that Stratimikos can use them."
   ]
  },
  {
   "cell_type": "code",
   "execution_count": 30,
   "id": "ccd566b6-93d6-49d6-9805-f01a09a8279b",
   "metadata": {},
   "outputs": [],
   "source": [
    "from PyTrilinos2 import Thyra\n",
    "\n",
    "\n",
    "def toThyra(obj):\n",
    "    if isinstance(obj, Tpetra.Map.templatedClasses):\n",
    "        return Thyra.tpetraVectorSpace(obj)\n",
    "    elif isinstance(obj, Tpetra.Vector.templatedClasses):\n",
    "        thyra_map = toThyra(obj.getMap())\n",
    "        return Thyra.tpetraVector(thyra_map, obj)\n",
    "    elif isinstance(obj, Tpetra.MultiVector.templatedClasses):\n",
    "        thyra_map = toThyra(obj.getMap())\n",
    "        return Thyra.tpetraMultiVector(thyra_map, obj)\n",
    "    elif isinstance(obj, Tpetra.CrsMatrix.templatedClasses):\n",
    "        thyra_domainmap = toThyra(obj.getDomainMap())\n",
    "        thyra_rangemap = toThyra(obj.getRangeMap())\n",
    "        return Thyra.tpetraLinearOp(thyra_rangemap, thyra_domainmap, obj)\n",
    "    else:\n",
    "        raise NotImplementedError(type(obj))\n",
    "\n",
    "thyra_x = toThyra(tpetra_x)\n",
    "thyra_b = toThyra(tpetra_b)\n",
    "thyra_A = toThyra(tpetra_A)"
   ]
  },
  {
   "cell_type": "markdown",
   "id": "8073cad5-c17a-4c34-b138-10cfb6f796ab",
   "metadata": {},
   "source": [
    "Now we can set up the linear solver builder:"
   ]
  },
  {
   "cell_type": "code",
   "execution_count": 31,
   "id": "72ee55d5-f213-430e-9612-f65fe45a721f",
   "metadata": {},
   "outputs": [],
   "source": [
    "from PyTrilinos2 import Stratimikos\n",
    "\n",
    "linearSolverBuilder = Stratimikos.LinearSolverBuilder['double']()"
   ]
  },
  {
   "cell_type": "markdown",
   "id": "a72e89b9-8070-422d-849d-4ada25d8603a",
   "metadata": {},
   "source": [
    "We set parameters as a Teuchos ParameterList which is similar to a Python dictionary. \"Amesos2\" will give us a direct solver."
   ]
  },
  {
   "cell_type": "code",
   "execution_count": 32,
   "id": "94b24fe4-50b4-40f8-a15c-8ede30931f29",
   "metadata": {},
   "outputs": [
    {
     "name": "stdout",
     "output_type": "stream",
     "text": [
      "Linear Solver Type = Amesos2   [unused]\n",
      "\n"
     ]
    }
   ],
   "source": [
    "params = Teuchos.ParameterList()\n",
    "params[\"Linear Solver Type\"] = \"Amesos2\"\n",
    "print(params)"
   ]
  },
  {
   "cell_type": "code",
   "execution_count": 33,
   "id": "661ad052-2405-4db4-92ac-dcf65fd24a11",
   "metadata": {},
   "outputs": [],
   "source": [
    "linearSolverBuilder.setParameterList(params)\n",
    "solverFactory = Thyra.createLinearSolveStrategy(linearSolverBuilder)\n",
    "thyra_invA = Thyra.linearOpWithSolve(solverFactory, thyra_A)"
   ]
  },
  {
   "cell_type": "markdown",
   "id": "28b7983c-b910-4825-9a01-7d078ef840c6",
   "metadata": {},
   "source": [
    "We can now solve the linear system:"
   ]
  },
  {
   "cell_type": "code",
   "execution_count": 34,
   "id": "98cce4ff-2be6-4339-94f2-28f71899d53f",
   "metadata": {},
   "outputs": [
    {
     "data": {
      "text/plain": [
       "<ESolveStatus.SOLVE_STATUS_CONVERGED: 0>"
      ]
     },
     "execution_count": 34,
     "metadata": {},
     "output_type": "execute_result"
    }
   ],
   "source": [
    "status = thyra_invA.solve(Thyra.NOTRANS, thyra_b, thyra_x)\n",
    "status.solveStatus"
   ]
  },
  {
   "cell_type": "markdown",
   "id": "59345f49-d0e0-432c-9108-57ba92ea793b",
   "metadata": {},
   "source": [
    "We check the result:"
   ]
  },
  {
   "cell_type": "code",
   "execution_count": 35,
   "id": "7d6bcc71-de67-44e2-bcb4-a3eb45db2aa3",
   "metadata": {},
   "outputs": [
    {
     "name": "stdout",
     "output_type": "stream",
     "text": [
      "|Ax-b|_2 = 2.965272890640642e-10\n"
     ]
    }
   ],
   "source": [
    "tpetra_A.apply(tpetra_x, tpetra_residual)\n",
    "tpetra_residual.update(1.0, tpetra_b, -1.0)\n",
    "print(r'|Ax-b|_2 =', tpetra_residual.norm2())"
   ]
  },
  {
   "cell_type": "markdown",
   "id": "559038eb-e105-4792-babb-bd4b53a4042f",
   "metadata": {},
   "source": [
    "Print default parameters"
   ]
  },
  {
   "cell_type": "code",
   "execution_count": 38,
   "id": "4fc72b2c-bdb9-4021-8e3f-c3d7e57eeeed",
   "metadata": {},
   "outputs": [
    {
     "name": "stdout",
     "output_type": "stream",
     "text": [
      "Linear Solver Type = Belos   [unused]\n",
      "Preconditioner Type = Ifpack2   [unused]\n",
      "Enable Delayed Solver Construction = 0   [unused]\n",
      "Linear Solver Types -> \n",
      " Amesos2 -> \n",
      "  Solver Type = KLU2   [unused]\n",
      "  Refactorization Policy = RepivotOnRefactorization   [unused]\n",
      "  Throw on Preconditioner Input = 1   [unused]\n",
      "  VerboseObject -> \n",
      "   Verbosity Level = default   [unused]\n",
      "   Output File = none   [unused]\n",
      " Belos -> \n",
      "  Solver Type = Pseudo Block GMRES   [unused]\n",
      "  Convergence Test Frequency = 1   [unused]\n",
      "  Left Preconditioner If Unspecified = 0   [unused]\n",
      "  Solver Types -> \n",
      "   Block GMRES -> \n",
      "    Convergence Tolerance = 1e-08   [unused]\n",
      "    Maximum Restarts = 20   [unused]\n",
      "    Maximum Iterations = 1000   [unused]\n",
      "    Num Blocks = 300   [unused]\n",
      "    Block Size = 1   [unused]\n",
      "    Adaptive Block Size = 1   [unused]\n",
      "    Verbosity = 0   [unused]\n",
      "    Output Style = 0   [unused]\n",
      "    Output Frequency = -1   [unused]\n",
      "    Output Stream = Teuchos::RCP<std::ostream>{ptr=0x7fb90e759580,node=0x2d459dd0,strong_count=3,weak_count=0}   [unused]\n",
      "    Show Maximum Residual Norm Only = 0   [unused]\n",
      "    Flexible Gmres = 0   [unused]\n",
      "    Explicit Residual Test = 0   [unused]\n",
      "    Implicit Residual Scaling = Norm of Preconditioned Initial Residual   [unused]\n",
      "    Explicit Residual Scaling = Norm of Initial Residual   [unused]\n",
      "    Timer Label = Belos   [unused]\n",
      "    Orthogonalization = ICGS   [unused]\n",
      "    Orthogonalization Constant = -1   [unused]\n",
      "   Pseudo Block GMRES -> \n",
      "    Convergence Tolerance = 1e-08   [unused]\n",
      "    Maximum Restarts = 20   [unused]\n",
      "    Maximum Iterations = 1000   [unused]\n",
      "    Num Blocks = 300   [unused]\n",
      "    Block Size = 1   [unused]\n",
      "    Verbosity = 0   [unused]\n",
      "    Output Style = 0   [unused]\n",
      "    Output Frequency = -1   [unused]\n",
      "    Deflation Quorum = 1   [unused]\n",
      "    Output Stream = Teuchos::RCP<std::ostream>{ptr=0x7fb90e759580,node=0x2d459e50,strong_count=3,weak_count=0}   [unused]\n",
      "    Show Maximum Residual Norm Only = 0   [unused]\n",
      "    Implicit Residual Scaling = Norm of Preconditioned Initial Residual   [unused]\n",
      "    Explicit Residual Scaling = Norm of Initial Residual   [unused]\n",
      "    Timer Label = Belos   [unused]\n",
      "    Orthogonalization = ICGS   [unused]\n",
      "    Orthogonalization Constant = -1   [unused]\n",
      "    User Status Tests Combo Type = SEQ   [unused]\n",
      "    User Status Tests -> \n",
      "     [empty list]\n",
      "   Block CG -> \n",
      "    Convergence Tolerance = 1e-08   [unused]\n",
      "    Maximum Iterations = 1000   [unused]\n",
      "    Block Size = 1   [unused]\n",
      "    Adaptive Block Size = 1   [unused]\n",
      "    Verbosity = 0   [unused]\n",
      "    Output Style = 0   [unused]\n",
      "    Output Frequency = -1   [unused]\n",
      "    Output Stream = Teuchos::RCP<std::ostream>{ptr=0x7fb90e759580,node=0x2d4538d0,strong_count=3,weak_count=0}   [unused]\n",
      "    Show Maximum Residual Norm Only = 0   [unused]\n",
      "    Use Single Reduction = 0   [unused]\n",
      "    Implicit Residual Scaling = Norm of Initial Residual   [unused]\n",
      "    Timer Label = Belos   [unused]\n",
      "    Orthogonalization = ICGS   [unused]\n",
      "    Assert Positive Definiteness = 1   [unused]\n",
      "    Orthogonalization Constant = -1   [unused]\n",
      "    Residual Norm = TwoNorm   [unused]\n",
      "    Fold Convergence Detection Into Allreduce = 0   [unused]\n",
      "   Pseudo Block CG -> \n",
      "    Convergence Tolerance = 1e-08   [unused]\n",
      "    Maximum Iterations = 1000   [unused]\n",
      "    Assert Positive Definiteness = 1   [unused]\n",
      "    Verbosity = 0   [unused]\n",
      "    Output Style = 0   [unused]\n",
      "    Output Frequency = -1   [unused]\n",
      "    Deflation Quorum = 1   [unused]\n",
      "    Output Stream = Teuchos::RCP<std::ostream>{ptr=0x7fb90e759580,node=0x2d59e210,strong_count=2,weak_count=0}   [unused]\n",
      "    Show Maximum Residual Norm Only = 0   [unused]\n",
      "    Implicit Residual Scaling = Norm of Initial Residual   [unused]\n",
      "    Estimate Condition Number = 0   [unused]\n",
      "    Residual Scaling = Norm of Initial Residual   [unused]\n",
      "    Timer Label = Belos   [unused]\n",
      "    Fold Convergence Detection Into Allreduce = 0   [unused]\n",
      "   Pseudo Block Stochastic CG -> \n",
      "    Convergence Tolerance = 1e-08   [unused]\n",
      "    Maximum Iterations = 1000   [unused]\n",
      "    Assert Positive Definiteness = 1   [unused]\n",
      "    Verbosity = 0   [unused]\n",
      "    Output Style = 0   [unused]\n",
      "    Output Frequency = -1   [unused]\n",
      "    Deflation Quorum = 1   [unused]\n",
      "    Output Stream = Teuchos::RCP<std::ostream>{ptr=0x7fb90e759580,node=0x2d637d30,strong_count=2,weak_count=0}   [unused]\n",
      "    Show Maximum Residual Norm Only = 0   [unused]\n",
      "    Implicit Residual Scaling = Norm of Initial Residual   [unused]\n",
      "    Residual Scaling = Norm of Initial Residual   [unused]\n",
      "    Timer Label = Belos   [unused]\n",
      "   GCRODR -> \n",
      "    Convergence Tolerance = 1e-08   [unused]\n",
      "    Maximum Restarts = 100   [unused]\n",
      "    Maximum Iterations = 1000   [unused]\n",
      "    Block Size = 1   [unused]\n",
      "    Num Blocks = 50   [unused]\n",
      "    Num Recycled Blocks = 5   [unused]\n",
      "    Verbosity = 0   [unused]\n",
      "    Output Style = 0   [unused]\n",
      "    Output Frequency = -1   [unused]\n",
      "    Output Stream = Teuchos::RCP<std::ostream>{ptr=0x7fb90e759580,node=0x2d713d90,strong_count=3,weak_count=0}   [unused]\n",
      "    Implicit Residual Scaling = Norm of Preconditioned Initial Residual   [unused]\n",
      "    Explicit Residual Scaling = Norm of Initial Residual   [unused]\n",
      "    Timer Label = Belos   [unused]\n",
      "    Orthogonalization = ICGS   [unused]\n",
      "    Orthogonalization Constant = 0   [unused]\n",
      "    Orthogonalization Parameters -> \n",
      "     maxNumOrthogPasses = 2   [unused]\n",
      "     blkTol = 1.49012e-07   [unused]\n",
      "     singTol = 2.22045e-15   [unused]\n",
      "   RCG -> \n",
      "    Convergence Tolerance = 1e-08   [unused]\n",
      "    Maximum Iterations = 1000   [unused]\n",
      "    Block Size = 1   [unused]\n",
      "    Num Blocks = 25   [unused]\n",
      "    Num Recycled Blocks = 3   [unused]\n",
      "    Verbosity = 0   [unused]\n",
      "    Output Style = 0   [unused]\n",
      "    Output Frequency = -1   [unused]\n",
      "    Output Stream = Teuchos::RCP<std::ostream>{ptr=0x7fb90e759580,node=0x2d719f90,strong_count=3,weak_count=0}   [unused]\n",
      "    Show Maximum Residual Norm Only = 0   [unused]\n",
      "    Timer Label = Belos   [unused]\n",
      "   MINRES -> \n",
      "    Convergence Tolerance = 1.49012e-08\n",
      "    Maximum Iterations = 1000\n",
      "    Num Blocks = -1   [unused]\n",
      "    Block Size = 1\n",
      "    Verbosity = 0   [unused]\n",
      "    Output Style = 0   [unused]\n",
      "    Output Frequency = -1   [unused]\n",
      "    Output Stream = Teuchos::RCP<std::ostream>{ptr=0x7fb90e759580,node=0x2d71cc80,strong_count=2,weak_count=0}   [unused]\n",
      "    Timer Label = Belos   [unused]\n",
      "   TFQMR -> \n",
      "    Convergence Tolerance = 1e-08   [unused]\n",
      "    Implicit Tolerance Scale Factor = 10   [unused]\n",
      "    Maximum Iterations = 1000   [unused]\n",
      "    Verbosity = 0   [unused]\n",
      "    Output Style = 0   [unused]\n",
      "    Output Frequency = -1   [unused]\n",
      "    Output Stream = Teuchos::RCP<std::ostream>{ptr=0x7fb90e759580,node=0x2d71de70,strong_count=3,weak_count=0}   [unused]\n",
      "    Explicit Residual Test = 0   [unused]\n",
      "    Implicit Residual Scaling = Norm of Preconditioned Initial Residual   [unused]\n",
      "    Explicit Residual Scaling = Norm of Initial Residual   [unused]\n",
      "    Timer Label = Belos   [unused]\n",
      "   BiCGStab -> \n",
      "    Convergence Tolerance = 1e-08   [unused]\n",
      "    Maximum Iterations = 1000   [unused]\n",
      "    Verbosity = 0   [unused]\n",
      "    Output Style = 0   [unused]\n",
      "    Output Frequency = -1   [unused]\n",
      "    Deflation Quorum = 1   [unused]\n",
      "    Output Stream = Teuchos::RCP<std::ostream>{ptr=0x7fb90e759580,node=0x2d720360,strong_count=2,weak_count=0}   [unused]\n",
      "    Show Maximum Residual Norm Only = 0   [unused]\n",
      "    Implicit Residual Scaling = Norm of Initial Residual   [unused]\n",
      "    Residual Scaling = Norm of Initial Residual   [unused]\n",
      "    Timer Label = Belos   [unused]\n",
      "   Fixed Point -> \n",
      "    Convergence Tolerance = 1e-08   [unused]\n",
      "    Maximum Iterations = 1000   [unused]\n",
      "    Block Size = 1   [unused]\n",
      "    Verbosity = 0   [unused]\n",
      "    Output Style = 0   [unused]\n",
      "    Output Frequency = -1   [unused]\n",
      "    Output Stream = Teuchos::RCP<std::ostream>{ptr=0x7fb90e759580,node=0x2d720b90,strong_count=3,weak_count=0}   [unused]\n",
      "    Show Maximum Residual Norm Only = 0   [unused]\n",
      "    Timer Label = Belos   [unused]\n",
      "   TPETRA GMRES -> \n",
      "    Convergence Tolerance = 1.49012e-08   [unused]\n",
      "    Implicit Residual Scaling = Norm of Preconditioned Initial Residual   [unused]\n",
      "    Maximum Iterations = 1000   [unused]\n",
      "    Verbosity = 0   [unused]\n",
      "    Num Blocks = 30   [unused]\n",
      "    Maximum Restarts = 1000   [unused]\n",
      "   TPETRA GMRES PIPELINE -> \n",
      "    Convergence Tolerance = 1.49012e-08   [unused]\n",
      "    Implicit Residual Scaling = Norm of Preconditioned Initial Residual   [unused]\n",
      "    Maximum Iterations = 1000   [unused]\n",
      "    Verbosity = 0   [unused]\n",
      "    Num Blocks = 30   [unused]\n",
      "    Maximum Restarts = 1000   [unused]\n",
      "   TPETRA GMRES SINGLE REDUCE -> \n",
      "    Convergence Tolerance = 1.49012e-08   [unused]\n",
      "    Implicit Residual Scaling = Norm of Preconditioned Initial Residual   [unused]\n",
      "    Maximum Iterations = 1000   [unused]\n",
      "    Verbosity = 0   [unused]\n",
      "    Num Blocks = 30   [unused]\n",
      "    Maximum Restarts = 1000   [unused]\n",
      "   TPETRA GMRES S-STEP -> \n",
      "    Convergence Tolerance = 1.49012e-08   [unused]\n",
      "    Implicit Residual Scaling = Norm of Preconditioned Initial Residual   [unused]\n",
      "    Maximum Iterations = 1000   [unused]\n",
      "    Verbosity = 0   [unused]\n",
      "    Num Blocks = 30   [unused]\n",
      "    Maximum Restarts = 1000   [unused]\n",
      "    Step Size = 5   [unused]\n",
      "  VerboseObject -> \n",
      "   Verbosity Level = default   [unused]\n",
      "   Output File = none   [unused]\n",
      "Preconditioner Types -> \n",
      " Ifpack2 -> \n",
      "  Prec Type = ILUT   [unused]\n",
      "  Overlap = 0   [unused]\n",
      "  half precision = 0   [unused]\n",
      "  Ifpack2 Settings -> \n",
      "   fact: iluk level-of-fill = 1   [unused]\n",
      "   fact: iluk level-of-overlap = 0   [unused]\n",
      "   chebyshev: max eigenvalue = nan   [unused]\n",
      "   chebyshev: ratio eigenvalue = nan   [unused]\n",
      "   chebyshev: min eigenvalue = 30   [unused]\n",
      "   chebyshev: degree = 1   [unused]\n",
      "   chebyshev: eigenvalue max iterations = 10   [unused]\n",
      "   chebyshev: eigenvalue relative tolerance = 0   [unused]\n",
      "   chebyshev: eigenvalue keep vector = 0   [unused]\n",
      "   chebyshev: assume matrix does not change = 0   [unused]\n",
      "   chebyshev: min diagonal value = 2.22045e-16   [unused]\n",
      "   chebyshev: zero starting solution = 1   [unused]\n",
      "   chebyshev: use native spmv = 0   [unused]\n",
      "   chebyshev: algorithm = first   [unused]\n",
      "   amesos: solver type = Amesos_Klu   [unused]\n",
      "   fact: level-of-fill = 0   [unused]\n",
      "   fact: absolute threshold = 0   [unused]\n",
      "   fact: relative threshold = 1   [unused]\n",
      "   fact: drop tolerance = 0   [unused]\n",
      "   fact: ict level-of-fill = 1   [unused]\n",
      "   fact: relax value = 0   [unused]\n",
      "   fact: ilut level-of-fill = 1   [unused]\n",
      "   fact: type = serial   [unused]\n",
      "   trisolver: type = Internal   [unused]\n",
      "   trisolver: block size = 1   [unused]\n",
      "   trisolver: reverse U = 0   [unused]\n",
      "   partitioner: local parts = 1   [unused]\n",
      "   partitioner: overlap = 0   [unused]\n",
      "   partitioner: print level = 0   [unused]\n",
      "   relaxation: container = TriDi   [unused]\n",
      "   relaxation: type = Jacobi   [unused]\n",
      "   relaxation: sweeps = 1   [unused]\n",
      "   relaxation: direction = forward   [unused]\n",
      "   relaxation: damping factor = 1   [unused]\n",
      "   relaxation: min diagonal value = 1   [unused]\n",
      "   relaxation: zero starting solution = 1   [unused]\n",
      "   relaxation: backward mode = 0   [unused]\n",
      "   relaxation: use l1 = 0   [unused]\n",
      "   relaxation: l1 eta = 1.5   [unused]\n",
      "   relaxation: banded container superdiagonals = -1   [unused]\n",
      "   relaxation: banded container subdiagonals = -1   [unused]\n",
      "   relaxation: mtgs cluster size = 1   [unused]\n",
      "   relaxation: mtgs coloring algorithm = Default   [unused]\n",
      "   relaxation: long row threshold = 0   [unused]\n",
      "   fact: sparskit: lfil = 0   [unused]\n",
      "   fact: sparskit: tol = 0   [unused]\n",
      "   fact: sparskit: droptol = 0   [unused]\n",
      "   fact: sparskit: permtol = 0.1   [unused]\n",
      "   fact: sparskit: alph = 0   [unused]\n",
      "   fact: sparskit: mbloc = -1   [unused]\n",
      "   fact: sparskit: type = ILUT   [unused]\n",
      "   schwarz: compute condest = 0   [unused]\n",
      "   schwarz: combine mode = ZERO   [unused]\n",
      "   schwarz: use reordering = 1   [unused]\n",
      "   schwarz: filter singletons = 0   [unused]\n",
      "   schwarz: overlap level = 0   [unused]\n",
      "   schwarz: num iterations = 1   [unused]\n",
      "   subdomain solver name =    [unused]\n",
      "   inner solver name =    [unused]\n",
      "   schwarz: subdomain solver name =    [unused]\n",
      "   schwarz: inner solver name =    [unused]\n",
      "   partitioner: type = greedy   [unused]\n",
      "   zoltan2: algorithm = phg   [unused]\n",
      "   partitioner: parts = {}   [unused]\n",
      "   partitioner: maintain sparsity = 0   [unused]\n",
      "   block relaxation: decouple dofs = 0   [unused]\n",
      "   partitioner: use symmetric graph = 1   [unused]\n",
      "   Amesos2 solver name = KLU2   [unused]\n",
      "   partitioner: map = Teuchos::ArrayRCP<int>{ptr=0,lowerOffset=0,upperOffset=-1,size=0,node=0,strong_count=0,weak_count=0}   [unused]\n",
      "   partitioner: line detection threshold = 0   [unused]\n",
      "   partitioner: PDE equations = 1   [unused]\n",
      "   partitioner: coordinates = Teuchos::RCP<Tpetra::MultiVector<double, int, long long, Tpetra::KokkosCompat::KokkosDeviceWrapperNode<Kokkos::Serial, Kokkos::HostSpace> > >{ptr=0,node=0,strong_count=0,weak_count=0}   [unused]\n",
      "   hypre: Solver = PCG   [unused]\n",
      "   hypre: Preconditioner = Euclid   [unused]\n",
      "   hypre: SolveOrPrecondition = Solver   [unused]\n",
      "   hypre: Dump = 0   [unused]\n",
      "   hypre: SetPreconditioner = 0   [unused]\n",
      "   hypre: NumFunctions = 0   [unused]\n",
      "   parallel ILUT options -> \n",
      "    [empty list]\n",
      "   inner preconditioner parameters -> \n",
      "    [empty list]\n",
      "   subdomain solver parameters -> \n",
      "    [empty list]\n",
      "   schwarz: inner preconditioner parameters -> \n",
      "    [empty list]\n",
      "   schwarz: subdomain solver parameters -> \n",
      "    [empty list]\n",
      "   schwarz: reordering list -> \n",
      "    [empty list]\n",
      "   Amesos2 -> \n",
      "    [empty list]\n",
      "   hypre: Solver functions -> \n",
      "    [empty list]\n",
      "   hypre: Preconditioner functions -> \n",
      "    [empty list]\n",
      "   Operators -> \n",
      "    [empty list]\n",
      "   Coordinates -> \n",
      "    [empty list]\n",
      "  VerboseObject -> \n",
      "   Verbosity Level = default   [unused]\n",
      "   Output File = none   [unused]\n",
      "\n"
     ]
    }
   ],
   "source": [
    "print(linearSolverBuilder.getValidParameters())"
   ]
  },
  {
   "cell_type": "code",
   "execution_count": null,
   "id": "13a8664b-9734-45fe-a258-22868c9dde47",
   "metadata": {},
   "outputs": [],
   "source": [
    "params = Teuchos.ParameterList()\n",
    "params[\"Preconditioner Type\"] = \"MueLu\"\n",
    "linearSolverBuilder.setParameterList(params)\n",
    "solverName = linearSolverBuilder.getLinearSolveStrategyName()\n",
    "precName = linearSolverBuilder.getPreconditionerStrategyName()\n",
    "solverFactory = Thyra.createLinearSolveStrategy(linearSolverBuilder)\n",
    "solverName, precName"
   ]
  },
  {
   "cell_type": "code",
   "execution_count": null,
   "id": "b71e8827-df7d-40b5-b10b-d9fc95d7a0b5",
   "metadata": {},
   "outputs": [],
   "source": [
    "thyra_invA = Thyra.linearOpWithSolve(solverFactory, thyra_A)"
   ]
  },
  {
   "cell_type": "code",
   "execution_count": null,
   "id": "f3314a11-d57a-45e0-b2b6-ce726beea2f0",
   "metadata": {},
   "outputs": [],
   "source": [
    "status = thyra_invA.solve(Thyra.NOTRANS, thyra_b, thyra_x)\n",
    "status.message"
   ]
  },
  {
   "cell_type": "code",
   "execution_count": null,
   "id": "177836a1-e0f4-43be-898e-0a23c8624c39",
   "metadata": {},
   "outputs": [],
   "source": [
    "tpetra_b.getLocalViewHost()"
   ]
  },
  {
   "cell_type": "code",
   "execution_count": null,
   "id": "5a368c39-ef50-49dd-b504-744d4fa72081",
   "metadata": {},
   "outputs": [],
   "source": [
    "tpetra_x.getLocalViewHost()"
   ]
  },
  {
   "cell_type": "code",
   "execution_count": null,
   "id": "b50c8563-8f53-4910-ab7a-38403805ae4b",
   "metadata": {},
   "outputs": [],
   "source": [
    "plot(tpetra_x.getLocalViewHost())"
   ]
  }
 ],
 "metadata": {
  "kernelspec": {
   "display_name": "Python 3 (ipykernel)",
   "language": "python",
   "name": "python3"
  },
  "language_info": {
   "codemirror_mode": {
    "name": "ipython",
    "version": 3
   },
   "file_extension": ".py",
   "mimetype": "text/x-python",
   "name": "python",
   "nbconvert_exporter": "python",
   "pygments_lexer": "ipython3",
   "version": "3.12.3"
  }
 },
 "nbformat": 4,
 "nbformat_minor": 5
}
