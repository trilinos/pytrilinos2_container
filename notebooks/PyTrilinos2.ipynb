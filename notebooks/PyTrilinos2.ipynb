{
 "cells": [
  {
   "cell_type": "markdown",
   "id": "8685ac5e-8a32-48fd-a7af-5c81c60fcb87",
   "metadata": {
    "slideshow": {
     "slide_type": ""
    },
    "tags": []
   },
   "source": [
    "# PyTrilinos2 tutorial"
   ]
  },
  {
   "cell_type": "markdown",
   "id": "c2d05b8b-7906-40ee-91b1-4ae1b2b65c11",
   "metadata": {
    "slideshow": {
     "slide_type": ""
    },
    "tags": []
   },
   "source": [
    "In this tutorial we will discuss how `PyTrilinos2` generates a Python interface to Trilinos and how to use the interface to solve a linear system of equations.\n",
    "\n",
    "This tutorial is available at [https://github.com/trilinos/pytrilinos2_container](https://github.com/trilinos/pytrilinos2_container)."
   ]
  },
  {
   "cell_type": "markdown",
   "id": "523b7481-6d56-45f7-90d5-6a41dd72257a",
   "metadata": {
    "editable": true,
    "slideshow": {
     "slide_type": ""
    },
    "tags": []
   },
   "source": [
    "## Generation of Python interfaces"
   ]
  },
  {
   "cell_type": "markdown",
   "id": "5c7184df-8b8e-44d9-b412-e066652f7837",
   "metadata": {},
   "source": [
    "The vast majority of Trilinos is written in C++. \n",
    "Functionality can be exposed to Python using pybind11 [https://github.com/pybind/pybind11](https://github.com/pybind/pybind11).\n",
    "\n",
    "An example from the pybind11 documentation:\n",
    "\n",
    "The C++ function\n",
    "```C++\n",
    "int add(int i, int j) {\n",
    "    return i + j;\n",
    "}\n",
    "```\n",
    "can be exposed to Python like so:\n",
    "\n",
    "```C++\n",
    "#include <pybind11/pybind11.h>\n",
    "\n",
    "int add(int i, int j) {\n",
    "    return i + j;\n",
    "}\n",
    "\n",
    "PYBIND11_MODULE(example, m) {\n",
    "    m.doc() = \"pybind11 example plugin\"; // optional module docstring\n",
    "\n",
    "    m.def(\"add\", &add, \"A function that adds two numbers\");\n",
    "}\n",
    "```\n",
    "After compilation into a shared library, the module can be imported from Python."
   ]
  },
  {
   "cell_type": "markdown",
   "id": "82b85f9f-599b-4ca0-ab43-a56f4adea9eb",
   "metadata": {},
   "source": [
    "There is a lot of code in Trilinos, and we do not want to write (and maintain) wrappers by hand.\n",
    "Instead, we use binder [https://github.com/RosettaCommons/binder](https://github.com/RosettaCommons/binder).\n",
    "Using LLVM tools, it parses source code and generates the pybind11 source files.\n",
    "We give binder some header files and it greedily searches through all includes.\n",
    "Via a configuration file we include or exclude namespaces, classes and functions and add custom code."
   ]
  },
  {
   "cell_type": "markdown",
   "id": "3a30398c-86bc-44cc-9523-613126025a1c",
   "metadata": {},
   "source": [
    "For example, we use this file as a starting point for the search of Tpetra includes"
   ]
  },
  {
   "cell_type": "code",
   "execution_count": 1,
   "id": "4930af82-7919-4c48-878d-e74de36a8e6c",
   "metadata": {},
   "outputs": [
    {
     "name": "stdout",
     "output_type": "stream",
     "text": [
      "#ifndef PYTRILINOS2_TPETRA_ETI\n",
      "#define PYTRILINOS2_TPETRA_ETI\n",
      "\n",
      "#include <Tpetra_CrsMatrix_DOUBLE_DOUBLE_INT_LONG_LONG_SERIAL.cpp>\n",
      "#include <Tpetra_CrsMatrix_DOUBLE_INT_LONG_LONG_SERIAL.cpp>\n",
      "#include <Tpetra_CrsMatrix_INT_INT_LONG_LONG_SERIAL.cpp>\n",
      "#include <Tpetra_CrsMatrix_LONG_LONG_INT_LONG_LONG_SERIAL.cpp>\n",
      "#include <Tpetra_FECrsMatrix_DOUBLE_INT_LONG_LONG_SERIAL.cpp>\n",
      "#include <Tpetra_FECrsMatrix_INT_INT_LONG_LONG_SERIAL.cpp>\n",
      "#include <Tpetra_FECrsMatrix_LONG_LONG_INT_LONG_LONG_SERIAL.cpp>\n",
      "#include <Tpetra_FEMultiVector_DOUBLE_INT_LONG_LONG_SERIAL.cpp>\n",
      "#include <Tpetra_FEMultiVector_INT_INT_LONG_LONG_SERIAL.cpp>\n",
      "#include <Tpetra_FEMultiVector_LONG_LONG_INT_LONG_LONG_SERIAL.cpp>\n",
      "#include <Tpetra_MultiVector_DOUBLE_DOUBLE_INT_LONG_LONG_SERIAL.cpp>\n",
      "#include <Tpetra_MultiVector_DOUBLE_INT_LONG_LONG_SERIAL.cpp>\n",
      "#include <Tpetra_MultiVector_INT_INT_LONG_LONG_SERIAL.cpp>\n",
      "#include <Tpetra_MultiVector_LONG_LONG_INT_LONG_LONG_SERIAL.cpp>\n",
      "#include <Tpetra_Vector_DOUBLE_INT_LONG_LONG_SERIAL.cpp>\n",
      "#include <Tpetra_Vector_INT_INT_LONG_LONG_SERIAL.cpp>\n",
      "#include <Tpetra_Vector_LONG_LONG_INT_LONG_LONG_SERIAL.cpp>\n",
      "\n",
      "#endif // PYTRILINOS2_TPETRA_ETI\n"
     ]
    }
   ],
   "source": [
    "%%bash\n",
    "cat $TRILINOS_BUILD_DIR/packages/PyTrilinos2/src/PyTrilinos2_Tpetra_ETI.hpp"
   ]
  },
  {
   "cell_type": "markdown",
   "id": "59337c98-a5f0-4a3d-bd13-2f382250a0a3",
   "metadata": {},
   "source": [
    "and these configuration options:"
   ]
  },
  {
   "cell_type": "code",
   "execution_count": 2,
   "id": "2b6c0033-c465-4b69-83f7-d397f1433e73",
   "metadata": {},
   "outputs": [
    {
     "name": "stdout",
     "output_type": "stream",
     "text": [
      "# Tpetra\n",
      "+namespace Tpetra\n",
      "+add_on_binder_for_namespace Tpetra def_initialize_Kokkos\n",
      "+include_for_namespace Tpetra <PyTrilinos2_Tpetra_Custom.hpp>\n",
      "+include <PyTrilinos2_Tpetra_Types.hpp>\n",
      "+add_on_binder Tpetra::CrsGraph define_CrsGraph_member_functions\n",
      "+add_on_binder Tpetra::Vector define_Vector_member_functions\n",
      "+add_on_binder Tpetra::MultiVector define_MultiVector_member_functions\n",
      "+add_on_binder Tpetra::CrsMatrix define_CrsMatrix_member_functions\n",
      "-namespace Tpetra::Details\n",
      "-namespace Tpetra::Import_Util\n",
      "-namespace Tpetra::KokkosRefactor\n",
      "-class Tpetra::BlockCrsMatrix\n",
      "-class Tpetra::Details::DistributorPlan\n",
      "-class Tpetra::Directory\n"
     ]
    }
   ],
   "source": [
    "%%bash\n",
    "configFile=$TRILINOS_DIR/packages/PyTrilinos2/scripts/PyTrilinos2_config.cfg\n",
    "lineNo=`grep -n \"# Tpetra\" $configFile | cut -d : -f 1`\n",
    "tail -n +\"$lineNo\" $TRILINOS_DIR/packages/PyTrilinos2/scripts/PyTrilinos2_config.cfg | head -n 15"
   ]
  },
  {
   "cell_type": "markdown",
   "id": "d8f135e0-f979-4f0f-9070-488aa76aef2c",
   "metadata": {},
   "source": [
    "## A Python interface for Trilinos"
   ]
  },
  {
   "cell_type": "markdown",
   "id": "a5b4a255-31ce-4e23-bdb3-4e6ba38df37c",
   "metadata": {},
   "source": [
    "We will now use the Python interface of Trilinos (`PyTrilinos2`) to set up and solve a linear system (using `Tpetra` and `Thyra`) using different linear solvers and preconditioners from `Amesos2`, `Belos`, `Ifpack2` and `MueLu`."
   ]
  },
  {
   "cell_type": "code",
   "execution_count": 3,
   "id": "42e0cbc9-f0f5-4423-aa72-24a036e8827a",
   "metadata": {},
   "outputs": [],
   "source": [
    "# get std::cout to show up in Jupyter notbooks\n",
    "%load_ext redirect"
   ]
  },
  {
   "cell_type": "markdown",
   "id": "734e04f6-5239-4e1c-b490-68027b920e0b",
   "metadata": {},
   "source": [
    "### Setting up the linear system"
   ]
  },
  {
   "cell_type": "markdown",
   "id": "6a80f23c-f797-44bd-9f8c-57beb38e3343",
   "metadata": {},
   "source": [
    "The Tpetra package provides sparse linear algebra."
   ]
  },
  {
   "cell_type": "code",
   "execution_count": 4,
   "id": "8e8e5b8f-01f5-4081-9505-aac16e7f80b6",
   "metadata": {},
   "outputs": [],
   "source": [
    "from PyTrilinos2 import Tpetra"
   ]
  },
  {
   "cell_type": "markdown",
   "id": "d36e40f4-3acc-4b26-b8fe-961e17ad35e7",
   "metadata": {},
   "source": [
    "Tpetra linear algebra classes are templated on\n",
    "\n",
    "- scalar type, e.g. `double`, `float`, `std::complex<double>`\n",
    "- local ordinal type, normally `int`\n",
    "- global ordinal type, normally `long long`\n",
    "- node type, a combination of a Kokkos execution space and memory space.\n",
    "  \n",
    "Python does not have templates, so templated C++ classes are exposed as Python classes with template parameters attached to the class name.\n",
    "For example `Tpetra::Map<int, long long, Tpetra::KokkkosCompat::KokkosDeviceWrapperNode<Kokkos::Serial> >` becomes"
   ]
  },
  {
   "cell_type": "code",
   "execution_count": 5,
   "id": "1e3d05ba-e88a-4eee-9d9e-2f1fbc34fb3c",
   "metadata": {},
   "outputs": [
    {
     "data": {
      "text/plain": [
       "PyTrilinos2.PyTrilinos2.Tpetra.Map_int_long_long_Tpetra_KokkosCompat_KokkosDeviceWrapperNode_Kokkos_Serial_t"
      ]
     },
     "execution_count": 5,
     "metadata": {},
     "output_type": "execute_result"
    }
   ],
   "source": [
    "Tpetra.Map_int_long_long_Tpetra_KokkosCompat_KokkosDeviceWrapperNode_Kokkos_Serial_t"
   ]
  },
  {
   "cell_type": "markdown",
   "id": "134f9811-9166-4935-9002-30be6bc80d60",
   "metadata": {},
   "source": [
    "Since that's not very convenient (and different from C++) `PyTrilinos2` has some helper classes that map template parameters to classes:"
   ]
  },
  {
   "cell_type": "code",
   "execution_count": 6,
   "id": "5a083f26-f35c-43c0-8ce6-8d07102f8257",
   "metadata": {},
   "outputs": [
    {
     "data": {
      "text/plain": [
       "PyTrilinos2.PyTrilinos2.Tpetra.Map_int_long_long_Tpetra_KokkosCompat_KokkosDeviceWrapperNode_Kokkos_Serial_t"
      ]
     },
     "execution_count": 6,
     "metadata": {},
     "output_type": "execute_result"
    }
   ],
   "source": [
    "Tpetra.Map['int', 'long long', 'serial']"
   ]
  },
  {
   "cell_type": "markdown",
   "id": "ab42d242-274a-40ac-8073-f21b2d02f450",
   "metadata": {},
   "source": [
    "We can leverage default values for template arguments to further simplify:"
   ]
  },
  {
   "cell_type": "code",
   "execution_count": 7,
   "id": "25c6cb87-0dd0-4901-9228-c934ba938945",
   "metadata": {},
   "outputs": [
    {
     "data": {
      "text/plain": [
       "PyTrilinos2.PyTrilinos2.Tpetra.Map_int_long_long_Tpetra_KokkosCompat_KokkosDeviceWrapperNode_Kokkos_Serial_t"
      ]
     },
     "execution_count": 7,
     "metadata": {},
     "output_type": "execute_result"
    }
   ],
   "source": [
    "Tpetra.Map['int']"
   ]
  },
  {
   "cell_type": "code",
   "execution_count": 8,
   "id": "14c22722-beb3-4fd8-a920-9c1082f626b3",
   "metadata": {},
   "outputs": [
    {
     "data": {
      "text/plain": [
       "PyTrilinos2.PyTrilinos2.Tpetra.Map_int_long_long_Tpetra_KokkosCompat_KokkosDeviceWrapperNode_Kokkos_Serial_t"
      ]
     },
     "execution_count": 8,
     "metadata": {},
     "output_type": "execute_result"
    }
   ],
   "source": [
    "Tpetra.Map[()]  # no arguments specified, note ()"
   ]
  },
  {
   "cell_type": "markdown",
   "id": "e732b06c-b1a1-4b35-937c-473458315553",
   "metadata": {},
   "source": [
    "We set up a linear system\n",
    "$$A x = b,$$\n",
    "where $A$ is a 1D Laplacian and $b$ is a vector of all ones.\n",
    "\n",
    "We first need to set up a `Tpetra::Map` that describes the parallel distribution of data. We are running on a single rank, so that's quite simple.\n",
    "We can display information about the available constructors and methods using"
   ]
  },
  {
   "cell_type": "code",
   "execution_count": 9,
   "id": "c153924b-cef1-43e3-8830-5fa6c30f78c2",
   "metadata": {
    "scrolled": true
   },
   "outputs": [
    {
     "name": "stdout",
     "output_type": "stream",
     "text": [
      "Help on class MultiVector_double_int_long_long_Tpetra_KokkosCompat_KokkosDeviceWrapperNode_Kokkos_Serial_t in module PyTrilinos2.PyTrilinos2.Tpetra:\n",
      "\n",
      "class MultiVector_double_int_long_long_Tpetra_KokkosCompat_KokkosDeviceWrapperNode_Kokkos_Serial_t(DistObject_double_int_long_long_Tpetra_KokkosCompat_KokkosDeviceWrapperNode_Kokkos_Serial_t)\n",
      " |  Method resolution order:\n",
      " |      MultiVector_double_int_long_long_Tpetra_KokkosCompat_KokkosDeviceWrapperNode_Kokkos_Serial_t\n",
      " |      DistObject_double_int_long_long_Tpetra_KokkosCompat_KokkosDeviceWrapperNode_Kokkos_Serial_t\n",
      " |      SrcDistObject\n",
      " |      pybind11_builtins.pybind11_object\n",
      " |      builtins.object\n",
      " |\n",
      " |  Methods defined here:\n",
      " |\n",
      " |  __init__(...)\n",
      " |      __init__(*args, **kwargs)\n",
      " |      Overloaded function.\n",
      " |\n",
      " |      1. __init__(self: PyTrilinos2.PyTrilinos2.Tpetra.MultiVector_double_int_long_long_Tpetra_KokkosCompat_KokkosDeviceWrapperNode_Kokkos_Serial_t) -> None\n",
      " |\n",
      " |      2. __init__(self: PyTrilinos2.PyTrilinos2.Tpetra.MultiVector_double_int_long_long_Tpetra_KokkosCompat_KokkosDeviceWrapperNode_Kokkos_Serial_t, arg0: PyTrilinos2.PyTrilinos2.Tpetra.Map_int_long_long_Tpetra_KokkosCompat_KokkosDeviceWrapperNode_Kokkos_Serial_t, arg1: int) -> None\n",
      " |\n",
      " |      doc\n",
      " |\n",
      " |      3. __init__(self: PyTrilinos2.PyTrilinos2.Tpetra.MultiVector_double_int_long_long_Tpetra_KokkosCompat_KokkosDeviceWrapperNode_Kokkos_Serial_t, map: PyTrilinos2.PyTrilinos2.Tpetra.Map_int_long_long_Tpetra_KokkosCompat_KokkosDeviceWrapperNode_Kokkos_Serial_t, numVecs: int, zeroOut: bool) -> None\n",
      " |\n",
      " |      4. __init__(self: PyTrilinos2.PyTrilinos2.Tpetra.MultiVector_double_int_long_long_Tpetra_KokkosCompat_KokkosDeviceWrapperNode_Kokkos_Serial_t, source: PyTrilinos2.PyTrilinos2.Tpetra.MultiVector_double_int_long_long_Tpetra_KokkosCompat_KokkosDeviceWrapperNode_Kokkos_Serial_t, copyOrView: PyTrilinos2.PyTrilinos2.Teuchos.DataAccess) -> None\n",
      " |\n",
      " |      5. __init__(self: PyTrilinos2.PyTrilinos2.Tpetra.MultiVector_double_int_long_long_Tpetra_KokkosCompat_KokkosDeviceWrapperNode_Kokkos_Serial_t, map: PyTrilinos2.PyTrilinos2.Tpetra.Map_int_long_long_Tpetra_KokkosCompat_KokkosDeviceWrapperNode_Kokkos_Serial_t, data: PyTrilinos2.PyTrilinos2.Teuchos.ArrayView_const_double_t, LDA: int, numVecs: int) -> None\n",
      " |\n",
      " |      6. __init__(self: PyTrilinos2.PyTrilinos2.Tpetra.MultiVector_double_int_long_long_Tpetra_KokkosCompat_KokkosDeviceWrapperNode_Kokkos_Serial_t, map: PyTrilinos2.PyTrilinos2.Tpetra.Map_int_long_long_Tpetra_KokkosCompat_KokkosDeviceWrapperNode_Kokkos_Serial_t, ArrayOfPtrs: PyTrilinos2.PyTrilinos2.Teuchos.ArrayView_const_Teuchos_ArrayView_const_double_t, numVecs: int) -> None\n",
      " |\n",
      " |      7. __init__(self: PyTrilinos2.PyTrilinos2.Tpetra.MultiVector_double_int_long_long_Tpetra_KokkosCompat_KokkosDeviceWrapperNode_Kokkos_Serial_t, arg0: PyTrilinos2.PyTrilinos2.Tpetra.MultiVector_double_int_long_long_Tpetra_KokkosCompat_KokkosDeviceWrapperNode_Kokkos_Serial_t, arg1: PyTrilinos2.PyTrilinos2.Tpetra.Map_int_long_long_Tpetra_KokkosCompat_KokkosDeviceWrapperNode_Kokkos_Serial_t) -> None\n",
      " |\n",
      " |      doc\n",
      " |\n",
      " |      8. __init__(self: PyTrilinos2.PyTrilinos2.Tpetra.MultiVector_double_int_long_long_Tpetra_KokkosCompat_KokkosDeviceWrapperNode_Kokkos_Serial_t, X: PyTrilinos2.PyTrilinos2.Tpetra.MultiVector_double_int_long_long_Tpetra_KokkosCompat_KokkosDeviceWrapperNode_Kokkos_Serial_t, subMap: PyTrilinos2.PyTrilinos2.Tpetra.Map_int_long_long_Tpetra_KokkosCompat_KokkosDeviceWrapperNode_Kokkos_Serial_t, rowOffset: int) -> None\n",
      " |\n",
      " |      9. __init__(self: PyTrilinos2.PyTrilinos2.Tpetra.MultiVector_double_int_long_long_Tpetra_KokkosCompat_KokkosDeviceWrapperNode_Kokkos_Serial_t, arg0: PyTrilinos2.PyTrilinos2.Tpetra.MultiVector_double_int_long_long_Tpetra_KokkosCompat_KokkosDeviceWrapperNode_Kokkos_Serial_t, arg1: PyTrilinos2.PyTrilinos2.Tpetra.Map_int_long_long_Tpetra_KokkosCompat_KokkosDeviceWrapperNode_Kokkos_Serial_t) -> None\n",
      " |\n",
      " |      doc\n",
      " |\n",
      " |      10. __init__(self: PyTrilinos2.PyTrilinos2.Tpetra.MultiVector_double_int_long_long_Tpetra_KokkosCompat_KokkosDeviceWrapperNode_Kokkos_Serial_t, X: PyTrilinos2.PyTrilinos2.Tpetra.MultiVector_double_int_long_long_Tpetra_KokkosCompat_KokkosDeviceWrapperNode_Kokkos_Serial_t, subMap: PyTrilinos2.PyTrilinos2.Tpetra.Map_int_long_long_Tpetra_KokkosCompat_KokkosDeviceWrapperNode_Kokkos_Serial_t, rowOffset: int) -> None\n",
      " |\n",
      " |      11. __init__(self: PyTrilinos2.PyTrilinos2.Tpetra.MultiVector_double_int_long_long_Tpetra_KokkosCompat_KokkosDeviceWrapperNode_Kokkos_Serial_t, arg0: PyTrilinos2.PyTrilinos2.Tpetra.MultiVector_double_int_long_long_Tpetra_KokkosCompat_KokkosDeviceWrapperNode_Kokkos_Serial_t) -> None\n",
      " |\n",
      " |      12. __init__(self: PyTrilinos2.PyTrilinos2.Tpetra.MultiVector_double_int_long_long_Tpetra_KokkosCompat_KokkosDeviceWrapperNode_Kokkos_Serial_t, arg0: PyTrilinos2.PyTrilinos2.Tpetra.MultiVector_double_int_long_long_Tpetra_KokkosCompat_KokkosDeviceWrapperNode_Kokkos_Serial_t) -> None\n",
      " |\n",
      " |  abs(...)\n",
      " |      abs(self: PyTrilinos2.PyTrilinos2.Tpetra.MultiVector_double_int_long_long_Tpetra_KokkosCompat_KokkosDeviceWrapperNode_Kokkos_Serial_t, A: PyTrilinos2.PyTrilinos2.Tpetra.MultiVector_double_int_long_long_Tpetra_KokkosCompat_KokkosDeviceWrapperNode_Kokkos_Serial_t) -> None\n",
      " |\n",
      " |      C++: Tpetra::MultiVector<>::abs(const class Tpetra::MultiVector<double, int, longlong, Tpetra_KokkosCompat_KokkosSerialWrapperNode> &) --> void\n",
      " |\n",
      " |  aliases(...)\n",
      " |      aliases(self: PyTrilinos2.PyTrilinos2.Tpetra.MultiVector_double_int_long_long_Tpetra_KokkosCompat_KokkosDeviceWrapperNode_Kokkos_Serial_t, other: PyTrilinos2.PyTrilinos2.Tpetra.MultiVector_double_int_long_long_Tpetra_KokkosCompat_KokkosDeviceWrapperNode_Kokkos_Serial_t) -> bool\n",
      " |\n",
      " |      C++: Tpetra::MultiVector<>::aliases(const class Tpetra::MultiVector<double, int, longlong, Tpetra_KokkosCompat_KokkosSerialWrapperNode> &) const --> bool\n",
      " |\n",
      " |  assign(...)\n",
      " |      assign(*args, **kwargs)\n",
      " |      Overloaded function.\n",
      " |\n",
      " |      1. assign(self: PyTrilinos2.PyTrilinos2.Tpetra.MultiVector_double_int_long_long_Tpetra_KokkosCompat_KokkosDeviceWrapperNode_Kokkos_Serial_t, : PyTrilinos2.PyTrilinos2.Tpetra.MultiVector_double_int_long_long_Tpetra_KokkosCompat_KokkosDeviceWrapperNode_Kokkos_Serial_t) -> PyTrilinos2.PyTrilinos2.Tpetra.MultiVector_double_int_long_long_Tpetra_KokkosCompat_KokkosDeviceWrapperNode_Kokkos_Serial_t\n",
      " |\n",
      " |      Copy assigment (shallow copy).\n",
      " |\n",
      " |       MultiVector's copy constructor always does a shallow copy.\n",
      " |       Use the nonmember function Tpetra::deep_copy (see\n",
      " |       below) to deep-copy one existing MultiVector to another.\n",
      " |\n",
      " |      C++: Tpetra::MultiVector<>::operator=(const class Tpetra::MultiVector<double, int, longlong, Tpetra_KokkosCompat_KokkosSerialWrapperNode> &) --> class Tpetra::MultiVector<double, int, longlong, Tpetra_KokkosCompat_KokkosSerialWrapperNode> &\n",
      " |\n",
      " |      2. assign(self: PyTrilinos2.PyTrilinos2.Tpetra.MultiVector_double_int_long_long_Tpetra_KokkosCompat_KokkosDeviceWrapperNode_Kokkos_Serial_t, src: PyTrilinos2.PyTrilinos2.Tpetra.MultiVector_double_int_long_long_Tpetra_KokkosCompat_KokkosDeviceWrapperNode_Kokkos_Serial_t) -> None\n",
      " |\n",
      " |      C++: Tpetra::MultiVector<>::assign(const class Tpetra::MultiVector<double, int, longlong, Tpetra_KokkosCompat_KokkosSerialWrapperNode> &) --> void\n",
      " |\n",
      " |      3. assign(self: PyTrilinos2.PyTrilinos2.Tpetra.MultiVector_double_int_long_long_Tpetra_KokkosCompat_KokkosDeviceWrapperNode_Kokkos_Serial_t, : PyTrilinos2.PyTrilinos2.Tpetra.DistObject_double_int_long_long_Tpetra_KokkosCompat_KokkosDeviceWrapperNode_Kokkos_Serial_t) -> PyTrilinos2.PyTrilinos2.Tpetra.DistObject_double_int_long_long_Tpetra_KokkosCompat_KokkosDeviceWrapperNode_Kokkos_Serial_t\n",
      " |\n",
      " |      C++: Tpetra::DistObject<double>::operator=(const class Tpetra::DistObject<double> &) --> class Tpetra::DistObject<double> &\n",
      " |\n",
      " |  beginExport(...)\n",
      " |      beginExport(*args, **kwargs)\n",
      " |      Overloaded function.\n",
      " |\n",
      " |      1. beginExport(self: PyTrilinos2.PyTrilinos2.Tpetra.DistObject_double_int_long_long_Tpetra_KokkosCompat_KokkosDeviceWrapperNode_Kokkos_Serial_t, source: PyTrilinos2.PyTrilinos2.Tpetra.SrcDistObject, exporter: PyTrilinos2.PyTrilinos2.Tpetra.Export_int_long_long_Tpetra_KokkosCompat_KokkosDeviceWrapperNode_Kokkos_Serial_t, CM: PyTrilinos2.PyTrilinos2.Tpetra.CombineMode) -> None\n",
      " |\n",
      " |      2. beginExport(self: PyTrilinos2.PyTrilinos2.Tpetra.MultiVector_double_int_long_long_Tpetra_KokkosCompat_KokkosDeviceWrapperNode_Kokkos_Serial_t, source: PyTrilinos2.PyTrilinos2.Tpetra.SrcDistObject, exporter: PyTrilinos2.PyTrilinos2.Tpetra.Export_int_long_long_Tpetra_KokkosCompat_KokkosDeviceWrapperNode_Kokkos_Serial_t, CM: PyTrilinos2.PyTrilinos2.Tpetra.CombineMode, restrictedMode: bool) -> None\n",
      " |\n",
      " |      C++: Tpetra::DistObject<double>::beginExport(const class Tpetra::SrcDistObject &, const class Tpetra::Export<> &, const enum Tpetra::CombineMode, const bool) --> void\n",
      " |\n",
      " |      3. beginExport(self: PyTrilinos2.PyTrilinos2.Tpetra.DistObject_double_int_long_long_Tpetra_KokkosCompat_KokkosDeviceWrapperNode_Kokkos_Serial_t, source: PyTrilinos2.PyTrilinos2.Tpetra.SrcDistObject, importer: PyTrilinos2.PyTrilinos2.Tpetra.Import_int_long_long_Tpetra_KokkosCompat_KokkosDeviceWrapperNode_Kokkos_Serial_t, CM: PyTrilinos2.PyTrilinos2.Tpetra.CombineMode) -> None\n",
      " |\n",
      " |      4. beginExport(self: PyTrilinos2.PyTrilinos2.Tpetra.MultiVector_double_int_long_long_Tpetra_KokkosCompat_KokkosDeviceWrapperNode_Kokkos_Serial_t, source: PyTrilinos2.PyTrilinos2.Tpetra.SrcDistObject, importer: PyTrilinos2.PyTrilinos2.Tpetra.Import_int_long_long_Tpetra_KokkosCompat_KokkosDeviceWrapperNode_Kokkos_Serial_t, CM: PyTrilinos2.PyTrilinos2.Tpetra.CombineMode, restrictedMode: bool) -> None\n",
      " |\n",
      " |      C++: Tpetra::DistObject<double>::beginExport(const class Tpetra::SrcDistObject &, const class Tpetra::Import<> &, const enum Tpetra::CombineMode, const bool) --> void\n",
      " |\n",
      " |  beginImport(...)\n",
      " |      beginImport(*args, **kwargs)\n",
      " |      Overloaded function.\n",
      " |\n",
      " |      1. beginImport(self: PyTrilinos2.PyTrilinos2.Tpetra.DistObject_double_int_long_long_Tpetra_KokkosCompat_KokkosDeviceWrapperNode_Kokkos_Serial_t, source: PyTrilinos2.PyTrilinos2.Tpetra.SrcDistObject, importer: PyTrilinos2.PyTrilinos2.Tpetra.Import_int_long_long_Tpetra_KokkosCompat_KokkosDeviceWrapperNode_Kokkos_Serial_t, CM: PyTrilinos2.PyTrilinos2.Tpetra.CombineMode) -> None\n",
      " |\n",
      " |      2. beginImport(self: PyTrilinos2.PyTrilinos2.Tpetra.MultiVector_double_int_long_long_Tpetra_KokkosCompat_KokkosDeviceWrapperNode_Kokkos_Serial_t, source: PyTrilinos2.PyTrilinos2.Tpetra.SrcDistObject, importer: PyTrilinos2.PyTrilinos2.Tpetra.Import_int_long_long_Tpetra_KokkosCompat_KokkosDeviceWrapperNode_Kokkos_Serial_t, CM: PyTrilinos2.PyTrilinos2.Tpetra.CombineMode, restrictedMode: bool) -> None\n",
      " |\n",
      " |      C++: Tpetra::DistObject<double>::beginImport(const class Tpetra::SrcDistObject &, const class Tpetra::Import<> &, const enum Tpetra::CombineMode, const bool) --> void\n",
      " |\n",
      " |      3. beginImport(self: PyTrilinos2.PyTrilinos2.Tpetra.DistObject_double_int_long_long_Tpetra_KokkosCompat_KokkosDeviceWrapperNode_Kokkos_Serial_t, source: PyTrilinos2.PyTrilinos2.Tpetra.SrcDistObject, exporter: PyTrilinos2.PyTrilinos2.Tpetra.Export_int_long_long_Tpetra_KokkosCompat_KokkosDeviceWrapperNode_Kokkos_Serial_t, CM: PyTrilinos2.PyTrilinos2.Tpetra.CombineMode) -> None\n",
      " |\n",
      " |      4. beginImport(self: PyTrilinos2.PyTrilinos2.Tpetra.MultiVector_double_int_long_long_Tpetra_KokkosCompat_KokkosDeviceWrapperNode_Kokkos_Serial_t, source: PyTrilinos2.PyTrilinos2.Tpetra.SrcDistObject, exporter: PyTrilinos2.PyTrilinos2.Tpetra.Export_int_long_long_Tpetra_KokkosCompat_KokkosDeviceWrapperNode_Kokkos_Serial_t, CM: PyTrilinos2.PyTrilinos2.Tpetra.CombineMode, restrictedMode: bool) -> None\n",
      " |\n",
      " |      C++: Tpetra::DistObject<double>::beginImport(const class Tpetra::SrcDistObject &, const class Tpetra::Export<> &, const enum Tpetra::CombineMode, const bool) --> void\n",
      " |\n",
      " |  convert(...)\n",
      " |      convert(self: PyTrilinos2.PyTrilinos2.Tpetra.MultiVector_double_int_long_long_Tpetra_KokkosCompat_KokkosDeviceWrapperNode_Kokkos_Serial_t) -> PyTrilinos2.PyTrilinos2.Tpetra.MultiVector_double_int_long_long_Tpetra_KokkosCompat_KokkosDeviceWrapperNode_Kokkos_Serial_t\n",
      " |\n",
      " |      C++: Tpetra::MultiVector<>::convert() const --> class Teuchos::RCP<class Tpetra::MultiVector<double, int, longlong, Tpetra_KokkosCompat_KokkosSerialWrapperNode> >\n",
      " |\n",
      " |  describe(...)\n",
      " |      describe(*args, **kwargs)\n",
      " |      Overloaded function.\n",
      " |\n",
      " |      1. describe(self: PyTrilinos2.PyTrilinos2.Tpetra.MultiVector_double_int_long_long_Tpetra_KokkosCompat_KokkosDeviceWrapperNode_Kokkos_Serial_t, out: PyTrilinos2.PyTrilinos2.Teuchos.basic_FancyOStream_char_std_char_traits_char_t) -> None\n",
      " |\n",
      " |      2. describe(self: PyTrilinos2.PyTrilinos2.Tpetra.MultiVector_double_int_long_long_Tpetra_KokkosCompat_KokkosDeviceWrapperNode_Kokkos_Serial_t, out: PyTrilinos2.PyTrilinos2.Teuchos.basic_FancyOStream_char_std_char_traits_char_t, verbLevel: PyTrilinos2.PyTrilinos2.Teuchos.EVerbosityLevel) -> None\n",
      " |\n",
      " |      C++: Tpetra::MultiVector<>::describe(class Teuchos::basic_FancyOStream<char> &, const enum Teuchos::EVerbosityLevel) const --> void\n",
      " |\n",
      " |      3. describe(self: PyTrilinos2.PyTrilinos2.Tpetra.DistObject_double_int_long_long_Tpetra_KokkosCompat_KokkosDeviceWrapperNode_Kokkos_Serial_t, out: PyTrilinos2.PyTrilinos2.Teuchos.basic_FancyOStream_char_std_char_traits_char_t) -> None\n",
      " |\n",
      " |      4. describe(self: PyTrilinos2.PyTrilinos2.Tpetra.MultiVector_double_int_long_long_Tpetra_KokkosCompat_KokkosDeviceWrapperNode_Kokkos_Serial_t, out: PyTrilinos2.PyTrilinos2.Teuchos.basic_FancyOStream_char_std_char_traits_char_t, verbLevel: PyTrilinos2.PyTrilinos2.Teuchos.EVerbosityLevel) -> None\n",
      " |\n",
      " |      C++: Tpetra::DistObject<double>::describe(class Teuchos::basic_FancyOStream<char> &, const enum Teuchos::EVerbosityLevel) const --> void\n",
      " |\n",
      " |  description(...)\n",
      " |      description(*args, **kwargs)\n",
      " |      Overloaded function.\n",
      " |\n",
      " |      1. description(self: PyTrilinos2.PyTrilinos2.Tpetra.MultiVector_double_int_long_long_Tpetra_KokkosCompat_KokkosDeviceWrapperNode_Kokkos_Serial_t) -> str\n",
      " |\n",
      " |      C++: Tpetra::MultiVector<>::description() const --> std::string\n",
      " |\n",
      " |      2. description(self: PyTrilinos2.PyTrilinos2.Tpetra.MultiVector_double_int_long_long_Tpetra_KokkosCompat_KokkosDeviceWrapperNode_Kokkos_Serial_t) -> str\n",
      " |\n",
      " |      C++: Tpetra::DistObject<double>::description() const --> std::string\n",
      " |\n",
      " |  doExport(...)\n",
      " |      doExport(*args, **kwargs)\n",
      " |      Overloaded function.\n",
      " |\n",
      " |      1. doExport(self: PyTrilinos2.PyTrilinos2.Tpetra.DistObject_double_int_long_long_Tpetra_KokkosCompat_KokkosDeviceWrapperNode_Kokkos_Serial_t, source: PyTrilinos2.PyTrilinos2.Tpetra.SrcDistObject, exporter: PyTrilinos2.PyTrilinos2.Tpetra.Export_int_long_long_Tpetra_KokkosCompat_KokkosDeviceWrapperNode_Kokkos_Serial_t, CM: PyTrilinos2.PyTrilinos2.Tpetra.CombineMode) -> None\n",
      " |\n",
      " |      2. doExport(self: PyTrilinos2.PyTrilinos2.Tpetra.MultiVector_double_int_long_long_Tpetra_KokkosCompat_KokkosDeviceWrapperNode_Kokkos_Serial_t, source: PyTrilinos2.PyTrilinos2.Tpetra.SrcDistObject, exporter: PyTrilinos2.PyTrilinos2.Tpetra.Export_int_long_long_Tpetra_KokkosCompat_KokkosDeviceWrapperNode_Kokkos_Serial_t, CM: PyTrilinos2.PyTrilinos2.Tpetra.CombineMode, restrictedMode: bool) -> None\n",
      " |\n",
      " |      C++: Tpetra::DistObject<double>::doExport(const class Tpetra::SrcDistObject &, const class Tpetra::Export<> &, const enum Tpetra::CombineMode, const bool) --> void\n",
      " |\n",
      " |      3. doExport(self: PyTrilinos2.PyTrilinos2.Tpetra.DistObject_double_int_long_long_Tpetra_KokkosCompat_KokkosDeviceWrapperNode_Kokkos_Serial_t, source: PyTrilinos2.PyTrilinos2.Tpetra.SrcDistObject, importer: PyTrilinos2.PyTrilinos2.Tpetra.Import_int_long_long_Tpetra_KokkosCompat_KokkosDeviceWrapperNode_Kokkos_Serial_t, CM: PyTrilinos2.PyTrilinos2.Tpetra.CombineMode) -> None\n",
      " |\n",
      " |      4. doExport(self: PyTrilinos2.PyTrilinos2.Tpetra.MultiVector_double_int_long_long_Tpetra_KokkosCompat_KokkosDeviceWrapperNode_Kokkos_Serial_t, source: PyTrilinos2.PyTrilinos2.Tpetra.SrcDistObject, importer: PyTrilinos2.PyTrilinos2.Tpetra.Import_int_long_long_Tpetra_KokkosCompat_KokkosDeviceWrapperNode_Kokkos_Serial_t, CM: PyTrilinos2.PyTrilinos2.Tpetra.CombineMode, restrictedMode: bool) -> None\n",
      " |\n",
      " |      C++: Tpetra::DistObject<double>::doExport(const class Tpetra::SrcDistObject &, const class Tpetra::Import<> &, const enum Tpetra::CombineMode, const bool) --> void\n",
      " |\n",
      " |  doImport(...)\n",
      " |      doImport(*args, **kwargs)\n",
      " |      Overloaded function.\n",
      " |\n",
      " |      1. doImport(self: PyTrilinos2.PyTrilinos2.Tpetra.DistObject_double_int_long_long_Tpetra_KokkosCompat_KokkosDeviceWrapperNode_Kokkos_Serial_t, source: PyTrilinos2.PyTrilinos2.Tpetra.SrcDistObject, importer: PyTrilinos2.PyTrilinos2.Tpetra.Import_int_long_long_Tpetra_KokkosCompat_KokkosDeviceWrapperNode_Kokkos_Serial_t, CM: PyTrilinos2.PyTrilinos2.Tpetra.CombineMode) -> None\n",
      " |\n",
      " |      2. doImport(self: PyTrilinos2.PyTrilinos2.Tpetra.MultiVector_double_int_long_long_Tpetra_KokkosCompat_KokkosDeviceWrapperNode_Kokkos_Serial_t, source: PyTrilinos2.PyTrilinos2.Tpetra.SrcDistObject, importer: PyTrilinos2.PyTrilinos2.Tpetra.Import_int_long_long_Tpetra_KokkosCompat_KokkosDeviceWrapperNode_Kokkos_Serial_t, CM: PyTrilinos2.PyTrilinos2.Tpetra.CombineMode, restrictedMode: bool) -> None\n",
      " |\n",
      " |      C++: Tpetra::DistObject<double>::doImport(const class Tpetra::SrcDistObject &, const class Tpetra::Import<> &, const enum Tpetra::CombineMode, const bool) --> void\n",
      " |\n",
      " |      3. doImport(self: PyTrilinos2.PyTrilinos2.Tpetra.DistObject_double_int_long_long_Tpetra_KokkosCompat_KokkosDeviceWrapperNode_Kokkos_Serial_t, source: PyTrilinos2.PyTrilinos2.Tpetra.SrcDistObject, exporter: PyTrilinos2.PyTrilinos2.Tpetra.Export_int_long_long_Tpetra_KokkosCompat_KokkosDeviceWrapperNode_Kokkos_Serial_t, CM: PyTrilinos2.PyTrilinos2.Tpetra.CombineMode) -> None\n",
      " |\n",
      " |      4. doImport(self: PyTrilinos2.PyTrilinos2.Tpetra.MultiVector_double_int_long_long_Tpetra_KokkosCompat_KokkosDeviceWrapperNode_Kokkos_Serial_t, source: PyTrilinos2.PyTrilinos2.Tpetra.SrcDistObject, exporter: PyTrilinos2.PyTrilinos2.Tpetra.Export_int_long_long_Tpetra_KokkosCompat_KokkosDeviceWrapperNode_Kokkos_Serial_t, CM: PyTrilinos2.PyTrilinos2.Tpetra.CombineMode, restrictedMode: bool) -> None\n",
      " |\n",
      " |      C++: Tpetra::DistObject<double>::doImport(const class Tpetra::SrcDistObject &, const class Tpetra::Export<> &, const enum Tpetra::CombineMode, const bool) --> void\n",
      " |\n",
      " |  dot(...)\n",
      " |      dot(self: PyTrilinos2.PyTrilinos2.Tpetra.MultiVector_double_int_long_long_Tpetra_KokkosCompat_KokkosDeviceWrapperNode_Kokkos_Serial_t, A: PyTrilinos2.PyTrilinos2.Tpetra.MultiVector_double_int_long_long_Tpetra_KokkosCompat_KokkosDeviceWrapperNode_Kokkos_Serial_t, dots: PyTrilinos2.PyTrilinos2.Teuchos.ArrayView_double_t) -> None\n",
      " |\n",
      " |      C++: Tpetra::MultiVector<>::dot(const class Tpetra::MultiVector<double, int, longlong, Tpetra_KokkosCompat_KokkosSerialWrapperNode> &, const class Teuchos::ArrayView<double> &) const --> void\n",
      " |\n",
      " |  elementWiseMultiply(...)\n",
      " |      elementWiseMultiply(self: PyTrilinos2.PyTrilinos2.Tpetra.MultiVector_double_int_long_long_Tpetra_KokkosCompat_KokkosDeviceWrapperNode_Kokkos_Serial_t, scalarAB: float, A: Tpetra::Vector<double, int, long long, Tpetra::KokkosCompat::KokkosDeviceWrapperNode<Kokkos::Serial, Kokkos::HostSpace> >, B: PyTrilinos2.PyTrilinos2.Tpetra.MultiVector_double_int_long_long_Tpetra_KokkosCompat_KokkosDeviceWrapperNode_Kokkos_Serial_t, scalarThis: float) -> None\n",
      " |\n",
      " |      C++: Tpetra::MultiVector<>::elementWiseMultiply(double, const class Tpetra::Vector<double, int, longlong, Tpetra_KokkosCompat_KokkosSerialWrapperNode> &, const class Tpetra::MultiVector<double, int, longlong, Tpetra_KokkosCompat_KokkosSerialWrapperNode> &, double) --> void\n",
      " |\n",
      " |  endExport(...)\n",
      " |      endExport(*args, **kwargs)\n",
      " |      Overloaded function.\n",
      " |\n",
      " |      1. endExport(self: PyTrilinos2.PyTrilinos2.Tpetra.DistObject_double_int_long_long_Tpetra_KokkosCompat_KokkosDeviceWrapperNode_Kokkos_Serial_t, source: PyTrilinos2.PyTrilinos2.Tpetra.SrcDistObject, exporter: PyTrilinos2.PyTrilinos2.Tpetra.Export_int_long_long_Tpetra_KokkosCompat_KokkosDeviceWrapperNode_Kokkos_Serial_t, CM: PyTrilinos2.PyTrilinos2.Tpetra.CombineMode) -> None\n",
      " |\n",
      " |      2. endExport(self: PyTrilinos2.PyTrilinos2.Tpetra.MultiVector_double_int_long_long_Tpetra_KokkosCompat_KokkosDeviceWrapperNode_Kokkos_Serial_t, source: PyTrilinos2.PyTrilinos2.Tpetra.SrcDistObject, exporter: PyTrilinos2.PyTrilinos2.Tpetra.Export_int_long_long_Tpetra_KokkosCompat_KokkosDeviceWrapperNode_Kokkos_Serial_t, CM: PyTrilinos2.PyTrilinos2.Tpetra.CombineMode, restrictedMode: bool) -> None\n",
      " |\n",
      " |      C++: Tpetra::DistObject<double>::endExport(const class Tpetra::SrcDistObject &, const class Tpetra::Export<> &, const enum Tpetra::CombineMode, const bool) --> void\n",
      " |\n",
      " |      3. endExport(self: PyTrilinos2.PyTrilinos2.Tpetra.DistObject_double_int_long_long_Tpetra_KokkosCompat_KokkosDeviceWrapperNode_Kokkos_Serial_t, source: PyTrilinos2.PyTrilinos2.Tpetra.SrcDistObject, importer: PyTrilinos2.PyTrilinos2.Tpetra.Import_int_long_long_Tpetra_KokkosCompat_KokkosDeviceWrapperNode_Kokkos_Serial_t, CM: PyTrilinos2.PyTrilinos2.Tpetra.CombineMode) -> None\n",
      " |\n",
      " |      4. endExport(self: PyTrilinos2.PyTrilinos2.Tpetra.MultiVector_double_int_long_long_Tpetra_KokkosCompat_KokkosDeviceWrapperNode_Kokkos_Serial_t, source: PyTrilinos2.PyTrilinos2.Tpetra.SrcDistObject, importer: PyTrilinos2.PyTrilinos2.Tpetra.Import_int_long_long_Tpetra_KokkosCompat_KokkosDeviceWrapperNode_Kokkos_Serial_t, CM: PyTrilinos2.PyTrilinos2.Tpetra.CombineMode, restrictedMode: bool) -> None\n",
      " |\n",
      " |      C++: Tpetra::DistObject<double>::endExport(const class Tpetra::SrcDistObject &, const class Tpetra::Import<> &, const enum Tpetra::CombineMode, const bool) --> void\n",
      " |\n",
      " |  endImport(...)\n",
      " |      endImport(*args, **kwargs)\n",
      " |      Overloaded function.\n",
      " |\n",
      " |      1. endImport(self: PyTrilinos2.PyTrilinos2.Tpetra.DistObject_double_int_long_long_Tpetra_KokkosCompat_KokkosDeviceWrapperNode_Kokkos_Serial_t, source: PyTrilinos2.PyTrilinos2.Tpetra.SrcDistObject, importer: PyTrilinos2.PyTrilinos2.Tpetra.Import_int_long_long_Tpetra_KokkosCompat_KokkosDeviceWrapperNode_Kokkos_Serial_t, CM: PyTrilinos2.PyTrilinos2.Tpetra.CombineMode) -> None\n",
      " |\n",
      " |      2. endImport(self: PyTrilinos2.PyTrilinos2.Tpetra.MultiVector_double_int_long_long_Tpetra_KokkosCompat_KokkosDeviceWrapperNode_Kokkos_Serial_t, source: PyTrilinos2.PyTrilinos2.Tpetra.SrcDistObject, importer: PyTrilinos2.PyTrilinos2.Tpetra.Import_int_long_long_Tpetra_KokkosCompat_KokkosDeviceWrapperNode_Kokkos_Serial_t, CM: PyTrilinos2.PyTrilinos2.Tpetra.CombineMode, restrictedMode: bool) -> None\n",
      " |\n",
      " |      C++: Tpetra::DistObject<double>::endImport(const class Tpetra::SrcDistObject &, const class Tpetra::Import<> &, const enum Tpetra::CombineMode, const bool) --> void\n",
      " |\n",
      " |      3. endImport(self: PyTrilinos2.PyTrilinos2.Tpetra.DistObject_double_int_long_long_Tpetra_KokkosCompat_KokkosDeviceWrapperNode_Kokkos_Serial_t, source: PyTrilinos2.PyTrilinos2.Tpetra.SrcDistObject, exporter: PyTrilinos2.PyTrilinos2.Tpetra.Export_int_long_long_Tpetra_KokkosCompat_KokkosDeviceWrapperNode_Kokkos_Serial_t, CM: PyTrilinos2.PyTrilinos2.Tpetra.CombineMode) -> None\n",
      " |\n",
      " |      4. endImport(self: PyTrilinos2.PyTrilinos2.Tpetra.MultiVector_double_int_long_long_Tpetra_KokkosCompat_KokkosDeviceWrapperNode_Kokkos_Serial_t, source: PyTrilinos2.PyTrilinos2.Tpetra.SrcDistObject, exporter: PyTrilinos2.PyTrilinos2.Tpetra.Export_int_long_long_Tpetra_KokkosCompat_KokkosDeviceWrapperNode_Kokkos_Serial_t, CM: PyTrilinos2.PyTrilinos2.Tpetra.CombineMode, restrictedMode: bool) -> None\n",
      " |\n",
      " |      C++: Tpetra::DistObject<double>::endImport(const class Tpetra::SrcDistObject &, const class Tpetra::Export<> &, const enum Tpetra::CombineMode, const bool) --> void\n",
      " |\n",
      " |  get1dCopy(...)\n",
      " |      get1dCopy(self: PyTrilinos2.PyTrilinos2.Tpetra.MultiVector_double_int_long_long_Tpetra_KokkosCompat_KokkosDeviceWrapperNode_Kokkos_Serial_t, A: PyTrilinos2.PyTrilinos2.Teuchos.ArrayView_double_t, LDA: int) -> None\n",
      " |\n",
      " |      C++: Tpetra::MultiVector<>::get1dCopy(const class Teuchos::ArrayView<double> &, const unsigned long) const --> void\n",
      " |\n",
      " |  get1dView(...)\n",
      " |      get1dView(self: PyTrilinos2.PyTrilinos2.Tpetra.MultiVector_double_int_long_long_Tpetra_KokkosCompat_KokkosDeviceWrapperNode_Kokkos_Serial_t) -> PyTrilinos2.PyTrilinos2.Teuchos.ArrayRCP_const_double_t\n",
      " |\n",
      " |      C++: Tpetra::MultiVector<>::get1dView() const --> class Teuchos::ArrayRCP<const double>\n",
      " |\n",
      " |  get1dViewNonConst(...)\n",
      " |      get1dViewNonConst(self: PyTrilinos2.PyTrilinos2.Tpetra.MultiVector_double_int_long_long_Tpetra_KokkosCompat_KokkosDeviceWrapperNode_Kokkos_Serial_t) -> PyTrilinos2.PyTrilinos2.Teuchos.ArrayRCP_double_t\n",
      " |\n",
      " |      C++: Tpetra::MultiVector<>::get1dViewNonConst() --> class Teuchos::ArrayRCP<double>\n",
      " |\n",
      " |  get2dCopy(...)\n",
      " |      get2dCopy(self: PyTrilinos2.PyTrilinos2.Tpetra.MultiVector_double_int_long_long_Tpetra_KokkosCompat_KokkosDeviceWrapperNode_Kokkos_Serial_t, ArrayOfPtrs: PyTrilinos2.PyTrilinos2.Teuchos.ArrayView_const_Teuchos_ArrayView_double_t) -> None\n",
      " |\n",
      " |      C++: Tpetra::MultiVector<>::get2dCopy(const class Teuchos::ArrayView<const class Teuchos::ArrayView<double> > &) const --> void\n",
      " |\n",
      " |  get2dView(...)\n",
      " |      get2dView(self: PyTrilinos2.PyTrilinos2.Tpetra.MultiVector_double_int_long_long_Tpetra_KokkosCompat_KokkosDeviceWrapperNode_Kokkos_Serial_t) -> PyTrilinos2.PyTrilinos2.Teuchos.ArrayRCP_Teuchos_ArrayRCP_const_double_t\n",
      " |\n",
      " |      C++: Tpetra::MultiVector<>::get2dView() const --> class Teuchos::ArrayRCP<class Teuchos::ArrayRCP<const double> >\n",
      " |\n",
      " |  get2dViewNonConst(...)\n",
      " |      get2dViewNonConst(self: PyTrilinos2.PyTrilinos2.Tpetra.MultiVector_double_int_long_long_Tpetra_KokkosCompat_KokkosDeviceWrapperNode_Kokkos_Serial_t) -> PyTrilinos2.PyTrilinos2.Teuchos.ArrayRCP_Teuchos_ArrayRCP_double_t\n",
      " |\n",
      " |      C++: Tpetra::MultiVector<>::get2dViewNonConst() --> class Teuchos::ArrayRCP<class Teuchos::ArrayRCP<double> >\n",
      " |\n",
      " |  getCopyOrView(...)\n",
      " |      getCopyOrView(self: PyTrilinos2.PyTrilinos2.Tpetra.MultiVector_double_int_long_long_Tpetra_KokkosCompat_KokkosDeviceWrapperNode_Kokkos_Serial_t) -> PyTrilinos2.PyTrilinos2.Teuchos.DataAccess\n",
      " |\n",
      " |      This method is only for expert use.  It may change or\n",
      " |         disappear at any time.\n",
      " |\n",
      " |      C++: Tpetra::MultiVector<>::getCopyOrView() const --> enum Teuchos::DataAccess\n",
      " |\n",
      " |  getData(...)\n",
      " |      getData(self: PyTrilinos2.PyTrilinos2.Tpetra.MultiVector_double_int_long_long_Tpetra_KokkosCompat_KokkosDeviceWrapperNode_Kokkos_Serial_t, j: int) -> PyTrilinos2.PyTrilinos2.Teuchos.ArrayRCP_const_double_t\n",
      " |\n",
      " |      C++: Tpetra::MultiVector<>::getData(unsigned long) const --> class Teuchos::ArrayRCP<const double>\n",
      " |\n",
      " |  getDataNonConst(...)\n",
      " |      getDataNonConst(self: PyTrilinos2.PyTrilinos2.Tpetra.MultiVector_double_int_long_long_Tpetra_KokkosCompat_KokkosDeviceWrapperNode_Kokkos_Serial_t, j: int) -> PyTrilinos2.PyTrilinos2.Teuchos.ArrayRCP_double_t\n",
      " |\n",
      " |      C++: Tpetra::MultiVector<>::getDataNonConst(unsigned long) --> class Teuchos::ArrayRCP<double>\n",
      " |\n",
      " |  getGlobalLength(...)\n",
      " |      getGlobalLength(self: PyTrilinos2.PyTrilinos2.Tpetra.MultiVector_double_int_long_long_Tpetra_KokkosCompat_KokkosDeviceWrapperNode_Kokkos_Serial_t) -> int\n",
      " |\n",
      " |      C++: Tpetra::MultiVector<>::getGlobalLength() const --> unsigned long\n",
      " |\n",
      " |  getLocalLength(...)\n",
      " |      getLocalLength(self: PyTrilinos2.PyTrilinos2.Tpetra.MultiVector_double_int_long_long_Tpetra_KokkosCompat_KokkosDeviceWrapperNode_Kokkos_Serial_t) -> int\n",
      " |\n",
      " |      C++: Tpetra::MultiVector<>::getLocalLength() const --> unsigned long\n",
      " |\n",
      " |  getLocalViewHost(...)\n",
      " |      getLocalViewHost(self: PyTrilinos2.PyTrilinos2.Tpetra.MultiVector_double_int_long_long_Tpetra_KokkosCompat_KokkosDeviceWrapperNode_Kokkos_Serial_t) -> numpy.ndarray[numpy.float64]\n",
      " |\n",
      " |  getMap(...)\n",
      " |      getMap(self: PyTrilinos2.PyTrilinos2.Tpetra.MultiVector_double_int_long_long_Tpetra_KokkosCompat_KokkosDeviceWrapperNode_Kokkos_Serial_t) -> PyTrilinos2.PyTrilinos2.Tpetra.Map_int_long_long_Tpetra_KokkosCompat_KokkosDeviceWrapperNode_Kokkos_Serial_t\n",
      " |\n",
      " |      C++: Tpetra::DistObject<double>::getMap() const --> class Teuchos::RCP<const class Tpetra::Map<> >\n",
      " |\n",
      " |  getNumVectors(...)\n",
      " |      getNumVectors(self: PyTrilinos2.PyTrilinos2.Tpetra.MultiVector_double_int_long_long_Tpetra_KokkosCompat_KokkosDeviceWrapperNode_Kokkos_Serial_t) -> int\n",
      " |\n",
      " |      C++: Tpetra::MultiVector<>::getNumVectors() const --> unsigned long\n",
      " |\n",
      " |  getStride(...)\n",
      " |      getStride(self: PyTrilinos2.PyTrilinos2.Tpetra.MultiVector_double_int_long_long_Tpetra_KokkosCompat_KokkosDeviceWrapperNode_Kokkos_Serial_t) -> int\n",
      " |\n",
      " |      C++: Tpetra::MultiVector<>::getStride() const --> unsigned long\n",
      " |\n",
      " |  getVector(...)\n",
      " |      getVector(self: PyTrilinos2.PyTrilinos2.Tpetra.MultiVector_double_int_long_long_Tpetra_KokkosCompat_KokkosDeviceWrapperNode_Kokkos_Serial_t, j: int) -> Tpetra::Vector<double, int, long long, Tpetra::KokkosCompat::KokkosDeviceWrapperNode<Kokkos::Serial, Kokkos::HostSpace> >\n",
      " |\n",
      " |      C++: Tpetra::MultiVector<>::getVector(const unsigned long) const --> class Teuchos::RCP<const class Tpetra::Vector<double, int, longlong, Tpetra_KokkosCompat_KokkosSerialWrapperNode> >\n",
      " |\n",
      " |  getVectorNonConst(...)\n",
      " |      getVectorNonConst(self: PyTrilinos2.PyTrilinos2.Tpetra.MultiVector_double_int_long_long_Tpetra_KokkosCompat_KokkosDeviceWrapperNode_Kokkos_Serial_t, j: int) -> Tpetra::Vector<double, int, long long, Tpetra::KokkosCompat::KokkosDeviceWrapperNode<Kokkos::Serial, Kokkos::HostSpace> >\n",
      " |\n",
      " |      C++: Tpetra::MultiVector<>::getVectorNonConst(const unsigned long) --> class Teuchos::RCP<class Tpetra::Vector<double, int, longlong, Tpetra_KokkosCompat_KokkosSerialWrapperNode> >\n",
      " |\n",
      " |  importsAreAliased(...)\n",
      " |      importsAreAliased(self: PyTrilinos2.PyTrilinos2.Tpetra.MultiVector_double_int_long_long_Tpetra_KokkosCompat_KokkosDeviceWrapperNode_Kokkos_Serial_t) -> bool\n",
      " |\n",
      " |      C++: Tpetra::MultiVector<>::importsAreAliased() --> bool\n",
      " |\n",
      " |  isConstantStride(...)\n",
      " |      isConstantStride(self: PyTrilinos2.PyTrilinos2.Tpetra.MultiVector_double_int_long_long_Tpetra_KokkosCompat_KokkosDeviceWrapperNode_Kokkos_Serial_t) -> bool\n",
      " |\n",
      " |      C++: Tpetra::MultiVector<>::isConstantStride() const --> bool\n",
      " |\n",
      " |  isDistributed(...)\n",
      " |      isDistributed(self: PyTrilinos2.PyTrilinos2.Tpetra.MultiVector_double_int_long_long_Tpetra_KokkosCompat_KokkosDeviceWrapperNode_Kokkos_Serial_t) -> bool\n",
      " |\n",
      " |      C++: Tpetra::DistObject<double>::isDistributed() const --> bool\n",
      " |\n",
      " |  isSameSize(...)\n",
      " |      isSameSize(self: PyTrilinos2.PyTrilinos2.Tpetra.MultiVector_double_int_long_long_Tpetra_KokkosCompat_KokkosDeviceWrapperNode_Kokkos_Serial_t, vec: PyTrilinos2.PyTrilinos2.Tpetra.MultiVector_double_int_long_long_Tpetra_KokkosCompat_KokkosDeviceWrapperNode_Kokkos_Serial_t) -> bool\n",
      " |\n",
      " |      C++: Tpetra::MultiVector<>::isSameSize(const class Tpetra::MultiVector<double, int, longlong, Tpetra_KokkosCompat_KokkosSerialWrapperNode> &) const --> bool\n",
      " |\n",
      " |  meanValue(...)\n",
      " |      meanValue(self: PyTrilinos2.PyTrilinos2.Tpetra.MultiVector_double_int_long_long_Tpetra_KokkosCompat_KokkosDeviceWrapperNode_Kokkos_Serial_t, means: PyTrilinos2.PyTrilinos2.Teuchos.ArrayView_double_t) -> None\n",
      " |\n",
      " |      C++: Tpetra::MultiVector<>::meanValue(const class Teuchos::ArrayView<double> &) const --> void\n",
      " |\n",
      " |  multiply(...)\n",
      " |      multiply(self: PyTrilinos2.PyTrilinos2.Tpetra.MultiVector_double_int_long_long_Tpetra_KokkosCompat_KokkosDeviceWrapperNode_Kokkos_Serial_t, transA: PyTrilinos2.PyTrilinos2.Teuchos.ETransp, transB: PyTrilinos2.PyTrilinos2.Teuchos.ETransp, alpha: float, A: PyTrilinos2.PyTrilinos2.Tpetra.MultiVector_double_int_long_long_Tpetra_KokkosCompat_KokkosDeviceWrapperNode_Kokkos_Serial_t, B: PyTrilinos2.PyTrilinos2.Tpetra.MultiVector_double_int_long_long_Tpetra_KokkosCompat_KokkosDeviceWrapperNode_Kokkos_Serial_t, beta: float) -> None\n",
      " |\n",
      " |      C++: Tpetra::MultiVector<>::multiply(enum Teuchos::ETransp, enum Teuchos::ETransp, const double &, const class Tpetra::MultiVector<double, int, longlong, Tpetra_KokkosCompat_KokkosSerialWrapperNode> &, const class Tpetra::MultiVector<double, int, longlong, Tpetra_KokkosCompat_KokkosSerialWrapperNode> &, const double &) --> void\n",
      " |\n",
      " |  need_sync_device(...)\n",
      " |      need_sync_device(self: PyTrilinos2.PyTrilinos2.Tpetra.MultiVector_double_int_long_long_Tpetra_KokkosCompat_KokkosDeviceWrapperNode_Kokkos_Serial_t) -> bool\n",
      " |\n",
      " |      C++: Tpetra::MultiVector<>::need_sync_device() const --> bool\n",
      " |\n",
      " |  need_sync_host(...)\n",
      " |      need_sync_host(self: PyTrilinos2.PyTrilinos2.Tpetra.MultiVector_double_int_long_long_Tpetra_KokkosCompat_KokkosDeviceWrapperNode_Kokkos_Serial_t) -> bool\n",
      " |\n",
      " |      C++: Tpetra::MultiVector<>::need_sync_host() const --> bool\n",
      " |\n",
      " |  norm1(...)\n",
      " |      norm1(self: PyTrilinos2.PyTrilinos2.Tpetra.MultiVector_double_int_long_long_Tpetra_KokkosCompat_KokkosDeviceWrapperNode_Kokkos_Serial_t, norms: PyTrilinos2.PyTrilinos2.Teuchos.ArrayView_double_t) -> None\n",
      " |\n",
      " |      C++: Tpetra::MultiVector<>::norm1(const class Teuchos::ArrayView<double> &) const --> void\n",
      " |\n",
      " |  norm2(...)\n",
      " |      norm2(self: PyTrilinos2.PyTrilinos2.Tpetra.MultiVector_double_int_long_long_Tpetra_KokkosCompat_KokkosDeviceWrapperNode_Kokkos_Serial_t, norms: PyTrilinos2.PyTrilinos2.Teuchos.ArrayView_double_t) -> None\n",
      " |\n",
      " |      C++: Tpetra::MultiVector<>::norm2(const class Teuchos::ArrayView<double> &) const --> void\n",
      " |\n",
      " |  normInf(...)\n",
      " |      normInf(self: PyTrilinos2.PyTrilinos2.Tpetra.MultiVector_double_int_long_long_Tpetra_KokkosCompat_KokkosDeviceWrapperNode_Kokkos_Serial_t, norms: PyTrilinos2.PyTrilinos2.Teuchos.ArrayView_double_t) -> None\n",
      " |\n",
      " |      C++: Tpetra::MultiVector<>::normInf(const class Teuchos::ArrayView<double> &) const --> void\n",
      " |\n",
      " |  offsetView(...)\n",
      " |      offsetView(self: PyTrilinos2.PyTrilinos2.Tpetra.MultiVector_double_int_long_long_Tpetra_KokkosCompat_KokkosDeviceWrapperNode_Kokkos_Serial_t, subMap: PyTrilinos2.PyTrilinos2.Tpetra.Map_int_long_long_Tpetra_KokkosCompat_KokkosDeviceWrapperNode_Kokkos_Serial_t, offset: int) -> PyTrilinos2.PyTrilinos2.Tpetra.MultiVector_double_int_long_long_Tpetra_KokkosCompat_KokkosDeviceWrapperNode_Kokkos_Serial_t\n",
      " |\n",
      " |      C++: Tpetra::MultiVector<>::offsetView(const class Teuchos::RCP<const class Tpetra::Map<> > &, const unsigned long) const --> class Teuchos::RCP<const class Tpetra::MultiVector<double, int, longlong, Tpetra_KokkosCompat_KokkosSerialWrapperNode> >\n",
      " |\n",
      " |  offsetViewNonConst(...)\n",
      " |      offsetViewNonConst(self: PyTrilinos2.PyTrilinos2.Tpetra.MultiVector_double_int_long_long_Tpetra_KokkosCompat_KokkosDeviceWrapperNode_Kokkos_Serial_t, subMap: PyTrilinos2.PyTrilinos2.Tpetra.Map_int_long_long_Tpetra_KokkosCompat_KokkosDeviceWrapperNode_Kokkos_Serial_t, offset: int) -> PyTrilinos2.PyTrilinos2.Tpetra.MultiVector_double_int_long_long_Tpetra_KokkosCompat_KokkosDeviceWrapperNode_Kokkos_Serial_t\n",
      " |\n",
      " |      C++: Tpetra::MultiVector<>::offsetViewNonConst(const class Teuchos::RCP<const class Tpetra::Map<> > &, const unsigned long) --> class Teuchos::RCP<class Tpetra::MultiVector<double, int, longlong, Tpetra_KokkosCompat_KokkosSerialWrapperNode> >\n",
      " |\n",
      " |  print(...)\n",
      " |      print(self: PyTrilinos2.PyTrilinos2.Tpetra.MultiVector_double_int_long_long_Tpetra_KokkosCompat_KokkosDeviceWrapperNode_Kokkos_Serial_t, os: PyTrilinos2.PyTrilinos2.std.ostream) -> None\n",
      " |\n",
      " |      C++: Tpetra::DistObject<double>::print(std::ostream &) const --> void\n",
      " |\n",
      " |  putScalar(...)\n",
      " |      putScalar(self: PyTrilinos2.PyTrilinos2.Tpetra.MultiVector_double_int_long_long_Tpetra_KokkosCompat_KokkosDeviceWrapperNode_Kokkos_Serial_t, alpha: float) -> None\n",
      " |\n",
      " |      C++: Tpetra::MultiVector<>::putScalar(const double &) --> void\n",
      " |\n",
      " |  randomize(...)\n",
      " |      randomize(*args, **kwargs)\n",
      " |      Overloaded function.\n",
      " |\n",
      " |      1. randomize(self: PyTrilinos2.PyTrilinos2.Tpetra.MultiVector_double_int_long_long_Tpetra_KokkosCompat_KokkosDeviceWrapperNode_Kokkos_Serial_t) -> None\n",
      " |\n",
      " |      C++: Tpetra::MultiVector<>::randomize() --> void\n",
      " |\n",
      " |      2. randomize(self: PyTrilinos2.PyTrilinos2.Tpetra.MultiVector_double_int_long_long_Tpetra_KokkosCompat_KokkosDeviceWrapperNode_Kokkos_Serial_t, minVal: float, maxVal: float) -> None\n",
      " |\n",
      " |      C++: Tpetra::MultiVector<>::randomize(const double &, const double &) --> void\n",
      " |\n",
      " |  reciprocal(...)\n",
      " |      reciprocal(self: PyTrilinos2.PyTrilinos2.Tpetra.MultiVector_double_int_long_long_Tpetra_KokkosCompat_KokkosDeviceWrapperNode_Kokkos_Serial_t, A: PyTrilinos2.PyTrilinos2.Tpetra.MultiVector_double_int_long_long_Tpetra_KokkosCompat_KokkosDeviceWrapperNode_Kokkos_Serial_t) -> None\n",
      " |\n",
      " |      C++: Tpetra::MultiVector<>::reciprocal(const class Tpetra::MultiVector<double, int, longlong, Tpetra_KokkosCompat_KokkosSerialWrapperNode> &) --> void\n",
      " |\n",
      " |  reduce(...)\n",
      " |      reduce(self: PyTrilinos2.PyTrilinos2.Tpetra.MultiVector_double_int_long_long_Tpetra_KokkosCompat_KokkosDeviceWrapperNode_Kokkos_Serial_t) -> None\n",
      " |\n",
      " |      C++: Tpetra::MultiVector<>::reduce() --> void\n",
      " |\n",
      " |  removeEmptyProcessesInPlace(...)\n",
      " |      removeEmptyProcessesInPlace(*args, **kwargs)\n",
      " |      Overloaded function.\n",
      " |\n",
      " |      1. removeEmptyProcessesInPlace(self: PyTrilinos2.PyTrilinos2.Tpetra.MultiVector_double_int_long_long_Tpetra_KokkosCompat_KokkosDeviceWrapperNode_Kokkos_Serial_t, newMap: PyTrilinos2.PyTrilinos2.Tpetra.Map_int_long_long_Tpetra_KokkosCompat_KokkosDeviceWrapperNode_Kokkos_Serial_t) -> None\n",
      " |\n",
      " |      C++: Tpetra::MultiVector<>::removeEmptyProcessesInPlace(const class Teuchos::RCP<const class Tpetra::Map<> > &) --> void\n",
      " |\n",
      " |      2. removeEmptyProcessesInPlace(self: PyTrilinos2.PyTrilinos2.Tpetra.MultiVector_double_int_long_long_Tpetra_KokkosCompat_KokkosDeviceWrapperNode_Kokkos_Serial_t, newMap: PyTrilinos2.PyTrilinos2.Tpetra.Map_int_long_long_Tpetra_KokkosCompat_KokkosDeviceWrapperNode_Kokkos_Serial_t) -> None\n",
      " |\n",
      " |      C++: Tpetra::DistObject<double>::removeEmptyProcessesInPlace(const class Teuchos::RCP<const class Tpetra::Map<> > &) --> void\n",
      " |\n",
      " |  replaceGlobalValue(...)\n",
      " |      replaceGlobalValue(self: PyTrilinos2.PyTrilinos2.Tpetra.MultiVector_double_int_long_long_Tpetra_KokkosCompat_KokkosDeviceWrapperNode_Kokkos_Serial_t, gblRow: int, col: int, ScalarValue: float) -> None\n",
      " |\n",
      " |      C++: Tpetra::MultiVector<>::replaceGlobalValue(const long long, const unsigned long, const double &) --> void\n",
      " |\n",
      " |  replaceLocalValue(...)\n",
      " |      replaceLocalValue(self: PyTrilinos2.PyTrilinos2.Tpetra.MultiVector_double_int_long_long_Tpetra_KokkosCompat_KokkosDeviceWrapperNode_Kokkos_Serial_t, lclRow: int, col: int, ScalarValue: float) -> None\n",
      " |\n",
      " |      C++: Tpetra::MultiVector<>::replaceLocalValue(const int, const unsigned long, const double &) --> void\n",
      " |\n",
      " |  replaceMap(...)\n",
      " |      replaceMap(self: PyTrilinos2.PyTrilinos2.Tpetra.MultiVector_double_int_long_long_Tpetra_KokkosCompat_KokkosDeviceWrapperNode_Kokkos_Serial_t, newMap: PyTrilinos2.PyTrilinos2.Tpetra.Map_int_long_long_Tpetra_KokkosCompat_KokkosDeviceWrapperNode_Kokkos_Serial_t) -> None\n",
      " |\n",
      " |      C++: Tpetra::MultiVector<>::replaceMap(const class Teuchos::RCP<const class Tpetra::Map<> > &) --> void\n",
      " |\n",
      " |  scale(...)\n",
      " |      scale(*args, **kwargs)\n",
      " |      Overloaded function.\n",
      " |\n",
      " |      1. scale(self: PyTrilinos2.PyTrilinos2.Tpetra.MultiVector_double_int_long_long_Tpetra_KokkosCompat_KokkosDeviceWrapperNode_Kokkos_Serial_t, alpha: float) -> None\n",
      " |\n",
      " |      C++: Tpetra::MultiVector<>::scale(const double &) --> void\n",
      " |\n",
      " |      2. scale(self: PyTrilinos2.PyTrilinos2.Tpetra.MultiVector_double_int_long_long_Tpetra_KokkosCompat_KokkosDeviceWrapperNode_Kokkos_Serial_t, alphas: PyTrilinos2.PyTrilinos2.Teuchos.ArrayView_const_double_t) -> None\n",
      " |\n",
      " |      C++: Tpetra::MultiVector<>::scale(const class Teuchos::ArrayView<const double> &) --> void\n",
      " |\n",
      " |      3. scale(self: PyTrilinos2.PyTrilinos2.Tpetra.MultiVector_double_int_long_long_Tpetra_KokkosCompat_KokkosDeviceWrapperNode_Kokkos_Serial_t, alpha: float, A: PyTrilinos2.PyTrilinos2.Tpetra.MultiVector_double_int_long_long_Tpetra_KokkosCompat_KokkosDeviceWrapperNode_Kokkos_Serial_t) -> None\n",
      " |\n",
      " |      C++: Tpetra::MultiVector<>::scale(const double &, const class Tpetra::MultiVector<double, int, longlong, Tpetra_KokkosCompat_KokkosSerialWrapperNode> &) --> void\n",
      " |\n",
      " |  setCopyOrView(...)\n",
      " |      setCopyOrView(self: PyTrilinos2.PyTrilinos2.Tpetra.MultiVector_double_int_long_long_Tpetra_KokkosCompat_KokkosDeviceWrapperNode_Kokkos_Serial_t, copyOrView: PyTrilinos2.PyTrilinos2.Teuchos.DataAccess) -> None\n",
      " |\n",
      " |      Set whether this has copy (copyOrView = Teuchos::Copy)\n",
      " |         or view (copyOrView = Teuchos::View) semantics.\n",
      " |\n",
      " |\n",
      " |       The Kokkos refactor version of MultiVector\n",
      " |         only implements view semantics.  If you attempt to\n",
      " |         call this method with copyOrView == Teuchos::Copy, it will\n",
      " |         throw std::invalid_argument.\n",
      " |\n",
      " |\n",
      " |       This method is only for expert use.  It may change or\n",
      " |         disappear at any time.\n",
      " |\n",
      " |      C++: Tpetra::MultiVector<>::setCopyOrView(const enum Teuchos::DataAccess) --> void\n",
      " |\n",
      " |  setLocalViewHost(...)\n",
      " |      setLocalViewHost(self: PyTrilinos2.PyTrilinos2.Tpetra.MultiVector_double_int_long_long_Tpetra_KokkosCompat_KokkosDeviceWrapperNode_Kokkos_Serial_t, arg0: numpy.ndarray[numpy.float64]) -> None\n",
      " |\n",
      " |  subCopy(...)\n",
      " |      subCopy(*args, **kwargs)\n",
      " |      Overloaded function.\n",
      " |\n",
      " |      1. subCopy(self: PyTrilinos2.PyTrilinos2.Tpetra.MultiVector_double_int_long_long_Tpetra_KokkosCompat_KokkosDeviceWrapperNode_Kokkos_Serial_t, colRng: PyTrilinos2.PyTrilinos2.Teuchos.Range1D) -> PyTrilinos2.PyTrilinos2.Tpetra.MultiVector_double_int_long_long_Tpetra_KokkosCompat_KokkosDeviceWrapperNode_Kokkos_Serial_t\n",
      " |\n",
      " |      C++: Tpetra::MultiVector<>::subCopy(const class Teuchos::Range1D &) const --> class Teuchos::RCP<class Tpetra::MultiVector<double, int, longlong, Tpetra_KokkosCompat_KokkosSerialWrapperNode> >\n",
      " |\n",
      " |      2. subCopy(self: PyTrilinos2.PyTrilinos2.Tpetra.MultiVector_double_int_long_long_Tpetra_KokkosCompat_KokkosDeviceWrapperNode_Kokkos_Serial_t, cols: PyTrilinos2.PyTrilinos2.Teuchos.ArrayView_const_unsigned_long_t) -> PyTrilinos2.PyTrilinos2.Tpetra.MultiVector_double_int_long_long_Tpetra_KokkosCompat_KokkosDeviceWrapperNode_Kokkos_Serial_t\n",
      " |\n",
      " |      C++: Tpetra::MultiVector<>::subCopy(const class Teuchos::ArrayView<const unsigned long> &) const --> class Teuchos::RCP<class Tpetra::MultiVector<double, int, longlong, Tpetra_KokkosCompat_KokkosSerialWrapperNode> >\n",
      " |\n",
      " |  subView(...)\n",
      " |      subView(*args, **kwargs)\n",
      " |      Overloaded function.\n",
      " |\n",
      " |      1. subView(self: PyTrilinos2.PyTrilinos2.Tpetra.MultiVector_double_int_long_long_Tpetra_KokkosCompat_KokkosDeviceWrapperNode_Kokkos_Serial_t, colRng: PyTrilinos2.PyTrilinos2.Teuchos.Range1D) -> PyTrilinos2.PyTrilinos2.Tpetra.MultiVector_double_int_long_long_Tpetra_KokkosCompat_KokkosDeviceWrapperNode_Kokkos_Serial_t\n",
      " |\n",
      " |      C++: Tpetra::MultiVector<>::subView(const class Teuchos::Range1D &) const --> class Teuchos::RCP<const class Tpetra::MultiVector<double, int, longlong, Tpetra_KokkosCompat_KokkosSerialWrapperNode> >\n",
      " |\n",
      " |      2. subView(self: PyTrilinos2.PyTrilinos2.Tpetra.MultiVector_double_int_long_long_Tpetra_KokkosCompat_KokkosDeviceWrapperNode_Kokkos_Serial_t, cols: PyTrilinos2.PyTrilinos2.Teuchos.ArrayView_const_unsigned_long_t) -> PyTrilinos2.PyTrilinos2.Tpetra.MultiVector_double_int_long_long_Tpetra_KokkosCompat_KokkosDeviceWrapperNode_Kokkos_Serial_t\n",
      " |\n",
      " |      C++: Tpetra::MultiVector<>::subView(const class Teuchos::ArrayView<const unsigned long> &) const --> class Teuchos::RCP<const class Tpetra::MultiVector<double, int, longlong, Tpetra_KokkosCompat_KokkosSerialWrapperNode> >\n",
      " |\n",
      " |  subViewNonConst(...)\n",
      " |      subViewNonConst(*args, **kwargs)\n",
      " |      Overloaded function.\n",
      " |\n",
      " |      1. subViewNonConst(self: PyTrilinos2.PyTrilinos2.Tpetra.MultiVector_double_int_long_long_Tpetra_KokkosCompat_KokkosDeviceWrapperNode_Kokkos_Serial_t, colRng: PyTrilinos2.PyTrilinos2.Teuchos.Range1D) -> PyTrilinos2.PyTrilinos2.Tpetra.MultiVector_double_int_long_long_Tpetra_KokkosCompat_KokkosDeviceWrapperNode_Kokkos_Serial_t\n",
      " |\n",
      " |      C++: Tpetra::MultiVector<>::subViewNonConst(const class Teuchos::Range1D &) --> class Teuchos::RCP<class Tpetra::MultiVector<double, int, longlong, Tpetra_KokkosCompat_KokkosSerialWrapperNode> >\n",
      " |\n",
      " |      2. subViewNonConst(self: PyTrilinos2.PyTrilinos2.Tpetra.MultiVector_double_int_long_long_Tpetra_KokkosCompat_KokkosDeviceWrapperNode_Kokkos_Serial_t, cols: PyTrilinos2.PyTrilinos2.Teuchos.ArrayView_const_unsigned_long_t) -> PyTrilinos2.PyTrilinos2.Tpetra.MultiVector_double_int_long_long_Tpetra_KokkosCompat_KokkosDeviceWrapperNode_Kokkos_Serial_t\n",
      " |\n",
      " |      C++: Tpetra::MultiVector<>::subViewNonConst(const class Teuchos::ArrayView<const unsigned long> &) --> class Teuchos::RCP<class Tpetra::MultiVector<double, int, longlong, Tpetra_KokkosCompat_KokkosSerialWrapperNode> >\n",
      " |\n",
      " |  sumIntoGlobalValue(...)\n",
      " |      sumIntoGlobalValue(*args, **kwargs)\n",
      " |      Overloaded function.\n",
      " |\n",
      " |      1. sumIntoGlobalValue(self: PyTrilinos2.PyTrilinos2.Tpetra.MultiVector_double_int_long_long_Tpetra_KokkosCompat_KokkosDeviceWrapperNode_Kokkos_Serial_t, globalRow: int, col: int, value: float) -> None\n",
      " |\n",
      " |      2. sumIntoGlobalValue(self: PyTrilinos2.PyTrilinos2.Tpetra.MultiVector_double_int_long_long_Tpetra_KokkosCompat_KokkosDeviceWrapperNode_Kokkos_Serial_t, globalRow: int, col: int, value: float, atomic: bool) -> None\n",
      " |\n",
      " |      C++: Tpetra::MultiVector<>::sumIntoGlobalValue(const long long, const unsigned long, const double &, const bool) --> void\n",
      " |\n",
      " |  sumIntoLocalValue(...)\n",
      " |      sumIntoLocalValue(*args, **kwargs)\n",
      " |      Overloaded function.\n",
      " |\n",
      " |      1. sumIntoLocalValue(self: PyTrilinos2.PyTrilinos2.Tpetra.MultiVector_double_int_long_long_Tpetra_KokkosCompat_KokkosDeviceWrapperNode_Kokkos_Serial_t, lclRow: int, col: int, value: float) -> None\n",
      " |\n",
      " |      2. sumIntoLocalValue(self: PyTrilinos2.PyTrilinos2.Tpetra.MultiVector_double_int_long_long_Tpetra_KokkosCompat_KokkosDeviceWrapperNode_Kokkos_Serial_t, lclRow: int, col: int, value: float, atomic: bool) -> None\n",
      " |\n",
      " |      C++: Tpetra::MultiVector<>::sumIntoLocalValue(const int, const unsigned long, const double &, const bool) --> void\n",
      " |\n",
      " |  swap(...)\n",
      " |      swap(self: PyTrilinos2.PyTrilinos2.Tpetra.MultiVector_double_int_long_long_Tpetra_KokkosCompat_KokkosDeviceWrapperNode_Kokkos_Serial_t, mv: PyTrilinos2.PyTrilinos2.Tpetra.MultiVector_double_int_long_long_Tpetra_KokkosCompat_KokkosDeviceWrapperNode_Kokkos_Serial_t) -> None\n",
      " |\n",
      " |      C++: Tpetra::MultiVector<>::swap(class Tpetra::MultiVector<double, int, longlong, Tpetra_KokkosCompat_KokkosSerialWrapperNode> &) --> void\n",
      " |\n",
      " |  transferArrived(...)\n",
      " |      transferArrived(self: PyTrilinos2.PyTrilinos2.Tpetra.MultiVector_double_int_long_long_Tpetra_KokkosCompat_KokkosDeviceWrapperNode_Kokkos_Serial_t) -> bool\n",
      " |\n",
      " |      C++: Tpetra::DistObject<double>::transferArrived() const --> bool\n",
      " |\n",
      " |  update(...)\n",
      " |      update(*args, **kwargs)\n",
      " |      Overloaded function.\n",
      " |\n",
      " |      1. update(self: PyTrilinos2.PyTrilinos2.Tpetra.MultiVector_double_int_long_long_Tpetra_KokkosCompat_KokkosDeviceWrapperNode_Kokkos_Serial_t, alpha: float, A: PyTrilinos2.PyTrilinos2.Tpetra.MultiVector_double_int_long_long_Tpetra_KokkosCompat_KokkosDeviceWrapperNode_Kokkos_Serial_t, beta: float) -> None\n",
      " |\n",
      " |      C++: Tpetra::MultiVector<>::update(const double &, const class Tpetra::MultiVector<double, int, longlong, Tpetra_KokkosCompat_KokkosSerialWrapperNode> &, const double &) --> void\n",
      " |\n",
      " |      2. update(self: PyTrilinos2.PyTrilinos2.Tpetra.MultiVector_double_int_long_long_Tpetra_KokkosCompat_KokkosDeviceWrapperNode_Kokkos_Serial_t, alpha: float, A: PyTrilinos2.PyTrilinos2.Tpetra.MultiVector_double_int_long_long_Tpetra_KokkosCompat_KokkosDeviceWrapperNode_Kokkos_Serial_t, beta: float, B: PyTrilinos2.PyTrilinos2.Tpetra.MultiVector_double_int_long_long_Tpetra_KokkosCompat_KokkosDeviceWrapperNode_Kokkos_Serial_t, gamma: float) -> None\n",
      " |\n",
      " |      C++: Tpetra::MultiVector<>::update(const double &, const class Tpetra::MultiVector<double, int, longlong, Tpetra_KokkosCompat_KokkosSerialWrapperNode> &, const double &, const class Tpetra::MultiVector<double, int, longlong, Tpetra_KokkosCompat_KokkosSerialWrapperNode> &, const double &) --> void\n",
      " |\n",
      " |  ----------------------------------------------------------------------\n",
      " |  Static methods inherited from pybind11_builtins.pybind11_object:\n",
      " |\n",
      " |  __new__(*args, **kwargs) class method of pybind11_builtins.pybind11_object\n",
      " |      Create and return a new object.  See help(type) for accurate signature.\n",
      "\n"
     ]
    }
   ],
   "source": [
    "help(Tpetra.MultiVector[()])"
   ]
  },
  {
   "cell_type": "markdown",
   "id": "58096cf5-5dd3-4635-b039-e8a1ff2cfc32",
   "metadata": {},
   "source": [
    "We set up a MPI communicator and an output stream:"
   ]
  },
  {
   "cell_type": "code",
   "execution_count": 10,
   "id": "470565c4-1728-4859-ae75-cf64dbaa7c04",
   "metadata": {},
   "outputs": [],
   "source": [
    "from mpi4py import MPI\n",
    "from PyTrilinos2 import Teuchos\n",
    "\n",
    "comm = Teuchos.getTeuchosComm(MPI.COMM_WORLD)\n",
    "out = Teuchos.fancyOStream(Teuchos.getCout())"
   ]
  },
  {
   "cell_type": "markdown",
   "id": "6da8f685-98cb-42d1-8951-1c4d789011c5",
   "metadata": {},
   "source": [
    "and a `Tpetra::Map`:"
   ]
  },
  {
   "cell_type": "code",
   "execution_count": 11,
   "id": "a763a72a-2903-41a8-9c33-7f6a42995cd8",
   "metadata": {},
   "outputs": [
    {
     "name": "stdout",
     "output_type": "stream",
     "text": [
      " \"Tpetra::Map\":\n",
      "  Template parameters:\n",
      "   LocalOrdinal: int\n",
      "   GlobalOrdinal: long long\n",
      "   Node: Tpetra::KokkosCompat::KokkosDeviceWrapperNode<Kokkos::Serial, Kokkos::HostSpace>\n",
      "  Global number of entries: 1000\n",
      "  Minimum global index: 0\n",
      "  Maximum global index: 999\n",
      "  Index base: 0\n",
      "  Number of processes: 1\n",
      "  Uniform: false\n",
      "  Contiguous: true\n",
      "  Distributed: false\n"
     ]
    }
   ],
   "source": [
    "numRows = 1000\n",
    "tpetra_map = Tpetra.Map[()](numGlobalElements=numRows, \n",
    "                            numLocalElements=numRows, \n",
    "                            indexBase=0, \n",
    "                            comm=comm)\n",
    "tpetra_map.describe(out)"
   ]
  },
  {
   "cell_type": "code",
   "execution_count": 12,
   "id": "ce93a292-e1e6-4745-982f-83e0b2e98ec1",
   "metadata": {},
   "outputs": [],
   "source": [
    "def assemble1DLaplacian(rowmap):\n",
    "    from PyTrilinos2 import Tpetra\n",
    "\n",
    "    dx = 1/(rowmap.getGlobalNumElements()+1)\n",
    "    A = Tpetra.CrsMatrix[()](rowmap, 3)\n",
    "    for lid in range(rowmap.getMinLocalIndex(), rowmap.getMaxLocalIndex()+1):\n",
    "        gid = rowmap.getGlobalElement(lid)\n",
    "        # matrix stencil [-1 2 -1] / dx^2\n",
    "        indices = [gid]\n",
    "        vals = [2./dx**2]\n",
    "        if gid != rowmap.getMinAllGlobalIndex():\n",
    "            indices.append(gid-1)\n",
    "            vals.append(-1./dx**2)\n",
    "        if gid != rowmap.getMaxAllGlobalIndex():\n",
    "            indices.append(gid+1)\n",
    "            vals.append(-1./dx**2)\n",
    "        A.insertGlobalValues(gid, indices, vals)\n",
    "    A.fillComplete()\n",
    "    return A\n",
    "\n",
    "tpetra_A = assemble1DLaplacian(tpetra_map)\n",
    "\n",
    "tpetra_b = Tpetra.Vector['double'](tpetra_A.getRangeMap())\n",
    "tpetra_b.putScalar(1.0)\n",
    "\n",
    "tpetra_x = Tpetra.Vector['double'](tpetra_A.getDomainMap())\n",
    "tpetra_x.putScalar(0.0)"
   ]
  },
  {
   "cell_type": "markdown",
   "id": "d7a075c7-300a-44f0-8f7f-a67e04e2e65b",
   "metadata": {},
   "source": [
    "We compute the residual and check that x does not solve the system already."
   ]
  },
  {
   "cell_type": "code",
   "execution_count": 13,
   "id": "507b7969-9918-4b2f-8c4f-e3292b3fc7b0",
   "metadata": {},
   "outputs": [
    {
     "name": "stdout",
     "output_type": "stream",
     "text": [
      "|Ax-b|_2 = 31.622776601683793\n"
     ]
    }
   ],
   "source": [
    "tpetra_residual = Tpetra.Vector['double'](tpetra_A.getRangeMap())\n",
    "tpetra_A.apply(tpetra_x, tpetra_residual)\n",
    "tpetra_residual.update(1.0, tpetra_b, -1.0)\n",
    "print(r'|Ax-b|_2 =', tpetra_residual.norm2())"
   ]
  },
  {
   "cell_type": "markdown",
   "id": "f13fe197-9932-4e0d-bfe0-7abfb59b5d4d",
   "metadata": {},
   "source": [
    "### Using a direct solver"
   ]
  },
  {
   "cell_type": "markdown",
   "id": "139363d4-b0bd-4e8e-a169-ae6f38bf0a8a",
   "metadata": {},
   "source": [
    "We want to solve for $x$. \n",
    "Trilinos provides\n",
    "- direct solvers in the package `Amesos2`,\n",
    "- Krylov solvers in `Belos`,\n",
    "- simple preconditioners and incomplete factorizations in `Ifpack2`,\n",
    "- algebraic multigrid in `MueLu`,\n",
    "- and more.\n",
    "\n",
    "Trilinos has a unified solver/preconditioner interface (`Stratimikos`).\n",
    "We will wrap our linear algebra objects from `Tpetra` to `Thyra` so that `Stratimikos` can use them."
   ]
  },
  {
   "cell_type": "code",
   "execution_count": 14,
   "id": "ccd566b6-93d6-49d6-9805-f01a09a8279b",
   "metadata": {},
   "outputs": [],
   "source": [
    "from PyTrilinos2 import Thyra\n",
    "\n",
    "\n",
    "def toThyra(obj):\n",
    "    if isinstance(obj, Tpetra.Map.templatedClasses):\n",
    "        return Thyra.tpetraVectorSpace(obj)\n",
    "    elif isinstance(obj, Tpetra.Vector.templatedClasses):\n",
    "        thyra_map = toThyra(obj.getMap())\n",
    "        return Thyra.tpetraVector(thyra_map, obj)\n",
    "    elif isinstance(obj, Tpetra.MultiVector.templatedClasses):\n",
    "        thyra_map = toThyra(obj.getMap())\n",
    "        return Thyra.tpetraMultiVector(thyra_map, obj)\n",
    "    elif isinstance(obj, Tpetra.CrsMatrix.templatedClasses):\n",
    "        thyra_domainmap = toThyra(obj.getDomainMap())\n",
    "        thyra_rangemap = toThyra(obj.getRangeMap())\n",
    "        return Thyra.tpetraLinearOp(thyra_rangemap, thyra_domainmap, obj)\n",
    "    else:\n",
    "        raise NotImplementedError(type(obj))\n",
    "\n",
    "thyra_x = toThyra(tpetra_x)\n",
    "thyra_b = toThyra(tpetra_b)\n",
    "thyra_A = toThyra(tpetra_A)"
   ]
  },
  {
   "cell_type": "markdown",
   "id": "8073cad5-c17a-4c34-b138-10cfb6f796ab",
   "metadata": {},
   "source": [
    "Now we can set up the linear solver builder:"
   ]
  },
  {
   "cell_type": "code",
   "execution_count": 15,
   "id": "72ee55d5-f213-430e-9612-f65fe45a721f",
   "metadata": {},
   "outputs": [],
   "source": [
    "from PyTrilinos2 import Stratimikos\n",
    "\n",
    "linearSolverBuilder = Stratimikos.LinearSolverBuilder['double']()"
   ]
  },
  {
   "cell_type": "markdown",
   "id": "a72e89b9-8070-422d-849d-4ada25d8603a",
   "metadata": {},
   "source": [
    "We set parameters as a Teuchos ParameterList which is similar to a Python dictionary. \"Amesos2\" will give us a direct solver."
   ]
  },
  {
   "cell_type": "code",
   "execution_count": 16,
   "id": "94b24fe4-50b4-40f8-a15c-8ede30931f29",
   "metadata": {},
   "outputs": [
    {
     "name": "stdout",
     "output_type": "stream",
     "text": [
      "Linear Solver Type = Amesos2   [unused]\n",
      "\n"
     ]
    }
   ],
   "source": [
    "params = Teuchos.ParameterList()\n",
    "params[\"Linear Solver Type\"] = \"Amesos2\"\n",
    "print(params)"
   ]
  },
  {
   "cell_type": "markdown",
   "id": "bbec4f82-cf71-4d73-bc19-6be8fdeb2019",
   "metadata": {},
   "source": [
    "We construct a solver for the matrix $A$:"
   ]
  },
  {
   "cell_type": "code",
   "execution_count": 17,
   "id": "661ad052-2405-4db4-92ac-dcf65fd24a11",
   "metadata": {},
   "outputs": [],
   "source": [
    "linearSolverBuilder.setParameterList(params)\n",
    "solverFactory = Thyra.createLinearSolveStrategy(linearSolverBuilder)\n",
    "thyra_invA = Thyra.linearOpWithSolve(solverFactory, thyra_A)"
   ]
  },
  {
   "cell_type": "markdown",
   "id": "28b7983c-b910-4825-9a01-7d078ef840c6",
   "metadata": {},
   "source": [
    "We can now solve the linear system:"
   ]
  },
  {
   "cell_type": "code",
   "execution_count": 18,
   "id": "98cce4ff-2be6-4339-94f2-28f71899d53f",
   "metadata": {},
   "outputs": [
    {
     "data": {
      "text/plain": [
       "<ESolveStatus.SOLVE_STATUS_CONVERGED: 0>"
      ]
     },
     "execution_count": 18,
     "metadata": {},
     "output_type": "execute_result"
    }
   ],
   "source": [
    "status = thyra_invA.solve(Thyra.NOTRANS, thyra_b, thyra_x)\n",
    "status.solveStatus"
   ]
  },
  {
   "cell_type": "markdown",
   "id": "59345f49-d0e0-432c-9108-57ba92ea793b",
   "metadata": {},
   "source": [
    "We check the result:"
   ]
  },
  {
   "cell_type": "code",
   "execution_count": 19,
   "id": "7d6bcc71-de67-44e2-bcb4-a3eb45db2aa3",
   "metadata": {},
   "outputs": [
    {
     "name": "stdout",
     "output_type": "stream",
     "text": [
      "|Ax-b|_2 = 2.985349686945467e-10\n"
     ]
    }
   ],
   "source": [
    "tpetra_A.apply(tpetra_x, tpetra_residual)\n",
    "tpetra_residual.update(1.0, tpetra_b, -1.0)\n",
    "print(r'|Ax-b|_2 =', tpetra_residual.norm2())"
   ]
  },
  {
   "cell_type": "markdown",
   "id": "619a6cfa-1ada-431a-a59a-d0ba5d445a3f",
   "metadata": {},
   "source": [
    "### Iterative Solvers"
   ]
  },
  {
   "cell_type": "markdown",
   "id": "559038eb-e105-4792-babb-bd4b53a4042f",
   "metadata": {},
   "source": [
    "We print what other solver/preconditioner methods are currently available:"
   ]
  },
  {
   "cell_type": "code",
   "execution_count": 20,
   "id": "4fa8ddc5-4c0e-44e2-a428-17618eb2e47b",
   "metadata": {},
   "outputs": [
    {
     "name": "stdout",
     "output_type": "stream",
     "text": [
      "Linear solvers:\n",
      "{Amesos2, Belos}\n",
      "\n",
      "Solvers available in Amesos2:\n",
      "{KLU2, LAPACK}\n",
      "\n",
      "Solvers available in Belos:\n",
      "{Block GMRES, Pseudo Block GMRES, Block CG, Pseudo Block CG, Pseudo Block Stochastic CG, GCRODR, RCG, MINRES, TFQMR, BiCGStab, Fixed Point, TPETRA GMRES, TPETRA GMRES PIPELINE, TPETRA GMRES SINGLE REDUCE, TPETRA GMRES S-STEP}\n",
      "\n",
      "Preconditioners:\n",
      "{None, Ifpack2}\n",
      "\n",
      "Preconditioners in Ifpack2:\n",
      "{CHEBYSHEV, DENSE, LAPACK, AMESOS2, DIAGONAL, ILUT, RELAXATION, RILUK, RBILUK, MDF, FAST_IC, FAST_ILU, FAST_ILU_B, FAST_ILDL, BLOCK_RELAXATION, BLOCK RELAXATION, BLOCKRELAXATION, DENSE_BLOCK_RELAXATION, DENSE BLOCK RELAXATION, DENSEBLOCKRELAXATION, DATABASE SCHWARZ, SPARSE_BLOCK_RELAXATION, SPARSE BLOCK RELAXATION, SPARSEBLOCKRELAXATION, TRIDI_RELAXATION, TRIDI RELAXATION, TRIDIRELAXATION, TRIDIAGONAL_RELAXATION, TRIDIAGONAL RELAXATION, TRIDIAGONALRELAXATION, BANDED_RELAXATION, BANDED RELAXATION, BANDEDRELAXATION, IDENTITY, IDENTITY_SOLVER, LOCAL SPARSE TRIANGULAR SOLVER, LOCAL_SPARSE_TRIANGULAR_SOLVER, LOCALSPARSETRIANGULARSOLVER, SPARSE TRIANGULAR SOLVER, SPARSE_TRIANGULAR_SOLVER, SPARSETRIANGULARSOLVER, HIPTMAIR, SCHWARZ}\n"
     ]
    }
   ],
   "source": [
    "def getValidOptions(pl, sublists):\n",
    "    for sublist in sublists:\n",
    "        if pl.isSublist(sublist):\n",
    "            pl = pl.get(sublist)\n",
    "        else:\n",
    "            pl = pl.getEntry(sublist)\n",
    "    validator = pl.validator()\n",
    "    if validator is not None:\n",
    "        return validator.validStringValues()\n",
    "    else:\n",
    "        return '{}'\n",
    "\n",
    "validParams = linearSolverBuilder.getValidParameters()\n",
    "\n",
    "print('Linear solvers:')\n",
    "print(getValidOptions(validParams, ('Linear Solver Type', )))\n",
    "\n",
    "print('\\nSolvers available in Amesos2:')\n",
    "print(getValidOptions(validParams, ('Linear Solver Types', 'Amesos2', 'Solver Type')))\n",
    "\n",
    "print('\\nSolvers available in Belos:')\n",
    "print(getValidOptions(validParams, ('Linear Solver Types', 'Belos', 'Solver Type')))\n",
    "\n",
    "print('\\nPreconditioners:')\n",
    "print(getValidOptions(validParams, ('Preconditioner Type', )))\n",
    "\n",
    "print('\\nPreconditioners in Ifpack2:')\n",
    "print(getValidOptions(validParams, ('Preconditioner Types', 'Ifpack2', 'Prec Type')))"
   ]
  },
  {
   "cell_type": "markdown",
   "id": "4a9b2f46-1ef4-48fe-bb0d-fafef719591b",
   "metadata": {},
   "source": [
    "Let's use an interative solver instead with a relaxation preconditioner (Jacobi):"
   ]
  },
  {
   "cell_type": "code",
   "execution_count": 21,
   "id": "327d1a45-40e1-4072-9fd5-5f6cb16dad28",
   "metadata": {},
   "outputs": [
    {
     "name": "stdout",
     "output_type": "stream",
     "text": [
      "Linear Solver Type = Belos   [unused]\n",
      "Preconditioner Type = Ifpack2   [unused]\n",
      "Linear Solver Types -> \n",
      " Belos -> \n",
      "  Solver Type = Pseudo Block CG   [unused]\n",
      "  Solver Types -> \n",
      "   Pseudo Block CG -> \n",
      "    Convergence Tolerance = 1e-08   [unused]\n",
      "    Maximum Iterations = 100   [unused]\n",
      "    Verbosity = 41   [unused]\n",
      "    Output Frequency = 10   [unused]\n",
      "    Output Style = 1   [unused]\n",
      "  VerboseObject -> \n",
      "   Verbosity Level = low   [unused]\n",
      "Preconditioner Types -> \n",
      " Ifpack2 -> \n",
      "  Prec Type = relaxation   [unused]\n",
      "  Ifpack2 Settings -> \n",
      "   relaxation: type = Jacobi   [unused]\n",
      "   relaxation: sweeps = 1   [unused]\n",
      "\n"
     ]
    }
   ],
   "source": [
    "BelosSolver = \"Pseudo Block CG\"\n",
    "\n",
    "params = Teuchos.ParameterList()\n",
    "params[\"Linear Solver Type\"] = \"Belos\"\n",
    "params[\"Linear Solver Types\"] = Teuchos.ParameterList()\n",
    "params[\"Linear Solver Types\"][\"Belos\"] = Teuchos.ParameterList()\n",
    "params[\"Linear Solver Types\"][\"Belos\"][\"Solver Type\"] = BelosSolver\n",
    "params[\"Linear Solver Types\"][\"Belos\"][\"Solver Types\"] = Teuchos.ParameterList()\n",
    "params[\"Linear Solver Types\"][\"Belos\"][\"Solver Types\"][BelosSolver] = Teuchos.ParameterList()\n",
    "params[\"Linear Solver Types\"][\"Belos\"][\"Solver Types\"][BelosSolver][\"Convergence Tolerance\"] = 1e-8\n",
    "params[\"Linear Solver Types\"][\"Belos\"][\"Solver Types\"][BelosSolver][\"Maximum Iterations\"] = 100\n",
    "params[\"Linear Solver Types\"][\"Belos\"][\"Solver Types\"][BelosSolver][\"Verbosity\"] = 41\n",
    "params[\"Linear Solver Types\"][\"Belos\"][\"Solver Types\"][BelosSolver][\"Output Frequency\"] = 10\n",
    "params[\"Linear Solver Types\"][\"Belos\"][\"Solver Types\"][BelosSolver][\"Output Style\"] = 1\n",
    "\n",
    "params[\"Linear Solver Types\"][\"Belos\"][\"VerboseObject\"] = Teuchos.ParameterList()\n",
    "params[\"Linear Solver Types\"][\"Belos\"][\"VerboseObject\"][\"Verbosity Level\"] = \"low\"\n",
    "\n",
    "params[\"Preconditioner Type\"] = \"Ifpack2\"\n",
    "params[\"Preconditioner Types\"] = Teuchos.ParameterList()\n",
    "params[\"Preconditioner Types\"][\"Ifpack2\"] = Teuchos.ParameterList()\n",
    "params[\"Preconditioner Types\"][\"Ifpack2\"][\"Prec Type\"] = \"relaxation\"\n",
    "params[\"Preconditioner Types\"][\"Ifpack2\"][\"Ifpack2 Settings\"] = Teuchos.ParameterList()\n",
    "params[\"Preconditioner Types\"][\"Ifpack2\"][\"Ifpack2 Settings\"][\"relaxation: type\"] = \"Jacobi\"\n",
    "params[\"Preconditioner Types\"][\"Ifpack2\"][\"Ifpack2 Settings\"][\"relaxation: sweeps\"] = 1\n",
    "print(params)"
   ]
  },
  {
   "cell_type": "markdown",
   "id": "559903ca-b56c-43df-8aec-bc0301cf4b7a",
   "metadata": {},
   "source": [
    "We zero the solution vector, construct a new solver and solve the system again."
   ]
  },
  {
   "cell_type": "code",
   "execution_count": 22,
   "id": "b74f567e-b412-4019-ac8e-208bec18f2ba",
   "metadata": {},
   "outputs": [
    {
     "name": "stdout",
     "output_type": "stream",
     "text": [
      "  \n",
      "  *******************************************************\n",
      "  ***** Belos Iterative Solver:  Pseudo Block CG \n",
      "  ***** Maximum Iterations: 100\n",
      "  ***** Block Size: 1\n",
      "  ***** Residual Test: \n",
      "  *****   Test 1 : Belos::StatusTestGenResNorm<>: (2-Norm Imp Res Vec) / (2-Norm Res0), tol = 1e-08\n",
      "  *******************************************************\n",
      "  Iter   0, [ 1] :    1.000000e+00\n",
      "  Iter  10, [ 1] :    2.193582e+01\n",
      "  Iter  20, [ 1] :    2.148860e+01\n",
      "  Iter  30, [ 1] :    2.104139e+01\n",
      "  Iter  40, [ 1] :    2.059417e+01\n",
      "  Iter  50, [ 1] :    2.014696e+01\n",
      "  Iter  60, [ 1] :    1.969975e+01\n",
      "  Iter  70, [ 1] :    1.925253e+01\n",
      "  Iter  80, [ 1] :    1.880532e+01\n",
      "  Iter  90, [ 1] :    1.835810e+01\n",
      "  Iter 100, [ 1] :    1.791089e+01\n",
      "  Passed.......OR Combination -> \n",
      "    Failed.......Number of Iterations = 100 == 100\n",
      "    Unconverged..(2-Norm Imp Res Vec) / (2-Norm Res0)\n",
      "                 residual [ 0 ] = 17.9109 > 1e-08\n",
      "  \n"
     ]
    }
   ],
   "source": [
    "tpetra_x.putScalar(0.)\n",
    "\n",
    "linearSolverBuilder.setParameterList(params)\n",
    "solverFactory = Thyra.createLinearSolveStrategy(linearSolverBuilder)\n",
    "thyra_invA = Thyra.linearOpWithSolve(solverFactory, thyra_A)\n",
    "\n",
    "status = thyra_invA.solve(Thyra.NOTRANS, thyra_b, thyra_x)"
   ]
  },
  {
   "cell_type": "markdown",
   "id": "da7fabd0-0ad1-4b9b-b44e-498f0db0a391",
   "metadata": {},
   "source": [
    "The solve failed due to slow convergence.\n",
    "We need a better preconditioner for our system.\n",
    "Algebraic Multigrid (provided by the package `MueLu`) is a good choice.\n",
    "It is not enabled by default, so we enable it:"
   ]
  },
  {
   "cell_type": "code",
   "execution_count": 23,
   "id": "fb73e501-c42d-46ec-9dd7-764739d47895",
   "metadata": {},
   "outputs": [],
   "source": [
    "Stratimikos.enableMueLu(linearSolverBuilder, \"MueLu\")"
   ]
  },
  {
   "cell_type": "markdown",
   "id": "05d5d5ea-49ed-491e-9924-d92ea397be7b",
   "metadata": {},
   "source": [
    "and set up a solver with AMG as preconditioner:"
   ]
  },
  {
   "cell_type": "code",
   "execution_count": 24,
   "id": "6f82654b-980e-4b2d-a45f-2073daaf5161",
   "metadata": {},
   "outputs": [
    {
     "name": "stdout",
     "output_type": "stream",
     "text": [
      "Linear Solver Type = Belos   [unused]\n",
      "Preconditioner Type = MueLu   [unused]\n",
      "Linear Solver Types -> \n",
      " Belos -> \n",
      "  Solver Type = Pseudo Block CG   [unused]\n",
      "  Solver Types -> \n",
      "   Pseudo Block CG -> \n",
      "    Convergence Tolerance = 1e-08   [unused]\n",
      "    Maximum Iterations = 100   [unused]\n",
      "    Verbosity = 41   [unused]\n",
      "    Output Frequency = 10   [unused]\n",
      "    Output Style = 1   [unused]\n",
      "  VerboseObject -> \n",
      "   Verbosity Level = low   [unused]\n",
      "Preconditioner Types -> \n",
      " MueLu -> \n",
      "  coarse: max size = 200   [unused]\n",
      "  verbosity = medium   [unused]\n",
      "\n"
     ]
    }
   ],
   "source": [
    "BelosSolver = \"Pseudo Block CG\"\n",
    "\n",
    "params = Teuchos.ParameterList()\n",
    "params[\"Linear Solver Type\"] = \"Belos\"\n",
    "params[\"Linear Solver Types\"] = Teuchos.ParameterList()\n",
    "params[\"Linear Solver Types\"][\"Belos\"] = Teuchos.ParameterList()\n",
    "params[\"Linear Solver Types\"][\"Belos\"][\"Solver Type\"] = BelosSolver\n",
    "params[\"Linear Solver Types\"][\"Belos\"][\"Solver Types\"] = Teuchos.ParameterList()\n",
    "params[\"Linear Solver Types\"][\"Belos\"][\"Solver Types\"][BelosSolver] = Teuchos.ParameterList()\n",
    "params[\"Linear Solver Types\"][\"Belos\"][\"Solver Types\"][BelosSolver][\"Convergence Tolerance\"] = 1e-8\n",
    "params[\"Linear Solver Types\"][\"Belos\"][\"Solver Types\"][BelosSolver][\"Maximum Iterations\"] = 100\n",
    "params[\"Linear Solver Types\"][\"Belos\"][\"Solver Types\"][BelosSolver][\"Verbosity\"] = 41\n",
    "params[\"Linear Solver Types\"][\"Belos\"][\"Solver Types\"][BelosSolver][\"Output Frequency\"] = 10\n",
    "params[\"Linear Solver Types\"][\"Belos\"][\"Solver Types\"][BelosSolver][\"Output Style\"] = 1\n",
    "\n",
    "params[\"Linear Solver Types\"][\"Belos\"][\"VerboseObject\"] = Teuchos.ParameterList()\n",
    "params[\"Linear Solver Types\"][\"Belos\"][\"VerboseObject\"][\"Verbosity Level\"] = \"low\"\n",
    "\n",
    "params[\"Preconditioner Type\"] = \"MueLu\"\n",
    "params[\"Preconditioner Types\"] = Teuchos.ParameterList()\n",
    "params[\"Preconditioner Types\"][\"MueLu\"] = Teuchos.ParameterList()\n",
    "params[\"Preconditioner Types\"][\"MueLu\"][\"coarse: max size\"] = 200\n",
    "params[\"Preconditioner Types\"][\"MueLu\"][\"verbosity\"] = \"medium\"\n",
    "print(params)"
   ]
  },
  {
   "cell_type": "code",
   "execution_count": 25,
   "id": "10d309f2-77f4-43ad-99fb-5803967c2f02",
   "metadata": {},
   "outputs": [
    {
     "name": "stdout",
     "output_type": "stream",
     "text": [
      "Clearing old data (if any)\n",
      "\n",
      "Level 0\n",
      "Setup Smoother (MueLu::Ifpack2Smoother{type = RELAXATION})\n",
      "\"Ifpack2::Relaxation\": {Initialized: true, Computed: true, Type: Symmetric Gauss-Seidel, sweeps: 1, damping factor: 1, Global matrix dimensions: [1000, 1000], Global nnz: 2998}\n",
      "\n",
      "Level 1\n",
      "Prolongator smoothing (MueLu::SaPFactory)\n",
      "Matrix filtering (MueLu::FilteredAFactory)\n",
      "Build (MueLu::CoalesceDropFactory)\n",
      "Build (MueLu::AmalgamationFactory)\n",
      "lightweight wrap = 1\n",
      "algorithm = \"classical\" classical algorithm = \"default\": threshold = 0, blocksize = 1\n",
      "Detected 0 Dirichlet nodes\n",
      "Number of dropped entries in unamalgamated matrix graph: 0/2998 (0%)\n",
      "Filtered matrix is not being constructed as no filtering is being done\n",
      "Build (MueLu::TentativePFactory)\n",
      "Build (MueLu::UncoupledAggregationFactory)\n",
      "BuildAggregatesNonKokkos (Phase - (Dirichlet))\n",
      "  aggregated : 0 (phase), 0/1000 [0.00%] (total)\n",
      "  remaining  : 1000\n",
      "  aggregates : 0 (phase), 0 (total)\n",
      "BuildAggregatesNonKokkos (Phase 1 (main))\n",
      "  aggregated : 1000 (phase), 1000/1000 [100.00%] (total)\n",
      "  remaining  : 0\n",
      "  aggregates : 334 (phase), 334 (total)\n",
      "BuildAggregatesNonKokkos (Phase 2a (secondary))\n",
      "  aggregated : 0 (phase), 1000/1000 [100.00%] (total)\n",
      "  remaining  : 0\n",
      "  aggregates : 0 (phase), 334 (total)\n",
      "BuildAggregatesNonKokkos (Phase 2b (expansion))\n",
      "  aggregated : 0 (phase), 1000/1000 [100.00%] (total)\n",
      "  remaining  : 0\n",
      "  aggregates : 0 (phase), 334 (total)\n",
      "BuildAggregatesNonKokkos (Phase 3 (cleanup))\n",
      "  aggregated : 0 (phase), 1000/1000 [100.00%] (total)\n",
      "  remaining  : 0\n",
      "  aggregates : 0 (phase), 334 (total)\n",
      "Nullspace factory (MueLu::NullspaceFactory)\n",
      "Build (MueLu::CoarseMapFactory)\n",
      "Calculating max eigenvalue estimate now (max iters = 10, use point diagonal)\n",
      "Prolongator damping factor = 0.68 (1.33 / 1.94)\n",
      "Transpose P (MueLu::TransPFactory)\n",
      "Computing Ac (MueLu::RAPFactory)\n",
      "Setup Smoother (MueLu::Ifpack2Smoother{type = RELAXATION})\n",
      "\"Ifpack2::Relaxation\": {Initialized: true, Computed: true, Type: Symmetric Gauss-Seidel, sweeps: 1, damping factor: 1, Global matrix dimensions: [334, 334], Global nnz: 1000}\n",
      "\n",
      "Level 2\n",
      "Prolongator smoothing (MueLu::SaPFactory)\n",
      "Matrix filtering (MueLu::FilteredAFactory)\n",
      "Build (MueLu::CoalesceDropFactory)\n",
      "Build (MueLu::AmalgamationFactory)\n",
      "lightweight wrap = 1\n",
      "algorithm = \"classical\" classical algorithm = \"default\": threshold = 0.00, blocksize = 1\n",
      "Detected 0 Dirichlet nodes\n",
      "Number of dropped entries in unamalgamated matrix graph: 0/1000 (0.00%)\n",
      "Filtered matrix is not being constructed as no filtering is being done\n",
      "Build (MueLu::TentativePFactory)\n",
      "Build (MueLu::UncoupledAggregationFactory)\n",
      "BuildAggregatesNonKokkos (Phase - (Dirichlet))\n",
      "  aggregated : 0 (phase), 0/334 [0.00%] (total)\n",
      "  remaining  : 334\n",
      "  aggregates : 0 (phase), 0 (total)\n",
      "BuildAggregatesNonKokkos (Phase 1 (main))\n",
      "  aggregated : 334 (phase), 334/334 [100.00%] (total)\n",
      "  remaining  : 0\n",
      "  aggregates : 112 (phase), 112 (total)\n",
      "BuildAggregatesNonKokkos (Phase 2a (secondary))\n",
      "  aggregated : 0 (phase), 334/334 [100.00%] (total)\n",
      "  remaining  : 0\n",
      "  aggregates : 0 (phase), 112 (total)\n",
      "BuildAggregatesNonKokkos (Phase 2b (expansion))\n",
      "  aggregated : 0 (phase), 334/334 [100.00%] (total)\n",
      "  remaining  : 0\n",
      "  aggregates : 0 (phase), 112 (total)\n",
      "BuildAggregatesNonKokkos (Phase 3 (cleanup))\n",
      "  aggregated : 0 (phase), 334/334 [100.00%] (total)\n",
      "  remaining  : 0\n",
      "  aggregates : 0 (phase), 112 (total)\n",
      "Nullspace factory (MueLu::NullspaceFactory)\n",
      "Build (MueLu::CoarseMapFactory)\n",
      "Calculating max eigenvalue estimate now (max iters = 10, use point diagonal)\n",
      "Prolongator damping factor = 0.69 (1.33 / 1.94)\n",
      "Transpose P (MueLu::TransPFactory)\n",
      "Computing Ac (MueLu::RAPFactory)\n",
      "Max coarse size (<= 200) achieved\n",
      "Setup Smoother (MueLu::Amesos2Smoother{type = Klu})\n",
      "\n",
      "--------------------------------------------------------------------------------\n",
      "---                            Multigrid Summary                             ---\n",
      "--------------------------------------------------------------------------------\n",
      "Number of levels    = 3\n",
      "Operator complexity = 1.44\n",
      "Smoother complexity = 1.93\n",
      "Cycle type          = V\n",
      "\n",
      "level  rows  nnz   nnz/row  c ratio  procs\n",
      "  0  1000  2998  3.00                  1  \n",
      "  1  334   1000  2.99     2.99         1  \n",
      "  2  112   334   2.98     2.98         1  \n",
      "\n",
      "Smoother (level 0) both : \"Ifpack2::Relaxation\": {Initialized: true, Computed: true, Type: Symmetric Gauss-Seidel, sweeps: 1, damping factor: 1, Global matrix dimensions: [1000, 1000], Global nnz: 2998}\n",
      "\n",
      "Smoother (level 1) both : \"Ifpack2::Relaxation\": {Initialized: true, Computed: true, Type: Symmetric Gauss-Seidel, sweeps: 1, damping factor: 1, Global matrix dimensions: [334, 334], Global nnz: 1000}\n",
      "\n",
      "Smoother (level 2) pre  : KLU2 solver interface\n",
      "Smoother (level 2) post : no smoother\n",
      "\n",
      "================================================================================\n",
      "\n",
      "                      TimeMonitor results over 1 processor\n",
      "\n",
      "Timer Name    Global time (num calls)    \n",
      "================================================================================\n",
      "  \n",
      "  *******************************************************\n",
      "  ***** Belos Iterative Solver:  Pseudo Block CG \n",
      "  ***** Maximum Iterations: 100\n",
      "  ***** Block Size: 1\n",
      "  ***** Residual Test: \n",
      "  *****   Test 1 : Belos::StatusTestGenResNorm<>: (2-Norm Imp Res Vec) / (2-Norm Res0), tol = 1e-08\n",
      "  *******************************************************\n",
      "  Iter   0, [ 1] :    1.000000e+00\n",
      "  Iter   7, [ 1] :    4.778350e-09\n",
      "  Passed.......OR Combination -> \n",
      "    OK...........Number of Iterations = 7 < 100\n",
      "    Converged....(2-Norm Imp Res Vec) / (2-Norm Res0)\n",
      "                 residual [ 0 ] = 4.77835e-09 < 1e-08\n",
      "  \n"
     ]
    }
   ],
   "source": [
    "tpetra_x.putScalar(0.)\n",
    "\n",
    "linearSolverBuilder.setParameterList(params)\n",
    "solverFactory = Thyra.createLinearSolveStrategy(linearSolverBuilder)\n",
    "thyra_invA = Thyra.linearOpWithSolve(solverFactory, thyra_A)\n",
    "\n",
    "status = thyra_invA.solve(Thyra.NOTRANS, thyra_b, thyra_x)"
   ]
  },
  {
   "cell_type": "markdown",
   "id": "f55e5622-469d-4bbe-b5a8-d11d73b55bd1",
   "metadata": {},
   "source": [
    "Let's plot the solution. We can access data as NumPy arrays."
   ]
  },
  {
   "cell_type": "code",
   "execution_count": 26,
   "id": "2d2f0321-ab8f-4235-ac2e-7853427a838c",
   "metadata": {},
   "outputs": [],
   "source": [
    "%matplotlib inline\n",
    "import numpy as np\n",
    "import matplotlib.pyplot as plt"
   ]
  },
  {
   "cell_type": "code",
   "execution_count": 27,
   "id": "b50c8563-8f53-4910-ab7a-38403805ae4b",
   "metadata": {},
   "outputs": [
    {
     "data": {
      "image/png": "[encoded data removed]",
      "text/plain": [
       "<Figure size 640x480 with 1 Axes>"
      ]
     },
     "metadata": {},
     "output_type": "display_data"
    }
   ],
   "source": [
    "plt.plot(np.linspace(0,1,tpetra_map.getGlobalNumElements()), \n",
    "         tpetra_x.getLocalViewHost());"
   ]
  },
  {
   "cell_type": "markdown",
   "id": "5ce28105-86cb-4c13-88da-eef4a164d9a6",
   "metadata": {},
   "source": [
    "For a MPI distributed version of this code, check out the test in `packages/PyTrilinos2/test/Stratimikos.py`."
   ]
  }
 ],
 "metadata": {
  "authors": [
   {
    "name": "Christian Glusa"
   }
  ],
  "date": "May 7, 2025",
  "kernelspec": {
   "display_name": "Python 3 (ipykernel)",
   "language": "python",
   "name": "python3"
  },
  "language_info": {
   "codemirror_mode": {
    "name": "ipython",
    "version": 3
   },
   "file_extension": ".py",
   "mimetype": "text/x-python",
   "name": "python",
   "nbconvert_exporter": "python",
   "pygments_lexer": "ipython3",
   "version": "3.12.3"
  },
  "title": "PyTrilinos2 tutorial"
 },
 "nbformat": 4,
 "nbformat_minor": 5
}
