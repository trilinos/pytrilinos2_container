{
 "cells": [
  {
   "cell_type": "markdown",
   "id": "8685ac5e-8a32-48fd-a7af-5c81c60fcb87",
   "metadata": {},
   "source": [
    "# PyTrilinos2 tutorial"
   ]
  },
  {
   "cell_type": "markdown",
   "id": "a5b4a255-31ce-4e23-bdb3-4e6ba38df37c",
   "metadata": {},
   "source": [
    "We will use the Python interface of Trilinos (PyTrilinos2) to set up and solve a linear system (using Tpetra and Thyra) using different linear solvers and preconditioners from Amesos2, Belos, Ifpack2 and MueLu."
   ]
  },
  {
   "cell_type": "markdown",
   "id": "c794c8e9-d6af-4f0f-aff9-dd9be78553d7",
   "metadata": {},
   "source": [
    "We first set up a MPI communicator and an output stream. The MPI communicator has size 1 for now."
   ]
  },
  {
   "cell_type": "code",
   "execution_count": null,
   "id": "42e0cbc9-f0f5-4423-aa72-24a036e8827a",
   "metadata": {},
   "outputs": [],
   "source": [
    "%matplotlib inline\n",
    "import numpy as np\n",
    "import scipy as sp\n",
    "import matplotlib.pyplot as plt\n",
    "# get C-level cout to display\n",
    "%load_ext wurlitzer"
   ]
  },
  {
   "cell_type": "code",
   "execution_count": null,
   "id": "db11c226-1fe3-429b-9c8e-ad84408cdcaa",
   "metadata": {},
   "outputs": [],
   "source": [
    "from mpi4py import MPI\n",
    "from PyTrilinos2 import Teuchos\n",
    "\n",
    "comm = Teuchos.getTeuchosComm(MPI.COMM_WORLD)\n",
    "out = Teuchos.fancyOStream(Teuchos.getCout())\n",
    "print(\"Comm size\", comm.getSize())"
   ]
  },
  {
   "cell_type": "markdown",
   "id": "6a80f23c-f797-44bd-9f8c-57beb38e3343",
   "metadata": {},
   "source": [
    "The Tpetra package provides sparse linear algebra."
   ]
  },
  {
   "cell_type": "code",
   "execution_count": null,
   "id": "8e8e5b8f-01f5-4081-9505-aac16e7f80b6",
   "metadata": {},
   "outputs": [],
   "source": [
    "from PyTrilinos2 import Tpetra"
   ]
  },
  {
   "cell_type": "markdown",
   "id": "d36e40f4-3acc-4b26-b8fe-961e17ad35e7",
   "metadata": {},
   "source": [
    "Tpetra linear algebra classes are templated on\n",
    "- scalar type, e.g. `double`, `float`, `std::complex<double>`\n",
    "- local ordinal type, normally `int`\n",
    "- global ordinal type, normally `long long`\n",
    "- node type, a combination of a Kokkos execution space and memory space.\n",
    "  \n",
    "Python does not have templates, so templated classes are exposed with template parameters as suffixes:"
   ]
  },
  {
   "cell_type": "code",
   "execution_count": null,
   "id": "1e3d05ba-e88a-4eee-9d9e-2f1fbc34fb3c",
   "metadata": {},
   "outputs": [],
   "source": [
    "Tpetra.Map_int_long_long_Tpetra_KokkosCompat_KokkosDeviceWrapperNode_Kokkos_Serial_t"
   ]
  },
  {
   "cell_type": "markdown",
   "id": "134f9811-9166-4935-9002-30be6bc80d60",
   "metadata": {},
   "source": [
    "Since that's not very convenient (and differs from C++) we have some helper classes:"
   ]
  },
  {
   "cell_type": "code",
   "execution_count": null,
   "id": "5a083f26-f35c-43c0-8ce6-8d07102f8257",
   "metadata": {},
   "outputs": [],
   "source": [
    "Tpetra.Map['int', 'long long', 'serial']"
   ]
  },
  {
   "cell_type": "markdown",
   "id": "ab42d242-274a-40ac-8073-f21b2d02f450",
   "metadata": {},
   "source": [
    "We can leverage default values for template arguments to further simplify:"
   ]
  },
  {
   "cell_type": "code",
   "execution_count": null,
   "id": "25c6cb87-0dd0-4901-9228-c934ba938945",
   "metadata": {},
   "outputs": [],
   "source": [
    "Tpetra.Map['int']"
   ]
  },
  {
   "cell_type": "code",
   "execution_count": null,
   "id": "14c22722-beb3-4fd8-a920-9c1082f626b3",
   "metadata": {},
   "outputs": [],
   "source": [
    "Tpetra.Map[()]  # no arguments specified, note ()"
   ]
  },
  {
   "cell_type": "markdown",
   "id": "e732b06c-b1a1-4b35-937c-473458315553",
   "metadata": {},
   "source": [
    "We set up a linear system\n",
    "$$A x = b$$"
   ]
  },
  {
   "cell_type": "code",
   "execution_count": null,
   "id": "ce93a292-e1e6-4745-982f-83e0b2e98ec1",
   "metadata": {},
   "outputs": [],
   "source": [
    "def assemble1DLaplacian(rowmap):\n",
    "    from PyTrilinos2 import Tpetra\n",
    "\n",
    "    A = Tpetra.CrsMatrix[()](rowmap, 3)\n",
    "    for lid in range(rowmap.getMinLocalIndex(), rowmap.getMaxLocalIndex()+1):\n",
    "        gid = rowmap.getGlobalElement(lid)\n",
    "        indices = [gid]\n",
    "        vals = [2.]\n",
    "        if gid > 0:\n",
    "            indices.append(gid-1)\n",
    "            vals.append(-1.)\n",
    "        if gid < rowmap.getMaxAllGlobalIndex():\n",
    "            indices.append(gid+1)\n",
    "            vals.append(-1.)\n",
    "        A.insertGlobalValues(gid, indices, vals)\n",
    "    A.fillComplete()\n",
    "    return A\n",
    "\n",
    "numRows = 1000\n",
    "tpetra_map = Tpetra.Map[()](numGlobalElements=numRows, numLocalElements=numRows, indexBase=0, comm=comm)    \n",
    "tpetra_A = assemble1DLaplacian(tpetra_map)\n",
    "\n",
    "tpetra_b = Tpetra.Vector['double'](tpetra_A.getRangeMap())\n",
    "tpetra_x = Tpetra.Vector['double'](tpetra_A.getDomainMap())\n",
    "tpetra_b.putScalar(1.0)\n",
    "tpetra_x.putScalar(0.0)\n",
    "\n",
    "# compute the residual and check that x does not solve the system already\n",
    "tpetra_residual = Tpetra.Vector['double'](tpetra_A.getRangeMap())\n",
    "tpetra_A.apply(tpetra_x, tpetra_residual)\n",
    "tpetra_residual.update(1.0, tpetra_b, -1.0)\n",
    "print(r'|Ax-b|_2 =', tpetra_residual.norm2())"
   ]
  },
  {
   "cell_type": "markdown",
   "id": "139363d4-b0bd-4e8e-a169-ae6f38bf0a8a",
   "metadata": {},
   "source": [
    "We want to solve for $x$. \n",
    "Trilinos provides\n",
    "- direct solvers in the package Amesos2,\n",
    "- Krylov solvers in Belos,\n",
    "- simple preconditioners and incomplete factorizations in Ifpack2,\n",
    "- algebraic multigrid in MueLu,\n",
    "- and more.\n",
    "\n",
    "Trilinos has a unified solver/preconditioner interface (Stratimikos).\n",
    "We will wrap our linear algebra objects from Tpetra to Thyra so that Stratimikos can use them."
   ]
  },
  {
   "cell_type": "code",
   "execution_count": null,
   "id": "ccd566b6-93d6-49d6-9805-f01a09a8279b",
   "metadata": {},
   "outputs": [],
   "source": [
    "from PyTrilinos2 import Thyra\n",
    "\n",
    "\n",
    "def toThyra(obj):\n",
    "    if isinstance(obj, Tpetra.Map.templatedClasses):\n",
    "        return Thyra.tpetraVectorSpace(obj)\n",
    "    elif isinstance(obj, Tpetra.Vector.templatedClasses):\n",
    "        thyra_map = toThyra(obj.getMap())\n",
    "        return Thyra.tpetraVector(thyra_map, obj)\n",
    "    elif isinstance(obj, Tpetra.MultiVector.templatedClasses):\n",
    "        thyra_map = toThyra(obj.getMap())\n",
    "        return Thyra.tpetraMultiVector(thyra_map, obj)\n",
    "    elif isinstance(obj, Tpetra.CrsMatrix.templatedClasses):\n",
    "        thyra_domainmap = toThyra(obj.getDomainMap())\n",
    "        thyra_rangemap = toThyra(obj.getRangeMap())\n",
    "        return Thyra.tpetraLinearOp(thyra_rangemap, thyra_domainmap, obj)\n",
    "    else:\n",
    "        raise NotImplementedError(type(obj))\n",
    "\n",
    "thyra_x = toThyra(tpetra_x)\n",
    "thyra_b = toThyra(tpetra_b)\n",
    "thyra_A = toThyra(tpetra_A)"
   ]
  },
  {
   "cell_type": "markdown",
   "id": "8073cad5-c17a-4c34-b138-10cfb6f796ab",
   "metadata": {},
   "source": [
    "Now we can set up the linear solver builder:"
   ]
  },
  {
   "cell_type": "code",
   "execution_count": null,
   "id": "72ee55d5-f213-430e-9612-f65fe45a721f",
   "metadata": {},
   "outputs": [],
   "source": [
    "from PyTrilinos2 import Stratimikos\n",
    "\n",
    "linearSolverBuilder = Stratimikos.LinearSolverBuilder['double']()"
   ]
  },
  {
   "cell_type": "markdown",
   "id": "a72e89b9-8070-422d-849d-4ada25d8603a",
   "metadata": {},
   "source": [
    "We set parameters as a Teuchos ParameterList which is similar to a Python dictionary. \"Amesos2\" will give us a direct solver."
   ]
  },
  {
   "cell_type": "code",
   "execution_count": null,
   "id": "94b24fe4-50b4-40f8-a15c-8ede30931f29",
   "metadata": {},
   "outputs": [],
   "source": [
    "params = Teuchos.ParameterList()\n",
    "params[\"Linear Solver Type\"] = \"Amesos2\"\n",
    "print(params)"
   ]
  },
  {
   "cell_type": "code",
   "execution_count": null,
   "id": "661ad052-2405-4db4-92ac-dcf65fd24a11",
   "metadata": {},
   "outputs": [],
   "source": [
    "linearSolverBuilder.setParameterList(params)\n",
    "solverFactory = Thyra.createLinearSolveStrategy(linearSolverBuilder)\n",
    "thyra_invA = Thyra.linearOpWithSolve(solverFactory, thyra_A)"
   ]
  },
  {
   "cell_type": "markdown",
   "id": "28b7983c-b910-4825-9a01-7d078ef840c6",
   "metadata": {},
   "source": [
    "We can now solve the linear system:"
   ]
  },
  {
   "cell_type": "code",
   "execution_count": null,
   "id": "98cce4ff-2be6-4339-94f2-28f71899d53f",
   "metadata": {},
   "outputs": [],
   "source": [
    "status = thyra_invA.solve(Thyra.NOTRANS, thyra_b, thyra_x)\n",
    "status.solveStatus"
   ]
  },
  {
   "cell_type": "markdown",
   "id": "59345f49-d0e0-432c-9108-57ba92ea793b",
   "metadata": {},
   "source": [
    "We check the result:"
   ]
  },
  {
   "cell_type": "code",
   "execution_count": null,
   "id": "7d6bcc71-de67-44e2-bcb4-a3eb45db2aa3",
   "metadata": {},
   "outputs": [],
   "source": [
    "tpetra_A.apply(tpetra_x, tpetra_residual)\n",
    "tpetra_residual.update(1.0, tpetra_b, -1.0)\n",
    "print(r'|Ax-b|_2 =', tpetra_residual.norm2())"
   ]
  },
  {
   "cell_type": "markdown",
   "id": "559038eb-e105-4792-babb-bd4b53a4042f",
   "metadata": {},
   "source": [
    "Print default parameters"
   ]
  },
  {
   "cell_type": "code",
   "execution_count": null,
   "id": "4fc72b2c-bdb9-4021-8e3f-c3d7e57eeeed",
   "metadata": {},
   "outputs": [],
   "source": [
    "print(linearSolverBuilder.getValidParameters())"
   ]
  },
  {
   "cell_type": "code",
   "execution_count": null,
   "id": "fb73e501-c42d-46ec-9dd7-764739d47895",
   "metadata": {},
   "outputs": [],
   "source": [
    "Stratimikos.enableMueLu(linearSolverBuilder, \"MueLu\")"
   ]
  },
  {
   "cell_type": "code",
   "execution_count": null,
   "id": "13a8664b-9734-45fe-a258-22868c9dde47",
   "metadata": {},
   "outputs": [],
   "source": [
    "params = Teuchos.ParameterList()\n",
    "params[\"Preconditioner Type\"] = \"MueLu\"\n",
    "linearSolverBuilder.setParameterList(params)\n",
    "solverName = linearSolverBuilder.getLinearSolveStrategyName()\n",
    "precName = linearSolverBuilder.getPreconditionerStrategyName()\n",
    "solverFactory = Thyra.createLinearSolveStrategy(linearSolverBuilder)\n",
    "solverName, precName"
   ]
  },
  {
   "cell_type": "code",
   "execution_count": null,
   "id": "b71e8827-df7d-40b5-b10b-d9fc95d7a0b5",
   "metadata": {},
   "outputs": [],
   "source": [
    "thyra_invA = Thyra.linearOpWithSolve(solverFactory, thyra_A)"
   ]
  },
  {
   "cell_type": "code",
   "execution_count": null,
   "id": "f3314a11-d57a-45e0-b2b6-ce726beea2f0",
   "metadata": {},
   "outputs": [],
   "source": [
    "status = thyra_invA.solve(Thyra.NOTRANS, thyra_b, thyra_x)\n",
    "status.message"
   ]
  },
  {
   "cell_type": "code",
   "execution_count": null,
   "id": "177836a1-e0f4-43be-898e-0a23c8624c39",
   "metadata": {},
   "outputs": [],
   "source": [
    "tpetra_b.getLocalViewHost()"
   ]
  },
  {
   "cell_type": "code",
   "execution_count": null,
   "id": "5a368c39-ef50-49dd-b504-744d4fa72081",
   "metadata": {},
   "outputs": [],
   "source": [
    "tpetra_x.getLocalViewHost()"
   ]
  },
  {
   "cell_type": "code",
   "execution_count": null,
   "id": "b50c8563-8f53-4910-ab7a-38403805ae4b",
   "metadata": {},
   "outputs": [],
   "source": [
    "plt.plot(tpetra_x.getLocalViewHost())"
   ]
  },
  {
   "cell_type": "code",
   "execution_count": null,
   "id": "913b8d41-62b7-4bde-a13c-f4de1b930430",
   "metadata": {},
   "outputs": [],
   "source": []
  }
 ],
 "metadata": {
  "kernelspec": {
   "display_name": "Python 3 (ipykernel)",
   "language": "python",
   "name": "python3"
  },
  "language_info": {
   "codemirror_mode": {
    "name": "ipython",
    "version": 3
   },
   "file_extension": ".py",
   "mimetype": "text/x-python",
   "name": "python",
   "nbconvert_exporter": "python",
   "pygments_lexer": "ipython3",
   "version": "3.12.3"
  }
 },
 "nbformat": 4,
 "nbformat_minor": 5
}
